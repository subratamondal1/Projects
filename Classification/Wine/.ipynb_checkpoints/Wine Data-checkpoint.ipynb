{
 "cells": [
  {
   "cell_type": "markdown",
   "id": "8fcb7b21-7f6a-4736-8af2-537bb1a573b6",
   "metadata": {},
   "source": [
    "# <center>Wine Data</center>"
   ]
  },
  {
   "cell_type": "markdown",
   "id": "461f6daa-c782-4e9c-b395-f55ac1ade360",
   "metadata": {},
   "source": [
    "# Classification"
   ]
  },
  {
   "cell_type": "markdown",
   "id": "d4d11408-88c8-4a8a-a390-842372205ce4",
   "metadata": {},
   "source": [
    "## Data Understanding"
   ]
  },
  {
   "cell_type": "code",
   "execution_count": 1,
   "id": "e0303715-f154-4500-8497-1ed606a43976",
   "metadata": {},
   "outputs": [],
   "source": [
    "# import libraries\n",
    "import numpy as np\n",
    "import pandas as pd\n",
    "import sklearn.tree as tree\n",
    "import sklearn.metrics as eval_m\n",
    "import sklearn.preprocessing as pre_pro\n",
    "import sklearn.feature_selection as f_selec\n",
    "from sklearn.model_selection import train_test_split"
   ]
  },
  {
   "cell_type": "code",
   "execution_count": 2,
   "id": "c3342d03-14c6-4981-90b2-a86f61b40f07",
   "metadata": {},
   "outputs": [],
   "source": [
    "# features\n",
    "features = [\"bclass\",\"alcohol\",\"mallic_acid\",\"ash\",\"alcalinity_of_ash\",\\\n",
    "                                            \"magnesium\",\"total_phenols\",\"flavanoids\",\"non_flavanoid_phenols\",\\\n",
    "                                            \"proanthocyanins\",\"color_intensity\",\"hue\",\"od\",\"proline\"]\n",
    "\n",
    "# data loading\n",
    "data = pd.read_csv(\"data/wine.csv\", names=features)"
   ]
  },
  {
   "cell_type": "code",
   "execution_count": 3,
   "id": "1a388b53-f730-4cfa-afc0-cc3347f23f84",
   "metadata": {},
   "outputs": [
    {
     "data": {
      "text/html": [
       "<div>\n",
       "<style scoped>\n",
       "    .dataframe tbody tr th:only-of-type {\n",
       "        vertical-align: middle;\n",
       "    }\n",
       "\n",
       "    .dataframe tbody tr th {\n",
       "        vertical-align: top;\n",
       "    }\n",
       "\n",
       "    .dataframe thead th {\n",
       "        text-align: right;\n",
       "    }\n",
       "</style>\n",
       "<table border=\"1\" class=\"dataframe\">\n",
       "  <thead>\n",
       "    <tr style=\"text-align: right;\">\n",
       "      <th></th>\n",
       "      <th>bclass</th>\n",
       "      <th>alcohol</th>\n",
       "      <th>mallic_acid</th>\n",
       "      <th>ash</th>\n",
       "      <th>alcalinity_of_ash</th>\n",
       "      <th>magnesium</th>\n",
       "      <th>total_phenols</th>\n",
       "      <th>flavanoids</th>\n",
       "      <th>non_flavanoid_phenols</th>\n",
       "      <th>proanthocyanins</th>\n",
       "      <th>color_intensity</th>\n",
       "      <th>hue</th>\n",
       "      <th>od</th>\n",
       "      <th>proline</th>\n",
       "    </tr>\n",
       "  </thead>\n",
       "  <tbody>\n",
       "    <tr>\n",
       "      <th>0</th>\n",
       "      <td>1</td>\n",
       "      <td>14.23</td>\n",
       "      <td>1.71</td>\n",
       "      <td>2.43</td>\n",
       "      <td>15.6</td>\n",
       "      <td>127</td>\n",
       "      <td>2.80</td>\n",
       "      <td>3.06</td>\n",
       "      <td>0.28</td>\n",
       "      <td>2.29</td>\n",
       "      <td>5.64</td>\n",
       "      <td>1.04</td>\n",
       "      <td>3.92</td>\n",
       "      <td>1065</td>\n",
       "    </tr>\n",
       "    <tr>\n",
       "      <th>1</th>\n",
       "      <td>1</td>\n",
       "      <td>13.20</td>\n",
       "      <td>1.78</td>\n",
       "      <td>2.14</td>\n",
       "      <td>11.2</td>\n",
       "      <td>100</td>\n",
       "      <td>2.65</td>\n",
       "      <td>2.76</td>\n",
       "      <td>0.26</td>\n",
       "      <td>1.28</td>\n",
       "      <td>4.38</td>\n",
       "      <td>1.05</td>\n",
       "      <td>3.40</td>\n",
       "      <td>1050</td>\n",
       "    </tr>\n",
       "    <tr>\n",
       "      <th>2</th>\n",
       "      <td>1</td>\n",
       "      <td>13.16</td>\n",
       "      <td>2.36</td>\n",
       "      <td>2.67</td>\n",
       "      <td>18.6</td>\n",
       "      <td>101</td>\n",
       "      <td>2.80</td>\n",
       "      <td>3.24</td>\n",
       "      <td>0.30</td>\n",
       "      <td>2.81</td>\n",
       "      <td>5.68</td>\n",
       "      <td>1.03</td>\n",
       "      <td>3.17</td>\n",
       "      <td>1185</td>\n",
       "    </tr>\n",
       "    <tr>\n",
       "      <th>3</th>\n",
       "      <td>1</td>\n",
       "      <td>14.37</td>\n",
       "      <td>1.95</td>\n",
       "      <td>2.50</td>\n",
       "      <td>16.8</td>\n",
       "      <td>113</td>\n",
       "      <td>3.85</td>\n",
       "      <td>3.49</td>\n",
       "      <td>0.24</td>\n",
       "      <td>2.18</td>\n",
       "      <td>7.80</td>\n",
       "      <td>0.86</td>\n",
       "      <td>3.45</td>\n",
       "      <td>1480</td>\n",
       "    </tr>\n",
       "    <tr>\n",
       "      <th>4</th>\n",
       "      <td>1</td>\n",
       "      <td>13.24</td>\n",
       "      <td>2.59</td>\n",
       "      <td>2.87</td>\n",
       "      <td>21.0</td>\n",
       "      <td>118</td>\n",
       "      <td>2.80</td>\n",
       "      <td>2.69</td>\n",
       "      <td>0.39</td>\n",
       "      <td>1.82</td>\n",
       "      <td>4.32</td>\n",
       "      <td>1.04</td>\n",
       "      <td>2.93</td>\n",
       "      <td>735</td>\n",
       "    </tr>\n",
       "  </tbody>\n",
       "</table>\n",
       "</div>"
      ],
      "text/plain": [
       "   bclass  alcohol  mallic_acid   ash  alcalinity_of_ash  magnesium  \\\n",
       "0       1    14.23         1.71  2.43               15.6        127   \n",
       "1       1    13.20         1.78  2.14               11.2        100   \n",
       "2       1    13.16         2.36  2.67               18.6        101   \n",
       "3       1    14.37         1.95  2.50               16.8        113   \n",
       "4       1    13.24         2.59  2.87               21.0        118   \n",
       "\n",
       "   total_phenols  flavanoids  non_flavanoid_phenols  proanthocyanins  \\\n",
       "0           2.80        3.06                   0.28             2.29   \n",
       "1           2.65        2.76                   0.26             1.28   \n",
       "2           2.80        3.24                   0.30             2.81   \n",
       "3           3.85        3.49                   0.24             2.18   \n",
       "4           2.80        2.69                   0.39             1.82   \n",
       "\n",
       "   color_intensity   hue    od  proline  \n",
       "0             5.64  1.04  3.92     1065  \n",
       "1             4.38  1.05  3.40     1050  \n",
       "2             5.68  1.03  3.17     1185  \n",
       "3             7.80  0.86  3.45     1480  \n",
       "4             4.32  1.04  2.93      735  "
      ]
     },
     "execution_count": 3,
     "metadata": {},
     "output_type": "execute_result"
    }
   ],
   "source": [
    "# display first five rows\n",
    "data.head()"
   ]
  },
  {
   "cell_type": "markdown",
   "id": "d2f760e6-c714-4d9e-b898-fbcb0ff9a968",
   "metadata": {
    "tags": []
   },
   "source": [
    "### [Data Description](https://archive.ics.uci.edu/ml/datasets/wine)\n",
    "These data are the results of a chemical analysis of wines grown in the same region in Italy but derived from three different cultivars. The analysis determined the quantities of 13 constituents found in each of the three types of wines. \n",
    "\n",
    "I think that the initial data set ha"
   ]
  },
  {
   "cell_type": "markdown",
   "id": "ab0607c3-dc70-4776-8a25-72f61db5f2d8",
   "metadata": {},
   "source": [
    "1) Alcohol \n",
    "2) Malic acid \n",
    "3) Ash \n",
    "4) Alcalinity of ash \n",
    "5) Magnesium \n",
    "6) Total phenols \n",
    "7) Flavanoids \n",
    "8) Nonflavanoid phenols \n",
    "9) Proanthocyanins \n",
    "10) Color intensity \n",
    "11) Hue \n",
    "12) OD280/OD315 of diluted wines \n",
    "13) Proline "
   ]
  },
  {
   "cell_type": "markdown",
   "id": "9b30b055-5079-4cf6-8052-071faf5dd94d",
   "metadata": {},
   "source": [
    "## Task\n",
    "`Classification Problem`"
   ]
  },
  {
   "cell_type": "markdown",
   "id": "c4e21bf7-0d8a-40d2-9d8c-5dfb40964ba7",
   "metadata": {},
   "source": [
    "## Data Preparation"
   ]
  },
  {
   "cell_type": "code",
   "execution_count": 4,
   "id": "7d0392bc-4936-4bb7-9569-7eec89f2933f",
   "metadata": {},
   "outputs": [
    {
     "data": {
      "text/html": [
       "<div>\n",
       "<style scoped>\n",
       "    .dataframe tbody tr th:only-of-type {\n",
       "        vertical-align: middle;\n",
       "    }\n",
       "\n",
       "    .dataframe tbody tr th {\n",
       "        vertical-align: top;\n",
       "    }\n",
       "\n",
       "    .dataframe thead th {\n",
       "        text-align: right;\n",
       "    }\n",
       "</style>\n",
       "<table border=\"1\" class=\"dataframe\">\n",
       "  <thead>\n",
       "    <tr style=\"text-align: right;\">\n",
       "      <th></th>\n",
       "      <th>count</th>\n",
       "      <th>mean</th>\n",
       "      <th>std</th>\n",
       "      <th>min</th>\n",
       "      <th>25%</th>\n",
       "      <th>50%</th>\n",
       "      <th>75%</th>\n",
       "      <th>max</th>\n",
       "    </tr>\n",
       "  </thead>\n",
       "  <tbody>\n",
       "    <tr>\n",
       "      <th>bclass</th>\n",
       "      <td>178.0</td>\n",
       "      <td>1.938202</td>\n",
       "      <td>0.775035</td>\n",
       "      <td>1.00</td>\n",
       "      <td>1.0000</td>\n",
       "      <td>2.000</td>\n",
       "      <td>3.0000</td>\n",
       "      <td>3.00</td>\n",
       "    </tr>\n",
       "    <tr>\n",
       "      <th>alcohol</th>\n",
       "      <td>178.0</td>\n",
       "      <td>13.000618</td>\n",
       "      <td>0.811827</td>\n",
       "      <td>11.03</td>\n",
       "      <td>12.3625</td>\n",
       "      <td>13.050</td>\n",
       "      <td>13.6775</td>\n",
       "      <td>14.83</td>\n",
       "    </tr>\n",
       "    <tr>\n",
       "      <th>mallic_acid</th>\n",
       "      <td>178.0</td>\n",
       "      <td>2.336348</td>\n",
       "      <td>1.117146</td>\n",
       "      <td>0.74</td>\n",
       "      <td>1.6025</td>\n",
       "      <td>1.865</td>\n",
       "      <td>3.0825</td>\n",
       "      <td>5.80</td>\n",
       "    </tr>\n",
       "    <tr>\n",
       "      <th>ash</th>\n",
       "      <td>178.0</td>\n",
       "      <td>2.366517</td>\n",
       "      <td>0.274344</td>\n",
       "      <td>1.36</td>\n",
       "      <td>2.2100</td>\n",
       "      <td>2.360</td>\n",
       "      <td>2.5575</td>\n",
       "      <td>3.23</td>\n",
       "    </tr>\n",
       "    <tr>\n",
       "      <th>alcalinity_of_ash</th>\n",
       "      <td>178.0</td>\n",
       "      <td>19.494944</td>\n",
       "      <td>3.339564</td>\n",
       "      <td>10.60</td>\n",
       "      <td>17.2000</td>\n",
       "      <td>19.500</td>\n",
       "      <td>21.5000</td>\n",
       "      <td>30.00</td>\n",
       "    </tr>\n",
       "    <tr>\n",
       "      <th>magnesium</th>\n",
       "      <td>178.0</td>\n",
       "      <td>99.741573</td>\n",
       "      <td>14.282484</td>\n",
       "      <td>70.00</td>\n",
       "      <td>88.0000</td>\n",
       "      <td>98.000</td>\n",
       "      <td>107.0000</td>\n",
       "      <td>162.00</td>\n",
       "    </tr>\n",
       "    <tr>\n",
       "      <th>total_phenols</th>\n",
       "      <td>178.0</td>\n",
       "      <td>2.295112</td>\n",
       "      <td>0.625851</td>\n",
       "      <td>0.98</td>\n",
       "      <td>1.7425</td>\n",
       "      <td>2.355</td>\n",
       "      <td>2.8000</td>\n",
       "      <td>3.88</td>\n",
       "    </tr>\n",
       "    <tr>\n",
       "      <th>flavanoids</th>\n",
       "      <td>178.0</td>\n",
       "      <td>2.029270</td>\n",
       "      <td>0.998859</td>\n",
       "      <td>0.34</td>\n",
       "      <td>1.2050</td>\n",
       "      <td>2.135</td>\n",
       "      <td>2.8750</td>\n",
       "      <td>5.08</td>\n",
       "    </tr>\n",
       "    <tr>\n",
       "      <th>non_flavanoid_phenols</th>\n",
       "      <td>178.0</td>\n",
       "      <td>0.361854</td>\n",
       "      <td>0.124453</td>\n",
       "      <td>0.13</td>\n",
       "      <td>0.2700</td>\n",
       "      <td>0.340</td>\n",
       "      <td>0.4375</td>\n",
       "      <td>0.66</td>\n",
       "    </tr>\n",
       "    <tr>\n",
       "      <th>proanthocyanins</th>\n",
       "      <td>178.0</td>\n",
       "      <td>1.590899</td>\n",
       "      <td>0.572359</td>\n",
       "      <td>0.41</td>\n",
       "      <td>1.2500</td>\n",
       "      <td>1.555</td>\n",
       "      <td>1.9500</td>\n",
       "      <td>3.58</td>\n",
       "    </tr>\n",
       "    <tr>\n",
       "      <th>color_intensity</th>\n",
       "      <td>178.0</td>\n",
       "      <td>5.058090</td>\n",
       "      <td>2.318286</td>\n",
       "      <td>1.28</td>\n",
       "      <td>3.2200</td>\n",
       "      <td>4.690</td>\n",
       "      <td>6.2000</td>\n",
       "      <td>13.00</td>\n",
       "    </tr>\n",
       "    <tr>\n",
       "      <th>hue</th>\n",
       "      <td>178.0</td>\n",
       "      <td>0.957449</td>\n",
       "      <td>0.228572</td>\n",
       "      <td>0.48</td>\n",
       "      <td>0.7825</td>\n",
       "      <td>0.965</td>\n",
       "      <td>1.1200</td>\n",
       "      <td>1.71</td>\n",
       "    </tr>\n",
       "    <tr>\n",
       "      <th>od</th>\n",
       "      <td>178.0</td>\n",
       "      <td>2.611685</td>\n",
       "      <td>0.709990</td>\n",
       "      <td>1.27</td>\n",
       "      <td>1.9375</td>\n",
       "      <td>2.780</td>\n",
       "      <td>3.1700</td>\n",
       "      <td>4.00</td>\n",
       "    </tr>\n",
       "    <tr>\n",
       "      <th>proline</th>\n",
       "      <td>178.0</td>\n",
       "      <td>746.893258</td>\n",
       "      <td>314.907474</td>\n",
       "      <td>278.00</td>\n",
       "      <td>500.5000</td>\n",
       "      <td>673.500</td>\n",
       "      <td>985.0000</td>\n",
       "      <td>1680.00</td>\n",
       "    </tr>\n",
       "  </tbody>\n",
       "</table>\n",
       "</div>"
      ],
      "text/plain": [
       "                       count        mean         std     min       25%  \\\n",
       "bclass                 178.0    1.938202    0.775035    1.00    1.0000   \n",
       "alcohol                178.0   13.000618    0.811827   11.03   12.3625   \n",
       "mallic_acid            178.0    2.336348    1.117146    0.74    1.6025   \n",
       "ash                    178.0    2.366517    0.274344    1.36    2.2100   \n",
       "alcalinity_of_ash      178.0   19.494944    3.339564   10.60   17.2000   \n",
       "magnesium              178.0   99.741573   14.282484   70.00   88.0000   \n",
       "total_phenols          178.0    2.295112    0.625851    0.98    1.7425   \n",
       "flavanoids             178.0    2.029270    0.998859    0.34    1.2050   \n",
       "non_flavanoid_phenols  178.0    0.361854    0.124453    0.13    0.2700   \n",
       "proanthocyanins        178.0    1.590899    0.572359    0.41    1.2500   \n",
       "color_intensity        178.0    5.058090    2.318286    1.28    3.2200   \n",
       "hue                    178.0    0.957449    0.228572    0.48    0.7825   \n",
       "od                     178.0    2.611685    0.709990    1.27    1.9375   \n",
       "proline                178.0  746.893258  314.907474  278.00  500.5000   \n",
       "\n",
       "                           50%       75%      max  \n",
       "bclass                   2.000    3.0000     3.00  \n",
       "alcohol                 13.050   13.6775    14.83  \n",
       "mallic_acid              1.865    3.0825     5.80  \n",
       "ash                      2.360    2.5575     3.23  \n",
       "alcalinity_of_ash       19.500   21.5000    30.00  \n",
       "magnesium               98.000  107.0000   162.00  \n",
       "total_phenols            2.355    2.8000     3.88  \n",
       "flavanoids               2.135    2.8750     5.08  \n",
       "non_flavanoid_phenols    0.340    0.4375     0.66  \n",
       "proanthocyanins          1.555    1.9500     3.58  \n",
       "color_intensity          4.690    6.2000    13.00  \n",
       "hue                      0.965    1.1200     1.71  \n",
       "od                       2.780    3.1700     4.00  \n",
       "proline                673.500  985.0000  1680.00  "
      ]
     },
     "execution_count": 4,
     "metadata": {},
     "output_type": "execute_result"
    }
   ],
   "source": [
    "# statistical measures\n",
    "data.describe().T"
   ]
  },
  {
   "cell_type": "code",
   "execution_count": 5,
   "id": "9f5824fe-753f-4111-a075-012ddd2c42a8",
   "metadata": {},
   "outputs": [
    {
     "data": {
      "text/plain": [
       "array([1, 2, 3])"
      ]
     },
     "execution_count": 5,
     "metadata": {},
     "output_type": "execute_result"
    }
   ],
   "source": [
    "# unique values in \"bclass\" feature\n",
    "data.bclass.unique()"
   ]
  },
  {
   "cell_type": "code",
   "execution_count": 6,
   "id": "7aa2acd6-620b-4a01-8907-402be33dcd03",
   "metadata": {},
   "outputs": [],
   "source": [
    "# independent features\n",
    "X = data.drop(\"bclass\",axis=1)\n",
    "X_cols = list(X.columns)\n",
    "\n",
    "# dependent or target feature\n",
    "y = data.bclass"
   ]
  },
  {
   "cell_type": "code",
   "execution_count": 7,
   "id": "8e13241f-a51e-4c5f-8438-80f766751cfd",
   "metadata": {},
   "outputs": [
    {
     "data": {
      "text/html": [
       "<div>\n",
       "<style scoped>\n",
       "    .dataframe tbody tr th:only-of-type {\n",
       "        vertical-align: middle;\n",
       "    }\n",
       "\n",
       "    .dataframe tbody tr th {\n",
       "        vertical-align: top;\n",
       "    }\n",
       "\n",
       "    .dataframe thead th {\n",
       "        text-align: right;\n",
       "    }\n",
       "</style>\n",
       "<table border=\"1\" class=\"dataframe\">\n",
       "  <thead>\n",
       "    <tr style=\"text-align: right;\">\n",
       "      <th></th>\n",
       "      <th>alcohol</th>\n",
       "      <th>mallic_acid</th>\n",
       "      <th>ash</th>\n",
       "      <th>alcalinity_of_ash</th>\n",
       "      <th>magnesium</th>\n",
       "      <th>total_phenols</th>\n",
       "      <th>flavanoids</th>\n",
       "      <th>non_flavanoid_phenols</th>\n",
       "      <th>proanthocyanins</th>\n",
       "      <th>color_intensity</th>\n",
       "      <th>hue</th>\n",
       "      <th>od</th>\n",
       "      <th>proline</th>\n",
       "    </tr>\n",
       "  </thead>\n",
       "  <tbody>\n",
       "    <tr>\n",
       "      <th>0</th>\n",
       "      <td>14.23</td>\n",
       "      <td>1.71</td>\n",
       "      <td>2.43</td>\n",
       "      <td>15.6</td>\n",
       "      <td>127</td>\n",
       "      <td>2.80</td>\n",
       "      <td>3.06</td>\n",
       "      <td>0.28</td>\n",
       "      <td>2.29</td>\n",
       "      <td>5.64</td>\n",
       "      <td>1.04</td>\n",
       "      <td>3.92</td>\n",
       "      <td>1065</td>\n",
       "    </tr>\n",
       "    <tr>\n",
       "      <th>1</th>\n",
       "      <td>13.20</td>\n",
       "      <td>1.78</td>\n",
       "      <td>2.14</td>\n",
       "      <td>11.2</td>\n",
       "      <td>100</td>\n",
       "      <td>2.65</td>\n",
       "      <td>2.76</td>\n",
       "      <td>0.26</td>\n",
       "      <td>1.28</td>\n",
       "      <td>4.38</td>\n",
       "      <td>1.05</td>\n",
       "      <td>3.40</td>\n",
       "      <td>1050</td>\n",
       "    </tr>\n",
       "    <tr>\n",
       "      <th>2</th>\n",
       "      <td>13.16</td>\n",
       "      <td>2.36</td>\n",
       "      <td>2.67</td>\n",
       "      <td>18.6</td>\n",
       "      <td>101</td>\n",
       "      <td>2.80</td>\n",
       "      <td>3.24</td>\n",
       "      <td>0.30</td>\n",
       "      <td>2.81</td>\n",
       "      <td>5.68</td>\n",
       "      <td>1.03</td>\n",
       "      <td>3.17</td>\n",
       "      <td>1185</td>\n",
       "    </tr>\n",
       "    <tr>\n",
       "      <th>3</th>\n",
       "      <td>14.37</td>\n",
       "      <td>1.95</td>\n",
       "      <td>2.50</td>\n",
       "      <td>16.8</td>\n",
       "      <td>113</td>\n",
       "      <td>3.85</td>\n",
       "      <td>3.49</td>\n",
       "      <td>0.24</td>\n",
       "      <td>2.18</td>\n",
       "      <td>7.80</td>\n",
       "      <td>0.86</td>\n",
       "      <td>3.45</td>\n",
       "      <td>1480</td>\n",
       "    </tr>\n",
       "    <tr>\n",
       "      <th>4</th>\n",
       "      <td>13.24</td>\n",
       "      <td>2.59</td>\n",
       "      <td>2.87</td>\n",
       "      <td>21.0</td>\n",
       "      <td>118</td>\n",
       "      <td>2.80</td>\n",
       "      <td>2.69</td>\n",
       "      <td>0.39</td>\n",
       "      <td>1.82</td>\n",
       "      <td>4.32</td>\n",
       "      <td>1.04</td>\n",
       "      <td>2.93</td>\n",
       "      <td>735</td>\n",
       "    </tr>\n",
       "  </tbody>\n",
       "</table>\n",
       "</div>"
      ],
      "text/plain": [
       "   alcohol  mallic_acid   ash  alcalinity_of_ash  magnesium  total_phenols  \\\n",
       "0    14.23         1.71  2.43               15.6        127           2.80   \n",
       "1    13.20         1.78  2.14               11.2        100           2.65   \n",
       "2    13.16         2.36  2.67               18.6        101           2.80   \n",
       "3    14.37         1.95  2.50               16.8        113           3.85   \n",
       "4    13.24         2.59  2.87               21.0        118           2.80   \n",
       "\n",
       "   flavanoids  non_flavanoid_phenols  proanthocyanins  color_intensity   hue  \\\n",
       "0        3.06                   0.28             2.29             5.64  1.04   \n",
       "1        2.76                   0.26             1.28             4.38  1.05   \n",
       "2        3.24                   0.30             2.81             5.68  1.03   \n",
       "3        3.49                   0.24             2.18             7.80  0.86   \n",
       "4        2.69                   0.39             1.82             4.32  1.04   \n",
       "\n",
       "     od  proline  \n",
       "0  3.92     1065  \n",
       "1  3.40     1050  \n",
       "2  3.17     1185  \n",
       "3  3.45     1480  \n",
       "4  2.93      735  "
      ]
     },
     "execution_count": 7,
     "metadata": {},
     "output_type": "execute_result"
    }
   ],
   "source": [
    "# display first five rows of independent features\n",
    "X.head()"
   ]
  },
  {
   "cell_type": "code",
   "execution_count": 8,
   "id": "ea6e5e31-424d-4fbe-bb74-befa0bfd17f5",
   "metadata": {},
   "outputs": [
    {
     "data": {
      "text/plain": [
       "0    1\n",
       "1    1\n",
       "2    1\n",
       "3    1\n",
       "4    1\n",
       "Name: bclass, dtype: int64"
      ]
     },
     "execution_count": 8,
     "metadata": {},
     "output_type": "execute_result"
    }
   ],
   "source": [
    "# display first five rows of dependent features\n",
    "y.head()"
   ]
  },
  {
   "cell_type": "markdown",
   "id": "47e7fcd5-ba13-47dd-b8ac-a2fe5cfa6d2f",
   "metadata": {
    "tags": []
   },
   "source": [
    "### Feature Scaling\n",
    "The purpose of this is to bring all the data in same range so there aren't any unfairness. We will use min max scaler.</br>\n",
    "\n",
    "`MinMaxScaler()` : Transform features by scaling each feature to a given range."
   ]
  },
  {
   "cell_type": "code",
   "execution_count": 9,
   "id": "d083873d-1eb2-4f84-afb5-370d2357fc96",
   "metadata": {},
   "outputs": [],
   "source": [
    "# min max scaler : chosing range from 0 to 3 since the target class also has that range, we can choose any range though\n",
    "min_max_scaler = pre_pro.MinMaxScaler(feature_range=(0,3))"
   ]
  },
  {
   "cell_type": "code",
   "execution_count": 10,
   "id": "0594c0df-fe41-474f-8177-e095a435ce5c",
   "metadata": {},
   "outputs": [],
   "source": [
    "# Fit to data, then transform it.\n",
    "X[X_cols] = min_max_scaler.fit_transform(X)"
   ]
  },
  {
   "cell_type": "code",
   "execution_count": 11,
   "id": "f0061be2-e5b8-4482-a97e-d23f505bd4c9",
   "metadata": {},
   "outputs": [
    {
     "data": {
      "text/html": [
       "<div>\n",
       "<style scoped>\n",
       "    .dataframe tbody tr th:only-of-type {\n",
       "        vertical-align: middle;\n",
       "    }\n",
       "\n",
       "    .dataframe tbody tr th {\n",
       "        vertical-align: top;\n",
       "    }\n",
       "\n",
       "    .dataframe thead th {\n",
       "        text-align: right;\n",
       "    }\n",
       "</style>\n",
       "<table border=\"1\" class=\"dataframe\">\n",
       "  <thead>\n",
       "    <tr style=\"text-align: right;\">\n",
       "      <th></th>\n",
       "      <th>alcohol</th>\n",
       "      <th>mallic_acid</th>\n",
       "      <th>ash</th>\n",
       "      <th>alcalinity_of_ash</th>\n",
       "      <th>magnesium</th>\n",
       "      <th>total_phenols</th>\n",
       "      <th>flavanoids</th>\n",
       "      <th>non_flavanoid_phenols</th>\n",
       "      <th>proanthocyanins</th>\n",
       "      <th>color_intensity</th>\n",
       "      <th>hue</th>\n",
       "      <th>od</th>\n",
       "      <th>proline</th>\n",
       "    </tr>\n",
       "  </thead>\n",
       "  <tbody>\n",
       "    <tr>\n",
       "      <th>0</th>\n",
       "      <td>2.526316</td>\n",
       "      <td>0.575099</td>\n",
       "      <td>1.716578</td>\n",
       "      <td>0.773196</td>\n",
       "      <td>1.858696</td>\n",
       "      <td>1.882759</td>\n",
       "      <td>1.721519</td>\n",
       "      <td>0.849057</td>\n",
       "      <td>1.779180</td>\n",
       "      <td>1.116041</td>\n",
       "      <td>1.365854</td>\n",
       "      <td>2.912088</td>\n",
       "      <td>1.684023</td>\n",
       "    </tr>\n",
       "    <tr>\n",
       "      <th>1</th>\n",
       "      <td>1.713158</td>\n",
       "      <td>0.616601</td>\n",
       "      <td>1.251337</td>\n",
       "      <td>0.092784</td>\n",
       "      <td>0.978261</td>\n",
       "      <td>1.727586</td>\n",
       "      <td>1.531646</td>\n",
       "      <td>0.735849</td>\n",
       "      <td>0.823344</td>\n",
       "      <td>0.793515</td>\n",
       "      <td>1.390244</td>\n",
       "      <td>2.340659</td>\n",
       "      <td>1.651926</td>\n",
       "    </tr>\n",
       "    <tr>\n",
       "      <th>2</th>\n",
       "      <td>1.681579</td>\n",
       "      <td>0.960474</td>\n",
       "      <td>2.101604</td>\n",
       "      <td>1.237113</td>\n",
       "      <td>1.010870</td>\n",
       "      <td>1.882759</td>\n",
       "      <td>1.835443</td>\n",
       "      <td>0.962264</td>\n",
       "      <td>2.271293</td>\n",
       "      <td>1.126280</td>\n",
       "      <td>1.341463</td>\n",
       "      <td>2.087912</td>\n",
       "      <td>1.940799</td>\n",
       "    </tr>\n",
       "    <tr>\n",
       "      <th>3</th>\n",
       "      <td>2.636842</td>\n",
       "      <td>0.717391</td>\n",
       "      <td>1.828877</td>\n",
       "      <td>0.958763</td>\n",
       "      <td>1.402174</td>\n",
       "      <td>2.968966</td>\n",
       "      <td>1.993671</td>\n",
       "      <td>0.622642</td>\n",
       "      <td>1.675079</td>\n",
       "      <td>1.668942</td>\n",
       "      <td>0.926829</td>\n",
       "      <td>2.395604</td>\n",
       "      <td>2.572040</td>\n",
       "    </tr>\n",
       "    <tr>\n",
       "      <th>4</th>\n",
       "      <td>1.744737</td>\n",
       "      <td>1.096838</td>\n",
       "      <td>2.422460</td>\n",
       "      <td>1.608247</td>\n",
       "      <td>1.565217</td>\n",
       "      <td>1.882759</td>\n",
       "      <td>1.487342</td>\n",
       "      <td>1.471698</td>\n",
       "      <td>1.334385</td>\n",
       "      <td>0.778157</td>\n",
       "      <td>1.365854</td>\n",
       "      <td>1.824176</td>\n",
       "      <td>0.977889</td>\n",
       "    </tr>\n",
       "  </tbody>\n",
       "</table>\n",
       "</div>"
      ],
      "text/plain": [
       "    alcohol  mallic_acid       ash  alcalinity_of_ash  magnesium  \\\n",
       "0  2.526316     0.575099  1.716578           0.773196   1.858696   \n",
       "1  1.713158     0.616601  1.251337           0.092784   0.978261   \n",
       "2  1.681579     0.960474  2.101604           1.237113   1.010870   \n",
       "3  2.636842     0.717391  1.828877           0.958763   1.402174   \n",
       "4  1.744737     1.096838  2.422460           1.608247   1.565217   \n",
       "\n",
       "   total_phenols  flavanoids  non_flavanoid_phenols  proanthocyanins  \\\n",
       "0       1.882759    1.721519               0.849057         1.779180   \n",
       "1       1.727586    1.531646               0.735849         0.823344   \n",
       "2       1.882759    1.835443               0.962264         2.271293   \n",
       "3       2.968966    1.993671               0.622642         1.675079   \n",
       "4       1.882759    1.487342               1.471698         1.334385   \n",
       "\n",
       "   color_intensity       hue        od   proline  \n",
       "0         1.116041  1.365854  2.912088  1.684023  \n",
       "1         0.793515  1.390244  2.340659  1.651926  \n",
       "2         1.126280  1.341463  2.087912  1.940799  \n",
       "3         1.668942  0.926829  2.395604  2.572040  \n",
       "4         0.778157  1.365854  1.824176  0.977889  "
      ]
     },
     "execution_count": 11,
     "metadata": {},
     "output_type": "execute_result"
    }
   ],
   "source": [
    "# display the first five rows\n",
    "X.head()"
   ]
  },
  {
   "cell_type": "code",
   "execution_count": 12,
   "id": "5d6847c6-b843-4e25-8bdc-60818ea20bd6",
   "metadata": {},
   "outputs": [
    {
     "data": {
      "text/html": [
       "<div>\n",
       "<style scoped>\n",
       "    .dataframe tbody tr th:only-of-type {\n",
       "        vertical-align: middle;\n",
       "    }\n",
       "\n",
       "    .dataframe tbody tr th {\n",
       "        vertical-align: top;\n",
       "    }\n",
       "\n",
       "    .dataframe thead th {\n",
       "        text-align: right;\n",
       "    }\n",
       "</style>\n",
       "<table border=\"1\" class=\"dataframe\">\n",
       "  <thead>\n",
       "    <tr style=\"text-align: right;\">\n",
       "      <th></th>\n",
       "      <th>count</th>\n",
       "      <th>mean</th>\n",
       "      <th>std</th>\n",
       "      <th>min</th>\n",
       "      <th>25%</th>\n",
       "      <th>50%</th>\n",
       "      <th>75%</th>\n",
       "      <th>max</th>\n",
       "    </tr>\n",
       "  </thead>\n",
       "  <tbody>\n",
       "    <tr>\n",
       "      <th>alcohol</th>\n",
       "      <td>178.0</td>\n",
       "      <td>1.555751</td>\n",
       "      <td>0.640916</td>\n",
       "      <td>0.0</td>\n",
       "      <td>1.051974</td>\n",
       "      <td>1.594737</td>\n",
       "      <td>2.090132</td>\n",
       "      <td>3.0</td>\n",
       "    </tr>\n",
       "    <tr>\n",
       "      <th>mallic_acid</th>\n",
       "      <td>178.0</td>\n",
       "      <td>0.946452</td>\n",
       "      <td>0.662340</td>\n",
       "      <td>0.0</td>\n",
       "      <td>0.511364</td>\n",
       "      <td>0.666996</td>\n",
       "      <td>1.388834</td>\n",
       "      <td>3.0</td>\n",
       "    </tr>\n",
       "    <tr>\n",
       "      <th>ash</th>\n",
       "      <td>178.0</td>\n",
       "      <td>1.614733</td>\n",
       "      <td>0.440124</td>\n",
       "      <td>0.0</td>\n",
       "      <td>1.363636</td>\n",
       "      <td>1.604278</td>\n",
       "      <td>1.921123</td>\n",
       "      <td>3.0</td>\n",
       "    </tr>\n",
       "    <tr>\n",
       "      <th>alcalinity_of_ash</th>\n",
       "      <td>178.0</td>\n",
       "      <td>1.375507</td>\n",
       "      <td>0.516427</td>\n",
       "      <td>0.0</td>\n",
       "      <td>1.020619</td>\n",
       "      <td>1.376289</td>\n",
       "      <td>1.685567</td>\n",
       "      <td>3.0</td>\n",
       "    </tr>\n",
       "    <tr>\n",
       "      <th>magnesium</th>\n",
       "      <td>178.0</td>\n",
       "      <td>0.969834</td>\n",
       "      <td>0.465733</td>\n",
       "      <td>0.0</td>\n",
       "      <td>0.586957</td>\n",
       "      <td>0.913043</td>\n",
       "      <td>1.206522</td>\n",
       "      <td>3.0</td>\n",
       "    </tr>\n",
       "    <tr>\n",
       "      <th>total_phenols</th>\n",
       "      <td>178.0</td>\n",
       "      <td>1.360461</td>\n",
       "      <td>0.647432</td>\n",
       "      <td>0.0</td>\n",
       "      <td>0.788793</td>\n",
       "      <td>1.422414</td>\n",
       "      <td>1.882759</td>\n",
       "      <td>3.0</td>\n",
       "    </tr>\n",
       "    <tr>\n",
       "      <th>flavanoids</th>\n",
       "      <td>178.0</td>\n",
       "      <td>1.069158</td>\n",
       "      <td>0.632189</td>\n",
       "      <td>0.0</td>\n",
       "      <td>0.547468</td>\n",
       "      <td>1.136076</td>\n",
       "      <td>1.604430</td>\n",
       "      <td>3.0</td>\n",
       "    </tr>\n",
       "    <tr>\n",
       "      <th>non_flavanoid_phenols</th>\n",
       "      <td>178.0</td>\n",
       "      <td>1.312381</td>\n",
       "      <td>0.704453</td>\n",
       "      <td>0.0</td>\n",
       "      <td>0.792453</td>\n",
       "      <td>1.188679</td>\n",
       "      <td>1.740566</td>\n",
       "      <td>3.0</td>\n",
       "    </tr>\n",
       "    <tr>\n",
       "      <th>proanthocyanins</th>\n",
       "      <td>178.0</td>\n",
       "      <td>1.117570</td>\n",
       "      <td>0.541665</td>\n",
       "      <td>0.0</td>\n",
       "      <td>0.794953</td>\n",
       "      <td>1.083596</td>\n",
       "      <td>1.457413</td>\n",
       "      <td>3.0</td>\n",
       "    </tr>\n",
       "    <tr>\n",
       "      <th>color_intensity</th>\n",
       "      <td>178.0</td>\n",
       "      <td>0.967088</td>\n",
       "      <td>0.593418</td>\n",
       "      <td>0.0</td>\n",
       "      <td>0.496587</td>\n",
       "      <td>0.872867</td>\n",
       "      <td>1.259386</td>\n",
       "      <td>3.0</td>\n",
       "    </tr>\n",
       "    <tr>\n",
       "      <th>hue</th>\n",
       "      <td>178.0</td>\n",
       "      <td>1.164511</td>\n",
       "      <td>0.557492</td>\n",
       "      <td>0.0</td>\n",
       "      <td>0.737805</td>\n",
       "      <td>1.182927</td>\n",
       "      <td>1.560976</td>\n",
       "      <td>3.0</td>\n",
       "    </tr>\n",
       "    <tr>\n",
       "      <th>od</th>\n",
       "      <td>178.0</td>\n",
       "      <td>1.474380</td>\n",
       "      <td>0.780209</td>\n",
       "      <td>0.0</td>\n",
       "      <td>0.733516</td>\n",
       "      <td>1.659341</td>\n",
       "      <td>2.087912</td>\n",
       "      <td>3.0</td>\n",
       "    </tr>\n",
       "    <tr>\n",
       "      <th>proline</th>\n",
       "      <td>178.0</td>\n",
       "      <td>1.003338</td>\n",
       "      <td>0.673839</td>\n",
       "      <td>0.0</td>\n",
       "      <td>0.476106</td>\n",
       "      <td>0.846291</td>\n",
       "      <td>1.512839</td>\n",
       "      <td>3.0</td>\n",
       "    </tr>\n",
       "  </tbody>\n",
       "</table>\n",
       "</div>"
      ],
      "text/plain": [
       "                       count      mean       std  min       25%       50%  \\\n",
       "alcohol                178.0  1.555751  0.640916  0.0  1.051974  1.594737   \n",
       "mallic_acid            178.0  0.946452  0.662340  0.0  0.511364  0.666996   \n",
       "ash                    178.0  1.614733  0.440124  0.0  1.363636  1.604278   \n",
       "alcalinity_of_ash      178.0  1.375507  0.516427  0.0  1.020619  1.376289   \n",
       "magnesium              178.0  0.969834  0.465733  0.0  0.586957  0.913043   \n",
       "total_phenols          178.0  1.360461  0.647432  0.0  0.788793  1.422414   \n",
       "flavanoids             178.0  1.069158  0.632189  0.0  0.547468  1.136076   \n",
       "non_flavanoid_phenols  178.0  1.312381  0.704453  0.0  0.792453  1.188679   \n",
       "proanthocyanins        178.0  1.117570  0.541665  0.0  0.794953  1.083596   \n",
       "color_intensity        178.0  0.967088  0.593418  0.0  0.496587  0.872867   \n",
       "hue                    178.0  1.164511  0.557492  0.0  0.737805  1.182927   \n",
       "od                     178.0  1.474380  0.780209  0.0  0.733516  1.659341   \n",
       "proline                178.0  1.003338  0.673839  0.0  0.476106  0.846291   \n",
       "\n",
       "                            75%  max  \n",
       "alcohol                2.090132  3.0  \n",
       "mallic_acid            1.388834  3.0  \n",
       "ash                    1.921123  3.0  \n",
       "alcalinity_of_ash      1.685567  3.0  \n",
       "magnesium              1.206522  3.0  \n",
       "total_phenols          1.882759  3.0  \n",
       "flavanoids             1.604430  3.0  \n",
       "non_flavanoid_phenols  1.740566  3.0  \n",
       "proanthocyanins        1.457413  3.0  \n",
       "color_intensity        1.259386  3.0  \n",
       "hue                    1.560976  3.0  \n",
       "od                     2.087912  3.0  \n",
       "proline                1.512839  3.0  "
      ]
     },
     "execution_count": 12,
     "metadata": {},
     "output_type": "execute_result"
    }
   ],
   "source": [
    "# statistical measures\n",
    "X.describe().T"
   ]
  },
  {
   "cell_type": "markdown",
   "id": "11abd25a-7979-4a76-a551-1cc818d6a78c",
   "metadata": {},
   "source": [
    "It's clearly visible above that for all features the min and max value ranges between 0 to 3."
   ]
  },
  {
   "cell_type": "markdown",
   "id": "ac409e14-0d21-4dcb-9757-4ef18ab3d00b",
   "metadata": {},
   "source": [
    "### Splitting Data"
   ]
  },
  {
   "cell_type": "code",
   "execution_count": 13,
   "id": "3abb102e-c8aa-454e-b2b2-e889d3f00505",
   "metadata": {},
   "outputs": [],
   "source": [
    "# train test split\n",
    "X_train, X_test, y_train, y_test = train_test_split(\n",
    "                                                    X, \n",
    "                                                    y, \n",
    "                                                    test_size=0.2, \n",
    "                                                    random_state=0\n",
    "                                                    )"
   ]
  },
  {
   "cell_type": "markdown",
   "id": "91731678-83e4-4c44-8250-3652a2ec3bdd",
   "metadata": {},
   "source": [
    "## Modelling"
   ]
  },
  {
   "cell_type": "code",
   "execution_count": 14,
   "id": "1d15d6cf-c5c8-4983-b90f-1f4346a6b257",
   "metadata": {},
   "outputs": [],
   "source": [
    "# model\n",
    "model = tree.DecisionTreeClassifier(criterion=\"entropy\",max_depth=4)\n",
    "# scores = cross_val_score(model,X,y)\n",
    "# scores.mean()\n",
    "model.fit(X_train, y_train)\n",
    "y_pred = model.predict(X_test)"
   ]
  },
  {
   "cell_type": "markdown",
   "id": "22de1823-7521-40e1-9bec-2c6152c24c2e",
   "metadata": {},
   "source": [
    "## Evaluation"
   ]
  },
  {
   "cell_type": "code",
   "execution_count": 15,
   "id": "f42b9cd5-6cfa-474f-b94a-7a1d3edc104c",
   "metadata": {},
   "outputs": [
    {
     "data": {
      "text/plain": [
       "array([[13,  1,  0],\n",
       "       [ 1, 14,  1],\n",
       "       [ 0,  0,  6]])"
      ]
     },
     "execution_count": 15,
     "metadata": {},
     "output_type": "execute_result"
    }
   ],
   "source": [
    "# Compute confusion matrix to evaluate the accuracy of a classification.\n",
    "eval_m.confusion_matrix(y_test, y_pred)"
   ]
  },
  {
   "cell_type": "code",
   "execution_count": 16,
   "id": "8e820bf5-66f0-4991-936f-907bbc0e407b",
   "metadata": {},
   "outputs": [
    {
     "data": {
      "text/plain": [
       "0.9166666666666666"
      ]
     },
     "execution_count": 16,
     "metadata": {},
     "output_type": "execute_result"
    }
   ],
   "source": [
    "# accuracy score\n",
    "eval_m.accuracy_score(y_test, y_pred)"
   ]
  },
  {
   "cell_type": "markdown",
   "id": "d5797b65-f4a8-4931-89a6-6a66dc17eec2",
   "metadata": {
    "tags": []
   },
   "source": [
    "## Feature Selection | Filter Method - Variance"
   ]
  },
  {
   "cell_type": "code",
   "execution_count": 17,
   "id": "665eb30d-a91a-4249-8ebf-5a107d3e87f8",
   "metadata": {},
   "outputs": [
    {
     "data": {
      "text/plain": [
       "ash                      0.193709\n",
       "magnesium                0.216907\n",
       "alcalinity_of_ash        0.266697\n",
       "proanthocyanins          0.293400\n",
       "hue                      0.310797\n",
       "color_intensity          0.352145\n",
       "flavanoids               0.399663\n",
       "alcohol                  0.410773\n",
       "total_phenols            0.419168\n",
       "mallic_acid              0.438694\n",
       "proline                  0.454059\n",
       "non_flavanoid_phenols    0.496254\n",
       "od                       0.608726\n",
       "dtype: float64"
      ]
     },
     "execution_count": 17,
     "metadata": {},
     "output_type": "execute_result"
    }
   ],
   "source": [
    "X1 = X.copy(deep=True)\n",
    "y1 = y.copy(deep=True)\n",
    "# variance in ascending order\n",
    "variance = X.var()\n",
    "variance.sort_values()"
   ]
  },
  {
   "cell_type": "markdown",
   "id": "43a336f4-2225-4dc9-bd6b-a8711339d405",
   "metadata": {},
   "source": [
    "Selecting features that has variance greater than 0.3"
   ]
  },
  {
   "cell_type": "code",
   "execution_count": 18,
   "id": "7fe5df1b-d74a-4d4a-9bf4-88d4be7a03c6",
   "metadata": {
    "jp-MarkdownHeadingCollapsed": true,
    "tags": []
   },
   "outputs": [
    {
     "data": {
      "text/plain": [
       "alcohol                   True\n",
       "mallic_acid               True\n",
       "ash                      False\n",
       "alcalinity_of_ash        False\n",
       "magnesium                False\n",
       "total_phenols             True\n",
       "flavanoids                True\n",
       "non_flavanoid_phenols     True\n",
       "proanthocyanins          False\n",
       "color_intensity           True\n",
       "hue                       True\n",
       "od                        True\n",
       "proline                   True\n",
       "dtype: bool"
      ]
     },
     "execution_count": 18,
     "metadata": {},
     "output_type": "execute_result"
    }
   ],
   "source": [
    "# create boolean mask\n",
    "variance_3 = variance > 0.3\n",
    "variance_3"
   ]
  },
  {
   "cell_type": "code",
   "execution_count": 19,
   "id": "577b0e5c-1632-4b39-80da-13e7b8f852d0",
   "metadata": {},
   "outputs": [],
   "source": [
    "# extracting features with variance > 0.3\n",
    "X1 = X1[X1.columns[variance_3]]"
   ]
  },
  {
   "cell_type": "code",
   "execution_count": 20,
   "id": "8e7fb865-ac08-4f70-8606-fe467fe80e5e",
   "metadata": {},
   "outputs": [
    {
     "data": {
      "text/html": [
       "<div>\n",
       "<style scoped>\n",
       "    .dataframe tbody tr th:only-of-type {\n",
       "        vertical-align: middle;\n",
       "    }\n",
       "\n",
       "    .dataframe tbody tr th {\n",
       "        vertical-align: top;\n",
       "    }\n",
       "\n",
       "    .dataframe thead th {\n",
       "        text-align: right;\n",
       "    }\n",
       "</style>\n",
       "<table border=\"1\" class=\"dataframe\">\n",
       "  <thead>\n",
       "    <tr style=\"text-align: right;\">\n",
       "      <th></th>\n",
       "      <th>alcohol</th>\n",
       "      <th>mallic_acid</th>\n",
       "      <th>total_phenols</th>\n",
       "      <th>flavanoids</th>\n",
       "      <th>non_flavanoid_phenols</th>\n",
       "      <th>color_intensity</th>\n",
       "      <th>hue</th>\n",
       "      <th>od</th>\n",
       "      <th>proline</th>\n",
       "    </tr>\n",
       "  </thead>\n",
       "  <tbody>\n",
       "    <tr>\n",
       "      <th>0</th>\n",
       "      <td>2.526316</td>\n",
       "      <td>0.575099</td>\n",
       "      <td>1.882759</td>\n",
       "      <td>1.721519</td>\n",
       "      <td>0.849057</td>\n",
       "      <td>1.116041</td>\n",
       "      <td>1.365854</td>\n",
       "      <td>2.912088</td>\n",
       "      <td>1.684023</td>\n",
       "    </tr>\n",
       "    <tr>\n",
       "      <th>1</th>\n",
       "      <td>1.713158</td>\n",
       "      <td>0.616601</td>\n",
       "      <td>1.727586</td>\n",
       "      <td>1.531646</td>\n",
       "      <td>0.735849</td>\n",
       "      <td>0.793515</td>\n",
       "      <td>1.390244</td>\n",
       "      <td>2.340659</td>\n",
       "      <td>1.651926</td>\n",
       "    </tr>\n",
       "    <tr>\n",
       "      <th>2</th>\n",
       "      <td>1.681579</td>\n",
       "      <td>0.960474</td>\n",
       "      <td>1.882759</td>\n",
       "      <td>1.835443</td>\n",
       "      <td>0.962264</td>\n",
       "      <td>1.126280</td>\n",
       "      <td>1.341463</td>\n",
       "      <td>2.087912</td>\n",
       "      <td>1.940799</td>\n",
       "    </tr>\n",
       "    <tr>\n",
       "      <th>3</th>\n",
       "      <td>2.636842</td>\n",
       "      <td>0.717391</td>\n",
       "      <td>2.968966</td>\n",
       "      <td>1.993671</td>\n",
       "      <td>0.622642</td>\n",
       "      <td>1.668942</td>\n",
       "      <td>0.926829</td>\n",
       "      <td>2.395604</td>\n",
       "      <td>2.572040</td>\n",
       "    </tr>\n",
       "    <tr>\n",
       "      <th>4</th>\n",
       "      <td>1.744737</td>\n",
       "      <td>1.096838</td>\n",
       "      <td>1.882759</td>\n",
       "      <td>1.487342</td>\n",
       "      <td>1.471698</td>\n",
       "      <td>0.778157</td>\n",
       "      <td>1.365854</td>\n",
       "      <td>1.824176</td>\n",
       "      <td>0.977889</td>\n",
       "    </tr>\n",
       "  </tbody>\n",
       "</table>\n",
       "</div>"
      ],
      "text/plain": [
       "    alcohol  mallic_acid  total_phenols  flavanoids  non_flavanoid_phenols  \\\n",
       "0  2.526316     0.575099       1.882759    1.721519               0.849057   \n",
       "1  1.713158     0.616601       1.727586    1.531646               0.735849   \n",
       "2  1.681579     0.960474       1.882759    1.835443               0.962264   \n",
       "3  2.636842     0.717391       2.968966    1.993671               0.622642   \n",
       "4  1.744737     1.096838       1.882759    1.487342               1.471698   \n",
       "\n",
       "   color_intensity       hue        od   proline  \n",
       "0         1.116041  1.365854  2.912088  1.684023  \n",
       "1         0.793515  1.390244  2.340659  1.651926  \n",
       "2         1.126280  1.341463  2.087912  1.940799  \n",
       "3         1.668942  0.926829  2.395604  2.572040  \n",
       "4         0.778157  1.365854  1.824176  0.977889  "
      ]
     },
     "execution_count": 20,
     "metadata": {},
     "output_type": "execute_result"
    }
   ],
   "source": [
    "X1.head()"
   ]
  },
  {
   "cell_type": "code",
   "execution_count": 21,
   "id": "5d992711-5bd9-4a11-be71-3f74d7649724",
   "metadata": {},
   "outputs": [
    {
     "name": "stdout",
     "output_type": "stream",
     "text": [
      "Features before Feature Selection: 13\n",
      "Features after Feature Selection: 9\n",
      "Features eliminated after Feature Selection: 4\n"
     ]
    }
   ],
   "source": [
    "# data df also contains target feature\n",
    "print(f\"Features before Feature Selection: {data.shape[1]-1}\")\n",
    "print(f\"Features after Feature Selection: {X1.shape[1]}\")\n",
    "print(f\"Features eliminated after Feature Selection: {data.shape[1]-1 - (X1.shape[1])}\")"
   ]
  },
  {
   "cell_type": "markdown",
   "id": "18f50e75-28af-49b9-a5a7-e37d4df314f0",
   "metadata": {},
   "source": [
    "### Splitting data"
   ]
  },
  {
   "cell_type": "code",
   "execution_count": 22,
   "id": "3cdf165c-1268-4af2-96c9-cd4e250778a7",
   "metadata": {},
   "outputs": [],
   "source": [
    "# train test split\n",
    "X_train, X_test, y_train, y_test = train_test_split(\n",
    "                                                    X1, \n",
    "                                                    y1, \n",
    "                                                    test_size=0.2, \n",
    "                                                    random_state=0\n",
    "                                                    )"
   ]
  },
  {
   "cell_type": "markdown",
   "id": "bab5104b-15c9-42e0-950f-1b9484332726",
   "metadata": {
    "tags": []
   },
   "source": [
    "### Modelling"
   ]
  },
  {
   "cell_type": "code",
   "execution_count": 23,
   "id": "8c473da0-35f4-40dc-9ed7-9b74c4cd4a00",
   "metadata": {},
   "outputs": [],
   "source": [
    "# model\n",
    "model = tree.DecisionTreeClassifier(criterion=\"entropy\",max_depth=4)\n",
    "\n",
    "# scores = cross_val_score(model,X,y)\n",
    "# scores.mean()\n",
    "\n",
    "model.fit(X_train, y_train)\n",
    "y_pred = model.predict(X_test)"
   ]
  },
  {
   "cell_type": "markdown",
   "id": "08a14b39-41c4-4730-9ab9-3b68fecf60c4",
   "metadata": {},
   "source": [
    "### Evaluation"
   ]
  },
  {
   "cell_type": "code",
   "execution_count": 24,
   "id": "d1bce3b3-4837-4163-ba4d-2f21a072c523",
   "metadata": {},
   "outputs": [
    {
     "data": {
      "text/plain": [
       "array([[13,  1,  0],\n",
       "       [ 1, 14,  1],\n",
       "       [ 0,  0,  6]])"
      ]
     },
     "execution_count": 24,
     "metadata": {},
     "output_type": "execute_result"
    }
   ],
   "source": [
    "# confusion matrix\n",
    "eval_m.confusion_matrix(y_test,y_pred)"
   ]
  },
  {
   "cell_type": "code",
   "execution_count": 25,
   "id": "8cecf822-c9fd-4f26-aacc-27f1a4ea281c",
   "metadata": {},
   "outputs": [
    {
     "data": {
      "text/plain": [
       "0.9166666666666666"
      ]
     },
     "execution_count": 25,
     "metadata": {},
     "output_type": "execute_result"
    }
   ],
   "source": [
    "# accuracy\n",
    "eval_m.accuracy_score(y_test, y_pred)"
   ]
  },
  {
   "cell_type": "markdown",
   "id": "d4effebc-1e9b-4f89-a28a-aa2b608895ed",
   "metadata": {},
   "source": [
    "### Conclusion"
   ]
  },
  {
   "cell_type": "markdown",
   "id": "325b8857-65ab-4e11-a37f-b95a138b6650",
   "metadata": {},
   "source": [
    "* Proper feature selection can increase the accuracy of the model.\n",
    "* After feature selection we have less number of features to work with, which will eventually help us to train the models faster.\n",
    "* Feature Selection with `variance` can be implemented with Panda's pd.var() and sklearn.feature_selection's VarianceThreshold()."
   ]
  },
  {
   "cell_type": "markdown",
   "id": "464f8ffe-ddeb-43df-8902-4f4cfbe764c2",
   "metadata": {},
   "source": [
    "---"
   ]
  },
  {
   "cell_type": "markdown",
   "id": "487307ab-8308-4f6b-8852-bab6fdb2d83d",
   "metadata": {},
   "source": [
    "## Feature Selection | Filter Method | Anova F-Score"
   ]
  },
  {
   "cell_type": "code",
   "execution_count": 26,
   "id": "3fd5c9a9-8d18-4936-bb6d-3d54068f8c97",
   "metadata": {},
   "outputs": [],
   "source": [
    "X2 = X.copy(deep=True)\n",
    "y2 = y.copy(deep=True)"
   ]
  },
  {
   "cell_type": "code",
   "execution_count": 27,
   "id": "d08dc0a0-1110-4588-8f91-0b480c77430c",
   "metadata": {},
   "outputs": [
    {
     "data": {
      "text/plain": [
       "((178, 13), (178, 13))"
      ]
     },
     "execution_count": 27,
     "metadata": {},
     "output_type": "execute_result"
    }
   ],
   "source": [
    "X.shape, X2.shape"
   ]
  },
  {
   "cell_type": "markdown",
   "id": "7bcf3ae7-9d12-4606-bde7-9619c4749239",
   "metadata": {},
   "source": [
    "**Higher the value of feature's f-score, greater is the importance of the feature.**"
   ]
  },
  {
   "cell_type": "code",
   "execution_count": 28,
   "id": "6a634bca-b706-46b7-b073-ccaa48e2847e",
   "metadata": {},
   "outputs": [
    {
     "name": "stdout",
     "output_type": "stream",
     "text": [
      "Anova f-score:\n",
      " [135.07762424  36.94342496  13.3129012   35.77163741  12.42958434\n",
      "  93.73300962 233.92587268  27.57541715  30.27138317 120.66401844\n",
      " 101.31679539 189.97232058 207.9203739 ]\n",
      "\n",
      "Anova p-value:\n",
      " [3.31950380e-36 4.12722880e-14 4.14996797e-06 9.44447294e-14\n",
      " 8.96339544e-06 2.13767002e-28 3.59858583e-50 3.88804090e-11\n",
      " 5.12535874e-12 1.16200802e-33 5.91766222e-30 1.39310496e-44\n",
      " 5.78316836e-47]\n"
     ]
    }
   ],
   "source": [
    "# f_classif(): Compute the ANOVA F-value for the provided sample.\n",
    "f_score_p_value = f_selec.f_classif(X2,y2)\n",
    "print(f\"Anova f-score:\\n {f_score_p_value[0]}\\n\")\n",
    "print(f\"Anova p-value:\\n {f_score_p_value[1]}\")"
   ]
  },
  {
   "cell_type": "code",
   "execution_count": 29,
   "id": "2eba6f58-c157-4388-ad04-bd69578ae71e",
   "metadata": {},
   "outputs": [],
   "source": [
    "# Select features according to the k highest scores.\n",
    "# k = 11: out of all the features, select the top 11 features\n",
    "select_k_best = f_selec.SelectKBest(score_func=f_selec.f_classif, k = 11)\n",
    "\n",
    "# Fit to data, then transform it.\n",
    "transformed_features = select_k_best.fit_transform(X2,y2)"
   ]
  },
  {
   "cell_type": "code",
   "execution_count": 30,
   "id": "6d6c9629-4e29-4f79-8687-d0ea82acfe63",
   "metadata": {},
   "outputs": [
    {
     "name": "stdout",
     "output_type": "stream",
     "text": [
      "[ True  True False  True False  True  True  True  True  True  True  True\n",
      "  True] \n",
      "\n",
      "['alcohol' 'mallic_acid' 'alcalinity_of_ash' 'total_phenols' 'flavanoids'\n",
      " 'non_flavanoid_phenols' 'proanthocyanins' 'color_intensity' 'hue' 'od'\n",
      " 'proline']\n"
     ]
    }
   ],
   "source": [
    "print(select_k_best.get_support(),\"\\n\")\n",
    "print(select_k_best.get_feature_names_out())"
   ]
  },
  {
   "cell_type": "code",
   "execution_count": 31,
   "id": "cfb4e7b5-a4a6-4ace-bf2b-cd45f3407d01",
   "metadata": {},
   "outputs": [
    {
     "name": "stdout",
     "output_type": "stream",
     "text": [
      "(178, 11)\n"
     ]
    },
    {
     "data": {
      "text/html": [
       "<div>\n",
       "<style scoped>\n",
       "    .dataframe tbody tr th:only-of-type {\n",
       "        vertical-align: middle;\n",
       "    }\n",
       "\n",
       "    .dataframe tbody tr th {\n",
       "        vertical-align: top;\n",
       "    }\n",
       "\n",
       "    .dataframe thead th {\n",
       "        text-align: right;\n",
       "    }\n",
       "</style>\n",
       "<table border=\"1\" class=\"dataframe\">\n",
       "  <thead>\n",
       "    <tr style=\"text-align: right;\">\n",
       "      <th></th>\n",
       "      <th>alcohol</th>\n",
       "      <th>mallic_acid</th>\n",
       "      <th>alcalinity_of_ash</th>\n",
       "      <th>total_phenols</th>\n",
       "      <th>flavanoids</th>\n",
       "      <th>non_flavanoid_phenols</th>\n",
       "      <th>proanthocyanins</th>\n",
       "      <th>color_intensity</th>\n",
       "      <th>hue</th>\n",
       "      <th>od</th>\n",
       "      <th>proline</th>\n",
       "    </tr>\n",
       "  </thead>\n",
       "  <tbody>\n",
       "    <tr>\n",
       "      <th>0</th>\n",
       "      <td>2.526316</td>\n",
       "      <td>0.575099</td>\n",
       "      <td>0.773196</td>\n",
       "      <td>1.882759</td>\n",
       "      <td>1.721519</td>\n",
       "      <td>0.849057</td>\n",
       "      <td>1.779180</td>\n",
       "      <td>1.116041</td>\n",
       "      <td>1.365854</td>\n",
       "      <td>2.912088</td>\n",
       "      <td>1.684023</td>\n",
       "    </tr>\n",
       "    <tr>\n",
       "      <th>1</th>\n",
       "      <td>1.713158</td>\n",
       "      <td>0.616601</td>\n",
       "      <td>0.092784</td>\n",
       "      <td>1.727586</td>\n",
       "      <td>1.531646</td>\n",
       "      <td>0.735849</td>\n",
       "      <td>0.823344</td>\n",
       "      <td>0.793515</td>\n",
       "      <td>1.390244</td>\n",
       "      <td>2.340659</td>\n",
       "      <td>1.651926</td>\n",
       "    </tr>\n",
       "    <tr>\n",
       "      <th>2</th>\n",
       "      <td>1.681579</td>\n",
       "      <td>0.960474</td>\n",
       "      <td>1.237113</td>\n",
       "      <td>1.882759</td>\n",
       "      <td>1.835443</td>\n",
       "      <td>0.962264</td>\n",
       "      <td>2.271293</td>\n",
       "      <td>1.126280</td>\n",
       "      <td>1.341463</td>\n",
       "      <td>2.087912</td>\n",
       "      <td>1.940799</td>\n",
       "    </tr>\n",
       "    <tr>\n",
       "      <th>3</th>\n",
       "      <td>2.636842</td>\n",
       "      <td>0.717391</td>\n",
       "      <td>0.958763</td>\n",
       "      <td>2.968966</td>\n",
       "      <td>1.993671</td>\n",
       "      <td>0.622642</td>\n",
       "      <td>1.675079</td>\n",
       "      <td>1.668942</td>\n",
       "      <td>0.926829</td>\n",
       "      <td>2.395604</td>\n",
       "      <td>2.572040</td>\n",
       "    </tr>\n",
       "    <tr>\n",
       "      <th>4</th>\n",
       "      <td>1.744737</td>\n",
       "      <td>1.096838</td>\n",
       "      <td>1.608247</td>\n",
       "      <td>1.882759</td>\n",
       "      <td>1.487342</td>\n",
       "      <td>1.471698</td>\n",
       "      <td>1.334385</td>\n",
       "      <td>0.778157</td>\n",
       "      <td>1.365854</td>\n",
       "      <td>1.824176</td>\n",
       "      <td>0.977889</td>\n",
       "    </tr>\n",
       "  </tbody>\n",
       "</table>\n",
       "</div>"
      ],
      "text/plain": [
       "    alcohol  mallic_acid  alcalinity_of_ash  total_phenols  flavanoids  \\\n",
       "0  2.526316     0.575099           0.773196       1.882759    1.721519   \n",
       "1  1.713158     0.616601           0.092784       1.727586    1.531646   \n",
       "2  1.681579     0.960474           1.237113       1.882759    1.835443   \n",
       "3  2.636842     0.717391           0.958763       2.968966    1.993671   \n",
       "4  1.744737     1.096838           1.608247       1.882759    1.487342   \n",
       "\n",
       "   non_flavanoid_phenols  proanthocyanins  color_intensity       hue  \\\n",
       "0               0.849057         1.779180         1.116041  1.365854   \n",
       "1               0.735849         0.823344         0.793515  1.390244   \n",
       "2               0.962264         2.271293         1.126280  1.341463   \n",
       "3               0.622642         1.675079         1.668942  0.926829   \n",
       "4               1.471698         1.334385         0.778157  1.365854   \n",
       "\n",
       "         od   proline  \n",
       "0  2.912088  1.684023  \n",
       "1  2.340659  1.651926  \n",
       "2  2.087912  1.940799  \n",
       "3  2.395604  2.572040  \n",
       "4  1.824176  0.977889  "
      ]
     },
     "execution_count": 31,
     "metadata": {},
     "output_type": "execute_result"
    }
   ],
   "source": [
    "# extracting top 11 features\n",
    "X2 = X2[select_k_best.get_feature_names_out()]\n",
    "print(X2.shape)\n",
    "X2.head()"
   ]
  },
  {
   "cell_type": "markdown",
   "id": "d9ffcbc3-04c5-487e-ae8b-7aec2810a15f",
   "metadata": {},
   "source": [
    "### Splitting Data"
   ]
  },
  {
   "cell_type": "code",
   "execution_count": 32,
   "id": "2e8a4988-8fff-436a-bf99-759cb064ab69",
   "metadata": {},
   "outputs": [],
   "source": [
    "X_train,X_test,y_train,y_test = train_test_split(X2,y2,test_size=0.2,random_state=11)"
   ]
  },
  {
   "cell_type": "code",
   "execution_count": 33,
   "id": "4817428f-71e0-4191-900e-d19d3514b03c",
   "metadata": {},
   "outputs": [
    {
     "data": {
      "text/plain": [
       "((142, 11), (36, 11), (142,), (36,))"
      ]
     },
     "execution_count": 33,
     "metadata": {},
     "output_type": "execute_result"
    }
   ],
   "source": [
    "X_train.shape,X_test.shape,y_train.shape,y_test.shape"
   ]
  },
  {
   "cell_type": "markdown",
   "id": "bcff8201-b668-4797-a4b6-325dfdbe0f30",
   "metadata": {},
   "source": [
    "### Modelling"
   ]
  },
  {
   "cell_type": "code",
   "execution_count": 34,
   "id": "eec5fe79-a8fa-47a0-9be1-48eb1894565c",
   "metadata": {},
   "outputs": [],
   "source": [
    "model = tree.DecisionTreeClassifier(criterion=\"entropy\",max_depth=4)\n",
    "model.fit(X_train,y_train)\n",
    "y_pred = model.predict(X_test)"
   ]
  },
  {
   "cell_type": "markdown",
   "id": "b2444aa7-50a2-42f5-944e-d9395671ba1f",
   "metadata": {},
   "source": [
    "### Evaluation"
   ]
  },
  {
   "cell_type": "code",
   "execution_count": 35,
   "id": "e2b7295c-5264-4868-a8c8-683c3f495479",
   "metadata": {},
   "outputs": [
    {
     "data": {
      "text/plain": [
       "0.9722222222222222"
      ]
     },
     "execution_count": 35,
     "metadata": {},
     "output_type": "execute_result"
    }
   ],
   "source": [
    "model.score(X_test,y_test)"
   ]
  },
  {
   "cell_type": "code",
   "execution_count": 36,
   "id": "680e2402-23df-42d9-be72-447ca1d5a1af",
   "metadata": {},
   "outputs": [
    {
     "data": {
      "text/plain": [
       "array([[14,  0,  0],\n",
       "       [ 0, 14,  1],\n",
       "       [ 0,  0,  7]])"
      ]
     },
     "execution_count": 36,
     "metadata": {},
     "output_type": "execute_result"
    }
   ],
   "source": [
    "# confusion matrix\n",
    "eval_m.confusion_matrix(y_test,y_pred)"
   ]
  },
  {
   "cell_type": "code",
   "execution_count": 37,
   "id": "912bff60-f712-408a-9727-ac563d455231",
   "metadata": {},
   "outputs": [
    {
     "data": {
      "text/plain": [
       "0.9722222222222222"
      ]
     },
     "execution_count": 37,
     "metadata": {},
     "output_type": "execute_result"
    }
   ],
   "source": [
    "eval_m.accuracy_score(y_test,y_pred)"
   ]
  },
  {
   "cell_type": "code",
   "execution_count": null,
   "id": "916c27e4-c10f-4bb4-b35f-599955f2a520",
   "metadata": {},
   "outputs": [],
   "source": []
  }
 ],
 "metadata": {
  "kernelspec": {
   "display_name": "Python 3 (ipykernel)",
   "language": "python",
   "name": "python3"
  },
  "language_info": {
   "codemirror_mode": {
    "name": "ipython",
    "version": 3
   },
   "file_extension": ".py",
   "mimetype": "text/x-python",
   "name": "python",
   "nbconvert_exporter": "python",
   "pygments_lexer": "ipython3",
   "version": "3.11.1"
  }
 },
 "nbformat": 4,
 "nbformat_minor": 5
}
