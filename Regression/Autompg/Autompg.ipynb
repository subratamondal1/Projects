{
 "cells": [
  {
   "cell_type": "markdown",
   "id": "abfb5edb-60b1-4584-b457-046df9bfc540",
   "metadata": {},
   "source": [
    "# <center>Automobile: Miles Per Gallon</center>\n",
    "---"
   ]
  },
  {
   "cell_type": "markdown",
   "id": "17475f54-b5c5-4ef0-ab7c-a406ecb29007",
   "metadata": {},
   "source": [
    "# Regression"
   ]
  },
  {
   "cell_type": "markdown",
   "id": "feffcee3-1996-4461-90f4-ee906f0f01da",
   "metadata": {},
   "source": [
    "## Data Understanding"
   ]
  },
  {
   "cell_type": "code",
   "execution_count": 1,
   "id": "974b3e2b-951d-421d-bd13-0dd71bcae1be",
   "metadata": {},
   "outputs": [],
   "source": [
    "import numpy as np\n",
    "import pandas as pd\n",
    "import sklearn.ensemble as ensemble\n",
    "import sklearn.metrics as metrics\n",
    "import sklearn.preprocessing as pre_pro\n",
    "import sklearn.feature_selection as feat_sel\n",
    "from sklearn.model_selection import train_test_split"
   ]
  },
  {
   "cell_type": "code",
   "execution_count": 2,
   "id": "47c58435-3bc2-4663-8e09-2e03104edeb7",
   "metadata": {},
   "outputs": [],
   "source": [
    "col_names = [\"mpg\",\"cylinders\",\"displacement\",\\\n",
    "                \"horsepower\",\"weight\",\"acceleration\",\"model year\",\"origin\",\"car name\"]\n",
    "\n",
    "data = pd.read_csv(\"data/auto-mpg.csv\",names=col_names,header=None,delim_whitespace=True)"
   ]
  },
  {
   "cell_type": "code",
   "execution_count": 3,
   "id": "8294c599-b762-4038-902c-613c2f728b82",
   "metadata": {},
   "outputs": [
    {
     "data": {
      "text/html": [
       "<div>\n",
       "<style scoped>\n",
       "    .dataframe tbody tr th:only-of-type {\n",
       "        vertical-align: middle;\n",
       "    }\n",
       "\n",
       "    .dataframe tbody tr th {\n",
       "        vertical-align: top;\n",
       "    }\n",
       "\n",
       "    .dataframe thead th {\n",
       "        text-align: right;\n",
       "    }\n",
       "</style>\n",
       "<table border=\"1\" class=\"dataframe\">\n",
       "  <thead>\n",
       "    <tr style=\"text-align: right;\">\n",
       "      <th></th>\n",
       "      <th>mpg</th>\n",
       "      <th>cylinders</th>\n",
       "      <th>displacement</th>\n",
       "      <th>horsepower</th>\n",
       "      <th>weight</th>\n",
       "      <th>acceleration</th>\n",
       "      <th>model year</th>\n",
       "      <th>origin</th>\n",
       "      <th>car name</th>\n",
       "    </tr>\n",
       "  </thead>\n",
       "  <tbody>\n",
       "    <tr>\n",
       "      <th>0</th>\n",
       "      <td>18.0</td>\n",
       "      <td>8.0</td>\n",
       "      <td>307.0</td>\n",
       "      <td>130.0</td>\n",
       "      <td>3504.0</td>\n",
       "      <td>12.0</td>\n",
       "      <td>70.0</td>\n",
       "      <td>1.0</td>\n",
       "      <td>chevrolet chevelle malibu</td>\n",
       "    </tr>\n",
       "    <tr>\n",
       "      <th>1</th>\n",
       "      <td>15.0</td>\n",
       "      <td>8.0</td>\n",
       "      <td>350.0</td>\n",
       "      <td>165.0</td>\n",
       "      <td>3693.0</td>\n",
       "      <td>11.5</td>\n",
       "      <td>70.0</td>\n",
       "      <td>1.0</td>\n",
       "      <td>buick skylark 320</td>\n",
       "    </tr>\n",
       "    <tr>\n",
       "      <th>2</th>\n",
       "      <td>18.0</td>\n",
       "      <td>8.0</td>\n",
       "      <td>318.0</td>\n",
       "      <td>150.0</td>\n",
       "      <td>3436.0</td>\n",
       "      <td>11.0</td>\n",
       "      <td>70.0</td>\n",
       "      <td>1.0</td>\n",
       "      <td>plymouth satellite</td>\n",
       "    </tr>\n",
       "    <tr>\n",
       "      <th>3</th>\n",
       "      <td>16.0</td>\n",
       "      <td>8.0</td>\n",
       "      <td>304.0</td>\n",
       "      <td>150.0</td>\n",
       "      <td>3433.0</td>\n",
       "      <td>12.0</td>\n",
       "      <td>70.0</td>\n",
       "      <td>1.0</td>\n",
       "      <td>amc rebel sst</td>\n",
       "    </tr>\n",
       "    <tr>\n",
       "      <th>4</th>\n",
       "      <td>17.0</td>\n",
       "      <td>8.0</td>\n",
       "      <td>302.0</td>\n",
       "      <td>140.0</td>\n",
       "      <td>3449.0</td>\n",
       "      <td>10.5</td>\n",
       "      <td>70.0</td>\n",
       "      <td>1.0</td>\n",
       "      <td>ford torino</td>\n",
       "    </tr>\n",
       "  </tbody>\n",
       "</table>\n",
       "</div>"
      ],
      "text/plain": [
       "    mpg  cylinders  displacement  horsepower  weight  acceleration  \\\n",
       "0  18.0        8.0         307.0       130.0  3504.0          12.0   \n",
       "1  15.0        8.0         350.0       165.0  3693.0          11.5   \n",
       "2  18.0        8.0         318.0       150.0  3436.0          11.0   \n",
       "3  16.0        8.0         304.0       150.0  3433.0          12.0   \n",
       "4  17.0        8.0         302.0       140.0  3449.0          10.5   \n",
       "\n",
       "   model year  origin                   car name  \n",
       "0        70.0     1.0  chevrolet chevelle malibu  \n",
       "1        70.0     1.0          buick skylark 320  \n",
       "2        70.0     1.0         plymouth satellite  \n",
       "3        70.0     1.0              amc rebel sst  \n",
       "4        70.0     1.0                ford torino  "
      ]
     },
     "execution_count": 3,
     "metadata": {},
     "output_type": "execute_result"
    }
   ],
   "source": [
    "data.head()"
   ]
  },
  {
   "cell_type": "code",
   "execution_count": 4,
   "id": "47b8240b-b4ca-4849-b258-06d3d29aed95",
   "metadata": {},
   "outputs": [
    {
     "data": {
      "text/plain": [
       "array([1., 2., 3.])"
      ]
     },
     "execution_count": 4,
     "metadata": {},
     "output_type": "execute_result"
    }
   ],
   "source": [
    "data.origin.unique()"
   ]
  },
  {
   "cell_type": "markdown",
   "id": "a66494b5-aa71-4f56-8c10-d16cd4259ea2",
   "metadata": {},
   "source": [
    "### [Data Description](https://archive.ics.uci.edu/ml/datasets/auto+mpg)\n",
    "\n",
    "This dataset is a slightly modified version of the dataset provided in the StatLib library. In line with the use by Ross Quinlan (1993) in predicting the attribute \"mpg\", 8 of the original instances were removed because they had unknown values for the \"mpg\" attribute. The original dataset is available in the file \"auto-mpg.data-original\". \n",
    "\n",
    "\"The data concerns city-cycle fuel consumption in miles per gallon, to be predicted in terms of 3 multivalued discrete and 5 continuous attributes.\" (Quinlan, 1993)."
   ]
  },
  {
   "cell_type": "markdown",
   "id": "8b6c8b73-8746-4469-870a-49af1ce81989",
   "metadata": {},
   "source": [
    "### Attribute Information\n",
    "\n",
    "1. mpg: continuous `target`\n",
    "2. cylinders: multi-valued discrete \n",
    "3. displacement: continuous \n",
    "4. horsepower: continuous \n",
    "5. weight: continuous \n",
    "6. acceleration: continuous \n",
    "7. model year: multi-valued discrete \n",
    "8. origin: multi-valued discrete: 1-> USA, 2-> Europe, 3->Japan\n",
    "9. car name: string (unique for each instance):"
   ]
  },
  {
   "cell_type": "markdown",
   "id": "393435d6-2946-4cfb-831d-38daed0d23e0",
   "metadata": {},
   "source": [
    "## Data Preparation"
   ]
  },
  {
   "cell_type": "markdown",
   "id": "9c6a40e5-2c31-4085-9182-3223da14d572",
   "metadata": {},
   "source": [
    "### Data Shape"
   ]
  },
  {
   "cell_type": "code",
   "execution_count": 5,
   "id": "c8669b01-e355-4138-9978-c71900b9754a",
   "metadata": {},
   "outputs": [
    {
     "data": {
      "text/plain": [
       "(406, 9)"
      ]
     },
     "execution_count": 5,
     "metadata": {},
     "output_type": "execute_result"
    }
   ],
   "source": [
    "data.shape"
   ]
  },
  {
   "cell_type": "code",
   "execution_count": 6,
   "id": "81a397bf-e330-4820-bd5d-119195525fe8",
   "metadata": {},
   "outputs": [
    {
     "data": {
      "text/plain": [
       "mpg             8\n",
       "cylinders       0\n",
       "displacement    0\n",
       "horsepower      6\n",
       "weight          0\n",
       "acceleration    0\n",
       "model year      0\n",
       "origin          0\n",
       "car name        0\n",
       "dtype: int64"
      ]
     },
     "execution_count": 6,
     "metadata": {},
     "output_type": "execute_result"
    }
   ],
   "source": [
    "data.isna().sum()"
   ]
  },
  {
   "cell_type": "markdown",
   "id": "083ba230-ed4f-4b4f-b1ba-8376037a8f6d",
   "metadata": {},
   "source": [
    "### Handling Missing Data"
   ]
  },
  {
   "cell_type": "code",
   "execution_count": 7,
   "id": "b132bf25-8ac2-423c-99c2-e957372c0429",
   "metadata": {},
   "outputs": [],
   "source": [
    "data[\"mpg\"] = data[\"mpg\"].fillna(data[\"mpg\"].mean())\n",
    "data[\"horsepower\"] = data[\"horsepower\"].fillna(data[\"mpg\"].mean())"
   ]
  },
  {
   "cell_type": "code",
   "execution_count": 8,
   "id": "338795b8-6141-4a48-8857-4011e5451bea",
   "metadata": {},
   "outputs": [],
   "source": [
    "data.drop(\"car name\",inplace=True,axis=1)"
   ]
  },
  {
   "cell_type": "code",
   "execution_count": 9,
   "id": "00d2754a-4833-473e-ae83-5b7199cae64a",
   "metadata": {},
   "outputs": [
    {
     "data": {
      "text/html": [
       "<div>\n",
       "<style scoped>\n",
       "    .dataframe tbody tr th:only-of-type {\n",
       "        vertical-align: middle;\n",
       "    }\n",
       "\n",
       "    .dataframe tbody tr th {\n",
       "        vertical-align: top;\n",
       "    }\n",
       "\n",
       "    .dataframe thead th {\n",
       "        text-align: right;\n",
       "    }\n",
       "</style>\n",
       "<table border=\"1\" class=\"dataframe\">\n",
       "  <thead>\n",
       "    <tr style=\"text-align: right;\">\n",
       "      <th></th>\n",
       "      <th>count</th>\n",
       "      <th>mean</th>\n",
       "      <th>std</th>\n",
       "      <th>min</th>\n",
       "      <th>25%</th>\n",
       "      <th>50%</th>\n",
       "      <th>75%</th>\n",
       "      <th>max</th>\n",
       "    </tr>\n",
       "  </thead>\n",
       "  <tbody>\n",
       "    <tr>\n",
       "      <th>mpg</th>\n",
       "      <td>406.0</td>\n",
       "      <td>23.514573</td>\n",
       "      <td>7.738404</td>\n",
       "      <td>9.000000</td>\n",
       "      <td>17.5</td>\n",
       "      <td>23.0</td>\n",
       "      <td>29.000</td>\n",
       "      <td>46.6</td>\n",
       "    </tr>\n",
       "    <tr>\n",
       "      <th>cylinders</th>\n",
       "      <td>406.0</td>\n",
       "      <td>5.475369</td>\n",
       "      <td>1.712160</td>\n",
       "      <td>3.000000</td>\n",
       "      <td>4.0</td>\n",
       "      <td>4.0</td>\n",
       "      <td>8.000</td>\n",
       "      <td>8.0</td>\n",
       "    </tr>\n",
       "    <tr>\n",
       "      <th>displacement</th>\n",
       "      <td>406.0</td>\n",
       "      <td>194.779557</td>\n",
       "      <td>104.922458</td>\n",
       "      <td>68.000000</td>\n",
       "      <td>105.0</td>\n",
       "      <td>151.0</td>\n",
       "      <td>302.000</td>\n",
       "      <td>455.0</td>\n",
       "    </tr>\n",
       "    <tr>\n",
       "      <th>horsepower</th>\n",
       "      <td>406.0</td>\n",
       "      <td>103.877063</td>\n",
       "      <td>39.722317</td>\n",
       "      <td>23.514573</td>\n",
       "      <td>75.0</td>\n",
       "      <td>93.5</td>\n",
       "      <td>129.000</td>\n",
       "      <td>230.0</td>\n",
       "    </tr>\n",
       "    <tr>\n",
       "      <th>weight</th>\n",
       "      <td>406.0</td>\n",
       "      <td>2979.413793</td>\n",
       "      <td>847.004328</td>\n",
       "      <td>1613.000000</td>\n",
       "      <td>2226.5</td>\n",
       "      <td>2822.5</td>\n",
       "      <td>3618.250</td>\n",
       "      <td>5140.0</td>\n",
       "    </tr>\n",
       "    <tr>\n",
       "      <th>acceleration</th>\n",
       "      <td>406.0</td>\n",
       "      <td>15.519704</td>\n",
       "      <td>2.803359</td>\n",
       "      <td>8.000000</td>\n",
       "      <td>13.7</td>\n",
       "      <td>15.5</td>\n",
       "      <td>17.175</td>\n",
       "      <td>24.8</td>\n",
       "    </tr>\n",
       "    <tr>\n",
       "      <th>model year</th>\n",
       "      <td>406.0</td>\n",
       "      <td>75.921182</td>\n",
       "      <td>3.748737</td>\n",
       "      <td>70.000000</td>\n",
       "      <td>73.0</td>\n",
       "      <td>76.0</td>\n",
       "      <td>79.000</td>\n",
       "      <td>82.0</td>\n",
       "    </tr>\n",
       "    <tr>\n",
       "      <th>origin</th>\n",
       "      <td>406.0</td>\n",
       "      <td>1.568966</td>\n",
       "      <td>0.797479</td>\n",
       "      <td>1.000000</td>\n",
       "      <td>1.0</td>\n",
       "      <td>1.0</td>\n",
       "      <td>2.000</td>\n",
       "      <td>3.0</td>\n",
       "    </tr>\n",
       "  </tbody>\n",
       "</table>\n",
       "</div>"
      ],
      "text/plain": [
       "              count         mean         std          min     25%     50%  \\\n",
       "mpg           406.0    23.514573    7.738404     9.000000    17.5    23.0   \n",
       "cylinders     406.0     5.475369    1.712160     3.000000     4.0     4.0   \n",
       "displacement  406.0   194.779557  104.922458    68.000000   105.0   151.0   \n",
       "horsepower    406.0   103.877063   39.722317    23.514573    75.0    93.5   \n",
       "weight        406.0  2979.413793  847.004328  1613.000000  2226.5  2822.5   \n",
       "acceleration  406.0    15.519704    2.803359     8.000000    13.7    15.5   \n",
       "model year    406.0    75.921182    3.748737    70.000000    73.0    76.0   \n",
       "origin        406.0     1.568966    0.797479     1.000000     1.0     1.0   \n",
       "\n",
       "                   75%     max  \n",
       "mpg             29.000    46.6  \n",
       "cylinders        8.000     8.0  \n",
       "displacement   302.000   455.0  \n",
       "horsepower     129.000   230.0  \n",
       "weight        3618.250  5140.0  \n",
       "acceleration    17.175    24.8  \n",
       "model year      79.000    82.0  \n",
       "origin           2.000     3.0  "
      ]
     },
     "execution_count": 9,
     "metadata": {},
     "output_type": "execute_result"
    }
   ],
   "source": [
    "data.describe().T"
   ]
  },
  {
   "cell_type": "markdown",
   "id": "9ff7c5f1-7f2e-4d0e-8c36-a808e19fc8e2",
   "metadata": {},
   "source": [
    "### Feature Scaling"
   ]
  },
  {
   "cell_type": "code",
   "execution_count": 10,
   "id": "137912fe-c9c0-4303-aaed-72a53eebc02d",
   "metadata": {},
   "outputs": [],
   "source": [
    "min_max_scaler = pre_pro.MinMaxScaler(feature_range=(0,3))"
   ]
  },
  {
   "cell_type": "code",
   "execution_count": 11,
   "id": "ba76fb2b-3482-4784-82a5-08af93c448cc",
   "metadata": {},
   "outputs": [],
   "source": [
    "data[data.columns] = min_max_scaler.fit_transform(data)"
   ]
  },
  {
   "cell_type": "code",
   "execution_count": 12,
   "id": "e83f69dc-7714-4572-8d89-63573140be90",
   "metadata": {},
   "outputs": [
    {
     "data": {
      "text/html": [
       "<div>\n",
       "<style scoped>\n",
       "    .dataframe tbody tr th:only-of-type {\n",
       "        vertical-align: middle;\n",
       "    }\n",
       "\n",
       "    .dataframe tbody tr th {\n",
       "        vertical-align: top;\n",
       "    }\n",
       "\n",
       "    .dataframe thead th {\n",
       "        text-align: right;\n",
       "    }\n",
       "</style>\n",
       "<table border=\"1\" class=\"dataframe\">\n",
       "  <thead>\n",
       "    <tr style=\"text-align: right;\">\n",
       "      <th></th>\n",
       "      <th>mpg</th>\n",
       "      <th>cylinders</th>\n",
       "      <th>displacement</th>\n",
       "      <th>horsepower</th>\n",
       "      <th>weight</th>\n",
       "      <th>acceleration</th>\n",
       "      <th>model year</th>\n",
       "      <th>origin</th>\n",
       "    </tr>\n",
       "  </thead>\n",
       "  <tbody>\n",
       "    <tr>\n",
       "      <th>0</th>\n",
       "      <td>0.718085</td>\n",
       "      <td>3.0</td>\n",
       "      <td>1.852713</td>\n",
       "      <td>1.547113</td>\n",
       "      <td>1.608449</td>\n",
       "      <td>0.714286</td>\n",
       "      <td>0.0</td>\n",
       "      <td>0.0</td>\n",
       "    </tr>\n",
       "    <tr>\n",
       "      <th>1</th>\n",
       "      <td>0.478723</td>\n",
       "      <td>3.0</td>\n",
       "      <td>2.186047</td>\n",
       "      <td>2.055623</td>\n",
       "      <td>1.769209</td>\n",
       "      <td>0.625000</td>\n",
       "      <td>0.0</td>\n",
       "      <td>0.0</td>\n",
       "    </tr>\n",
       "    <tr>\n",
       "      <th>2</th>\n",
       "      <td>0.718085</td>\n",
       "      <td>3.0</td>\n",
       "      <td>1.937984</td>\n",
       "      <td>1.837690</td>\n",
       "      <td>1.550610</td>\n",
       "      <td>0.535714</td>\n",
       "      <td>0.0</td>\n",
       "      <td>0.0</td>\n",
       "    </tr>\n",
       "    <tr>\n",
       "      <th>3</th>\n",
       "      <td>0.558511</td>\n",
       "      <td>3.0</td>\n",
       "      <td>1.829457</td>\n",
       "      <td>1.837690</td>\n",
       "      <td>1.548058</td>\n",
       "      <td>0.714286</td>\n",
       "      <td>0.0</td>\n",
       "      <td>0.0</td>\n",
       "    </tr>\n",
       "    <tr>\n",
       "      <th>4</th>\n",
       "      <td>0.638298</td>\n",
       "      <td>3.0</td>\n",
       "      <td>1.813953</td>\n",
       "      <td>1.692402</td>\n",
       "      <td>1.561667</td>\n",
       "      <td>0.446429</td>\n",
       "      <td>0.0</td>\n",
       "      <td>0.0</td>\n",
       "    </tr>\n",
       "  </tbody>\n",
       "</table>\n",
       "</div>"
      ],
      "text/plain": [
       "        mpg  cylinders  displacement  horsepower    weight  acceleration  \\\n",
       "0  0.718085        3.0      1.852713    1.547113  1.608449      0.714286   \n",
       "1  0.478723        3.0      2.186047    2.055623  1.769209      0.625000   \n",
       "2  0.718085        3.0      1.937984    1.837690  1.550610      0.535714   \n",
       "3  0.558511        3.0      1.829457    1.837690  1.548058      0.714286   \n",
       "4  0.638298        3.0      1.813953    1.692402  1.561667      0.446429   \n",
       "\n",
       "   model year  origin  \n",
       "0         0.0     0.0  \n",
       "1         0.0     0.0  \n",
       "2         0.0     0.0  \n",
       "3         0.0     0.0  \n",
       "4         0.0     0.0  "
      ]
     },
     "execution_count": 12,
     "metadata": {},
     "output_type": "execute_result"
    }
   ],
   "source": [
    "data.head()"
   ]
  },
  {
   "cell_type": "code",
   "execution_count": 13,
   "id": "1c38f766-7af2-4a6e-aa77-a831b48b6c72",
   "metadata": {},
   "outputs": [
    {
     "data": {
      "text/plain": [
       "mpg             0\n",
       "cylinders       0\n",
       "displacement    0\n",
       "horsepower      0\n",
       "weight          0\n",
       "acceleration    0\n",
       "model year      0\n",
       "origin          0\n",
       "dtype: int64"
      ]
     },
     "execution_count": 13,
     "metadata": {},
     "output_type": "execute_result"
    }
   ],
   "source": [
    "data.isna().sum()"
   ]
  },
  {
   "cell_type": "code",
   "execution_count": 14,
   "id": "6105746b-fa9b-48ad-b9db-62023aa3a42b",
   "metadata": {},
   "outputs": [
    {
     "data": {
      "text/html": [
       "<div>\n",
       "<style scoped>\n",
       "    .dataframe tbody tr th:only-of-type {\n",
       "        vertical-align: middle;\n",
       "    }\n",
       "\n",
       "    .dataframe tbody tr th {\n",
       "        vertical-align: top;\n",
       "    }\n",
       "\n",
       "    .dataframe thead th {\n",
       "        text-align: right;\n",
       "    }\n",
       "</style>\n",
       "<table border=\"1\" class=\"dataframe\">\n",
       "  <thead>\n",
       "    <tr style=\"text-align: right;\">\n",
       "      <th></th>\n",
       "      <th>count</th>\n",
       "      <th>mean</th>\n",
       "      <th>std</th>\n",
       "      <th>min</th>\n",
       "      <th>25%</th>\n",
       "      <th>50%</th>\n",
       "      <th>75%</th>\n",
       "      <th>max</th>\n",
       "    </tr>\n",
       "  </thead>\n",
       "  <tbody>\n",
       "    <tr>\n",
       "      <th>mpg</th>\n",
       "      <td>406.0</td>\n",
       "      <td>1.158078</td>\n",
       "      <td>0.617426</td>\n",
       "      <td>0.0</td>\n",
       "      <td>0.678191</td>\n",
       "      <td>1.117021</td>\n",
       "      <td>1.595745</td>\n",
       "      <td>3.0</td>\n",
       "    </tr>\n",
       "    <tr>\n",
       "      <th>cylinders</th>\n",
       "      <td>406.0</td>\n",
       "      <td>1.485222</td>\n",
       "      <td>1.027296</td>\n",
       "      <td>0.0</td>\n",
       "      <td>0.600000</td>\n",
       "      <td>0.600000</td>\n",
       "      <td>3.000000</td>\n",
       "      <td>3.0</td>\n",
       "    </tr>\n",
       "    <tr>\n",
       "      <th>displacement</th>\n",
       "      <td>406.0</td>\n",
       "      <td>0.982787</td>\n",
       "      <td>0.813352</td>\n",
       "      <td>0.0</td>\n",
       "      <td>0.286822</td>\n",
       "      <td>0.643411</td>\n",
       "      <td>1.813953</td>\n",
       "      <td>3.0</td>\n",
       "    </tr>\n",
       "    <tr>\n",
       "      <th>horsepower</th>\n",
       "      <td>406.0</td>\n",
       "      <td>1.167576</td>\n",
       "      <td>0.577120</td>\n",
       "      <td>0.0</td>\n",
       "      <td>0.748025</td>\n",
       "      <td>1.016809</td>\n",
       "      <td>1.532584</td>\n",
       "      <td>3.0</td>\n",
       "    </tr>\n",
       "    <tr>\n",
       "      <th>weight</th>\n",
       "      <td>406.0</td>\n",
       "      <td>1.162246</td>\n",
       "      <td>0.720446</td>\n",
       "      <td>0.0</td>\n",
       "      <td>0.521832</td>\n",
       "      <td>1.028778</td>\n",
       "      <td>1.705628</td>\n",
       "      <td>3.0</td>\n",
       "    </tr>\n",
       "    <tr>\n",
       "      <th>acceleration</th>\n",
       "      <td>406.0</td>\n",
       "      <td>1.342804</td>\n",
       "      <td>0.500600</td>\n",
       "      <td>0.0</td>\n",
       "      <td>1.017857</td>\n",
       "      <td>1.339286</td>\n",
       "      <td>1.638393</td>\n",
       "      <td>3.0</td>\n",
       "    </tr>\n",
       "    <tr>\n",
       "      <th>model year</th>\n",
       "      <td>406.0</td>\n",
       "      <td>1.480296</td>\n",
       "      <td>0.937184</td>\n",
       "      <td>0.0</td>\n",
       "      <td>0.750000</td>\n",
       "      <td>1.500000</td>\n",
       "      <td>2.250000</td>\n",
       "      <td>3.0</td>\n",
       "    </tr>\n",
       "    <tr>\n",
       "      <th>origin</th>\n",
       "      <td>406.0</td>\n",
       "      <td>0.853448</td>\n",
       "      <td>1.196218</td>\n",
       "      <td>0.0</td>\n",
       "      <td>0.000000</td>\n",
       "      <td>0.000000</td>\n",
       "      <td>1.500000</td>\n",
       "      <td>3.0</td>\n",
       "    </tr>\n",
       "  </tbody>\n",
       "</table>\n",
       "</div>"
      ],
      "text/plain": [
       "              count      mean       std  min       25%       50%       75%  \\\n",
       "mpg           406.0  1.158078  0.617426  0.0  0.678191  1.117021  1.595745   \n",
       "cylinders     406.0  1.485222  1.027296  0.0  0.600000  0.600000  3.000000   \n",
       "displacement  406.0  0.982787  0.813352  0.0  0.286822  0.643411  1.813953   \n",
       "horsepower    406.0  1.167576  0.577120  0.0  0.748025  1.016809  1.532584   \n",
       "weight        406.0  1.162246  0.720446  0.0  0.521832  1.028778  1.705628   \n",
       "acceleration  406.0  1.342804  0.500600  0.0  1.017857  1.339286  1.638393   \n",
       "model year    406.0  1.480296  0.937184  0.0  0.750000  1.500000  2.250000   \n",
       "origin        406.0  0.853448  1.196218  0.0  0.000000  0.000000  1.500000   \n",
       "\n",
       "              max  \n",
       "mpg           3.0  \n",
       "cylinders     3.0  \n",
       "displacement  3.0  \n",
       "horsepower    3.0  \n",
       "weight        3.0  \n",
       "acceleration  3.0  \n",
       "model year    3.0  \n",
       "origin        3.0  "
      ]
     },
     "execution_count": 14,
     "metadata": {},
     "output_type": "execute_result"
    }
   ],
   "source": [
    "data.describe().T"
   ]
  },
  {
   "cell_type": "markdown",
   "id": "ab23d064-4e30-41ab-879a-85da0c685c3a",
   "metadata": {},
   "source": [
    "### Splitting data"
   ]
  },
  {
   "cell_type": "code",
   "execution_count": 15,
   "id": "936b64ff-92c0-4f7a-b3fd-aa88517d1912",
   "metadata": {},
   "outputs": [],
   "source": [
    "X = data.drop(\"mpg\",axis=1)\n",
    "y = data[\"mpg\"]"
   ]
  },
  {
   "cell_type": "code",
   "execution_count": 16,
   "id": "1f83fc17-ebd5-4033-a41c-af45535add7d",
   "metadata": {},
   "outputs": [
    {
     "data": {
      "text/html": [
       "<div>\n",
       "<style scoped>\n",
       "    .dataframe tbody tr th:only-of-type {\n",
       "        vertical-align: middle;\n",
       "    }\n",
       "\n",
       "    .dataframe tbody tr th {\n",
       "        vertical-align: top;\n",
       "    }\n",
       "\n",
       "    .dataframe thead th {\n",
       "        text-align: right;\n",
       "    }\n",
       "</style>\n",
       "<table border=\"1\" class=\"dataframe\">\n",
       "  <thead>\n",
       "    <tr style=\"text-align: right;\">\n",
       "      <th></th>\n",
       "      <th>cylinders</th>\n",
       "      <th>displacement</th>\n",
       "      <th>horsepower</th>\n",
       "      <th>weight</th>\n",
       "      <th>acceleration</th>\n",
       "      <th>model year</th>\n",
       "      <th>origin</th>\n",
       "    </tr>\n",
       "  </thead>\n",
       "  <tbody>\n",
       "    <tr>\n",
       "      <th>0</th>\n",
       "      <td>3.0</td>\n",
       "      <td>1.852713</td>\n",
       "      <td>1.547113</td>\n",
       "      <td>1.608449</td>\n",
       "      <td>0.714286</td>\n",
       "      <td>0.0</td>\n",
       "      <td>0.0</td>\n",
       "    </tr>\n",
       "    <tr>\n",
       "      <th>1</th>\n",
       "      <td>3.0</td>\n",
       "      <td>2.186047</td>\n",
       "      <td>2.055623</td>\n",
       "      <td>1.769209</td>\n",
       "      <td>0.625000</td>\n",
       "      <td>0.0</td>\n",
       "      <td>0.0</td>\n",
       "    </tr>\n",
       "    <tr>\n",
       "      <th>2</th>\n",
       "      <td>3.0</td>\n",
       "      <td>1.937984</td>\n",
       "      <td>1.837690</td>\n",
       "      <td>1.550610</td>\n",
       "      <td>0.535714</td>\n",
       "      <td>0.0</td>\n",
       "      <td>0.0</td>\n",
       "    </tr>\n",
       "    <tr>\n",
       "      <th>3</th>\n",
       "      <td>3.0</td>\n",
       "      <td>1.829457</td>\n",
       "      <td>1.837690</td>\n",
       "      <td>1.548058</td>\n",
       "      <td>0.714286</td>\n",
       "      <td>0.0</td>\n",
       "      <td>0.0</td>\n",
       "    </tr>\n",
       "    <tr>\n",
       "      <th>4</th>\n",
       "      <td>3.0</td>\n",
       "      <td>1.813953</td>\n",
       "      <td>1.692402</td>\n",
       "      <td>1.561667</td>\n",
       "      <td>0.446429</td>\n",
       "      <td>0.0</td>\n",
       "      <td>0.0</td>\n",
       "    </tr>\n",
       "  </tbody>\n",
       "</table>\n",
       "</div>"
      ],
      "text/plain": [
       "   cylinders  displacement  horsepower    weight  acceleration  model year  \\\n",
       "0        3.0      1.852713    1.547113  1.608449      0.714286         0.0   \n",
       "1        3.0      2.186047    2.055623  1.769209      0.625000         0.0   \n",
       "2        3.0      1.937984    1.837690  1.550610      0.535714         0.0   \n",
       "3        3.0      1.829457    1.837690  1.548058      0.714286         0.0   \n",
       "4        3.0      1.813953    1.692402  1.561667      0.446429         0.0   \n",
       "\n",
       "   origin  \n",
       "0     0.0  \n",
       "1     0.0  \n",
       "2     0.0  \n",
       "3     0.0  \n",
       "4     0.0  "
      ]
     },
     "execution_count": 16,
     "metadata": {},
     "output_type": "execute_result"
    }
   ],
   "source": [
    "X.head()"
   ]
  },
  {
   "cell_type": "code",
   "execution_count": 17,
   "id": "99216de8-de13-4b00-9093-15155bc8805e",
   "metadata": {},
   "outputs": [
    {
     "data": {
      "text/plain": [
       "0    0.718085\n",
       "1    0.478723\n",
       "2    0.718085\n",
       "3    0.558511\n",
       "4    0.638298\n",
       "Name: mpg, dtype: float64"
      ]
     },
     "execution_count": 17,
     "metadata": {},
     "output_type": "execute_result"
    }
   ],
   "source": [
    "y.head()"
   ]
  },
  {
   "cell_type": "code",
   "execution_count": 18,
   "id": "b72892b8-0e78-434c-87f6-cbeec053da1e",
   "metadata": {},
   "outputs": [],
   "source": [
    "# Train test split\n",
    "X_train, X_test, y_train, y_test = train_test_split(X,y,test_size=0.2,random_state=11)"
   ]
  },
  {
   "cell_type": "markdown",
   "id": "c4fb03d9-1e67-4fd6-ae32-3ed04807cbdf",
   "metadata": {},
   "source": [
    "## Modelling"
   ]
  },
  {
   "cell_type": "code",
   "execution_count": 19,
   "id": "0f4489fe-43f4-489f-a57f-935cfb1534da",
   "metadata": {},
   "outputs": [],
   "source": [
    "model = ensemble.RandomForestRegressor(n_estimators=300,max_depth=5,random_state=11)\n",
    "model.fit(X_train,y_train)\n",
    "y_pred = model.predict(X_test)"
   ]
  },
  {
   "cell_type": "markdown",
   "id": "3855ee43-a22a-44dc-9b01-8969701a5b1d",
   "metadata": {},
   "source": [
    "## Evaluation"
   ]
  },
  {
   "cell_type": "code",
   "execution_count": 20,
   "id": "9b549d94-e939-4c21-916c-7dd5faa44ea3",
   "metadata": {},
   "outputs": [
    {
     "data": {
      "text/plain": [
       "0.8534995798684861"
      ]
     },
     "execution_count": 20,
     "metadata": {},
     "output_type": "execute_result"
    }
   ],
   "source": [
    "model.score(X_test,y_test)"
   ]
  },
  {
   "cell_type": "code",
   "execution_count": 21,
   "id": "448ee4c1-5567-4612-89e4-88ea9eef44d5",
   "metadata": {},
   "outputs": [
    {
     "name": "stdout",
     "output_type": "stream",
     "text": [
      "Mean Squared Error: 0.05376361804129654\n"
     ]
    }
   ],
   "source": [
    "# mse\n",
    "mse = metrics.mean_squared_error(y_test,y_pred)\n",
    "print(f\"Mean Squared Error: {mse}\")"
   ]
  },
  {
   "cell_type": "code",
   "execution_count": 22,
   "id": "c2dff800-e010-4a45-a2ff-75849e39c2f7",
   "metadata": {},
   "outputs": [
    {
     "name": "stdout",
     "output_type": "stream",
     "text": [
      "Mean Squared Error: 0.23186982995054906\n"
     ]
    }
   ],
   "source": [
    "# rmse\n",
    "rmse = np.sqrt(mse)\n",
    "print(f\"Mean Squared Error: {rmse}\")"
   ]
  },
  {
   "cell_type": "code",
   "execution_count": 23,
   "id": "a58ac32d-4ef1-4f60-9a9c-14cd0bf736f6",
   "metadata": {},
   "outputs": [
    {
     "data": {
      "text/plain": [
       "0.17926234605132338"
      ]
     },
     "execution_count": 23,
     "metadata": {},
     "output_type": "execute_result"
    }
   ],
   "source": [
    "# mae\n",
    "metrics.mean_absolute_error(y_test,y_pred)"
   ]
  },
  {
   "cell_type": "markdown",
   "id": "b0d24f7b-4fff-4c5e-9edb-2ec21f0878ec",
   "metadata": {},
   "source": [
    "## Feature Selection | Mutual Information for Regression"
   ]
  },
  {
   "cell_type": "code",
   "execution_count": 24,
   "id": "060ef002-8fd2-4541-a2ab-2ba224a6bbde",
   "metadata": {},
   "outputs": [],
   "source": [
    "X1 = X.copy(deep=True)\n",
    "y1 = y.copy(deep=True)"
   ]
  },
  {
   "cell_type": "code",
   "execution_count": 25,
   "id": "7d78d05a-982b-4bcc-ac6a-ee9748d5f451",
   "metadata": {},
   "outputs": [
    {
     "data": {
      "text/plain": [
       "cylinders       float64\n",
       "displacement    float64\n",
       "horsepower      float64\n",
       "weight          float64\n",
       "acceleration    float64\n",
       "model year      float64\n",
       "origin          float64\n",
       "dtype: object"
      ]
     },
     "execution_count": 25,
     "metadata": {},
     "output_type": "execute_result"
    }
   ],
   "source": [
    "X1.dtypes"
   ]
  },
  {
   "cell_type": "code",
   "execution_count": 26,
   "id": "4c8a5959-d6f8-415a-84e3-19ee8e65c4bd",
   "metadata": {},
   "outputs": [],
   "source": [
    "# creating mask for discrete values\n",
    "discrete = [True, False, False, False, False, True, True]"
   ]
  },
  {
   "cell_type": "code",
   "execution_count": 27,
   "id": "863a9849-9426-44f7-88c9-c4b5713534e4",
   "metadata": {},
   "outputs": [
    {
     "data": {
      "text/plain": [
       "array([0.6114123 , 0.75444606, 0.66874759, 0.73806993, 0.17910271,\n",
       "       0.37617608, 0.23572661])"
      ]
     },
     "execution_count": 27,
     "metadata": {},
     "output_type": "execute_result"
    }
   ],
   "source": [
    "mutual_info = feat_sel.mutual_info_regression(X1,y1,discrete_features=discrete,random_state=11)\n",
    "mutual_info"
   ]
  },
  {
   "cell_type": "markdown",
   "id": "4e446c7d-a1da-445d-8dcf-0dbff9a09356",
   "metadata": {},
   "source": [
    "**Selecting features with mutual information > 0.3**"
   ]
  },
  {
   "cell_type": "code",
   "execution_count": 28,
   "id": "67fad0dd-0237-4d71-bf82-f18c21ffb3b8",
   "metadata": {},
   "outputs": [],
   "source": [
    "X_train = X_train[X_train.columns[mutual_info>0.3]]\n",
    "X_test = X_test[X_test.columns[mutual_info>0.3]]"
   ]
  },
  {
   "cell_type": "code",
   "execution_count": 29,
   "id": "0167ea8d-b118-4155-a3a6-133bef4a308d",
   "metadata": {},
   "outputs": [
    {
     "data": {
      "text/html": [
       "<div>\n",
       "<style scoped>\n",
       "    .dataframe tbody tr th:only-of-type {\n",
       "        vertical-align: middle;\n",
       "    }\n",
       "\n",
       "    .dataframe tbody tr th {\n",
       "        vertical-align: top;\n",
       "    }\n",
       "\n",
       "    .dataframe thead th {\n",
       "        text-align: right;\n",
       "    }\n",
       "</style>\n",
       "<table border=\"1\" class=\"dataframe\">\n",
       "  <thead>\n",
       "    <tr style=\"text-align: right;\">\n",
       "      <th></th>\n",
       "      <th>cylinders</th>\n",
       "      <th>displacement</th>\n",
       "      <th>horsepower</th>\n",
       "      <th>weight</th>\n",
       "      <th>model year</th>\n",
       "    </tr>\n",
       "  </thead>\n",
       "  <tbody>\n",
       "    <tr>\n",
       "      <th>49</th>\n",
       "      <td>3.0</td>\n",
       "      <td>2.441860</td>\n",
       "      <td>2.273556</td>\n",
       "      <td>2.842642</td>\n",
       "      <td>0.25</td>\n",
       "    </tr>\n",
       "    <tr>\n",
       "      <th>235</th>\n",
       "      <td>1.8</td>\n",
       "      <td>1.410853</td>\n",
       "      <td>1.082189</td>\n",
       "      <td>1.626311</td>\n",
       "      <td>1.75</td>\n",
       "    </tr>\n",
       "  </tbody>\n",
       "</table>\n",
       "</div>"
      ],
      "text/plain": [
       "     cylinders  displacement  horsepower    weight  model year\n",
       "49         3.0      2.441860    2.273556  2.842642        0.25\n",
       "235        1.8      1.410853    1.082189  1.626311        1.75"
      ]
     },
     "execution_count": 29,
     "metadata": {},
     "output_type": "execute_result"
    }
   ],
   "source": [
    "X_train.head(2)"
   ]
  },
  {
   "cell_type": "code",
   "execution_count": 30,
   "id": "d5b4cc45-cd9c-4c59-9e9c-a057ad7f5f6b",
   "metadata": {},
   "outputs": [
    {
     "data": {
      "text/html": [
       "<div>\n",
       "<style scoped>\n",
       "    .dataframe tbody tr th:only-of-type {\n",
       "        vertical-align: middle;\n",
       "    }\n",
       "\n",
       "    .dataframe tbody tr th {\n",
       "        vertical-align: top;\n",
       "    }\n",
       "\n",
       "    .dataframe thead th {\n",
       "        text-align: right;\n",
       "    }\n",
       "</style>\n",
       "<table border=\"1\" class=\"dataframe\">\n",
       "  <thead>\n",
       "    <tr style=\"text-align: right;\">\n",
       "      <th></th>\n",
       "      <th>cylinders</th>\n",
       "      <th>displacement</th>\n",
       "      <th>horsepower</th>\n",
       "      <th>weight</th>\n",
       "      <th>model year</th>\n",
       "    </tr>\n",
       "  </thead>\n",
       "  <tbody>\n",
       "    <tr>\n",
       "      <th>60</th>\n",
       "      <td>0.6</td>\n",
       "      <td>0.023256</td>\n",
       "      <td>0.602736</td>\n",
       "      <td>0.136093</td>\n",
       "      <td>0.25</td>\n",
       "    </tr>\n",
       "    <tr>\n",
       "      <th>207</th>\n",
       "      <td>1.8</td>\n",
       "      <td>1.410853</td>\n",
       "      <td>0.791612</td>\n",
       "      <td>1.667990</td>\n",
       "      <td>1.50</td>\n",
       "    </tr>\n",
       "  </tbody>\n",
       "</table>\n",
       "</div>"
      ],
      "text/plain": [
       "     cylinders  displacement  horsepower    weight  model year\n",
       "60         0.6      0.023256    0.602736  0.136093        0.25\n",
       "207        1.8      1.410853    0.791612  1.667990        1.50"
      ]
     },
     "execution_count": 30,
     "metadata": {},
     "output_type": "execute_result"
    }
   ],
   "source": [
    "X_test.head(2)"
   ]
  },
  {
   "cell_type": "markdown",
   "id": "82f0fdd0-1d23-4b64-afba-04c1877f1a6a",
   "metadata": {},
   "source": [
    "### Modelling"
   ]
  },
  {
   "cell_type": "code",
   "execution_count": 31,
   "id": "526af767-5964-46a7-a36b-d4a37c6fe3e2",
   "metadata": {},
   "outputs": [],
   "source": [
    "model = ensemble.RandomForestRegressor(n_estimators=300,max_depth=5,random_state=11)\n",
    "model.fit(X_train,y_train)\n",
    "y_pred = model.predict(X_test)"
   ]
  },
  {
   "cell_type": "markdown",
   "id": "ec55388f-bc4f-46e1-bc6d-f393ab4fb32b",
   "metadata": {},
   "source": [
    "### Evaluation"
   ]
  },
  {
   "cell_type": "code",
   "execution_count": 32,
   "id": "ba010f78-4abc-45d6-93a8-e9818af8eb24",
   "metadata": {},
   "outputs": [
    {
     "data": {
      "text/plain": [
       "0.8428974942156"
      ]
     },
     "execution_count": 32,
     "metadata": {},
     "output_type": "execute_result"
    }
   ],
   "source": [
    "model.score(X_test,y_test)"
   ]
  },
  {
   "cell_type": "code",
   "execution_count": 33,
   "id": "37d4b804-9577-4bd0-a900-ff551ac13ef7",
   "metadata": {},
   "outputs": [
    {
     "name": "stdout",
     "output_type": "stream",
     "text": [
      "Mean Squared Error: 0.057654436122030944\n"
     ]
    }
   ],
   "source": [
    "# mse\n",
    "mse = metrics.mean_squared_error(y_test,y_pred)\n",
    "print(f\"Mean Squared Error: {mse}\")"
   ]
  },
  {
   "cell_type": "code",
   "execution_count": 34,
   "id": "e85d94fb-d57b-4ad0-a57e-e1d933dd0e4a",
   "metadata": {},
   "outputs": [
    {
     "name": "stdout",
     "output_type": "stream",
     "text": [
      "Mean Squared Error: 0.24011338180541072\n"
     ]
    }
   ],
   "source": [
    "# rmse\n",
    "rmse = np.sqrt(mse)\n",
    "print(f\"Mean Squared Error: {rmse}\")"
   ]
  },
  {
   "cell_type": "code",
   "execution_count": 35,
   "id": "5aea6e5b-61c2-4868-9699-ec42bb595852",
   "metadata": {},
   "outputs": [
    {
     "data": {
      "text/plain": [
       "0.185592119612564"
      ]
     },
     "execution_count": 35,
     "metadata": {},
     "output_type": "execute_result"
    }
   ],
   "source": [
    "# mae\n",
    "metrics.mean_absolute_error(y_test,y_pred)"
   ]
  },
  {
   "cell_type": "markdown",
   "id": "4d32f8f1-7be8-4915-85f1-2de884e60f08",
   "metadata": {},
   "source": [
    "### Features before & after"
   ]
  },
  {
   "cell_type": "code",
   "execution_count": 36,
   "id": "a2e71d0d-efac-45e8-961b-7aaad225d93b",
   "metadata": {},
   "outputs": [
    {
     "data": {
      "text/plain": [
       "((406, 7), (324, 5))"
      ]
     },
     "execution_count": 36,
     "metadata": {},
     "output_type": "execute_result"
    }
   ],
   "source": [
    "X.shape,X_train.shape"
   ]
  },
  {
   "cell_type": "code",
   "execution_count": null,
   "id": "0b96bae0-47aa-4eaf-9863-9dc1337652bd",
   "metadata": {},
   "outputs": [],
   "source": []
  }
 ],
 "metadata": {
  "kernelspec": {
   "display_name": "Python 3 (ipykernel)",
   "language": "python",
   "name": "python3"
  },
  "language_info": {
   "codemirror_mode": {
    "name": "ipython",
    "version": 3
   },
   "file_extension": ".py",
   "mimetype": "text/x-python",
   "name": "python",
   "nbconvert_exporter": "python",
   "pygments_lexer": "ipython3",
   "version": "3.11.1"
  }
 },
 "nbformat": 4,
 "nbformat_minor": 5
}
