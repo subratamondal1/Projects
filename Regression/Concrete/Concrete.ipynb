{
 "cells": [
  {
   "cell_type": "markdown",
   "id": "202658ad-b067-4fa6-be63-0176faf82494",
   "metadata": {},
   "source": [
    "# <center>Concrete</center>\n",
    "---"
   ]
  },
  {
   "cell_type": "markdown",
   "id": "23581b6e-6dd7-4642-b9ef-8be899b24f76",
   "metadata": {
    "tags": []
   },
   "source": [
    "## Regression"
   ]
  },
  {
   "cell_type": "code",
   "execution_count": 1,
   "id": "7ed88dac-ceb3-4766-9e8d-b67edc22d1db",
   "metadata": {},
   "outputs": [],
   "source": [
    "# import libraries\n",
    "import numpy as np\n",
    "import pandas as pd\n",
    "import sklearn.tree as tree\n",
    "import sklearn.ensemble as ensemble\n",
    "import sklearn.preprocessing as pre_pro\n",
    "import sklearn.metrics as eval_metrics\n",
    "import sklearn.feature_selection as feat_selec\n",
    "from sklearn.model_selection import train_test_split"
   ]
  },
  {
   "cell_type": "markdown",
   "id": "bf0ce741-2b90-4059-83d5-c18b116f4233",
   "metadata": {},
   "source": [
    "### Load Data "
   ]
  },
  {
   "cell_type": "code",
   "execution_count": 2,
   "id": "94644b68-77f2-4dc5-827e-387ffb9af286",
   "metadata": {},
   "outputs": [],
   "source": [
    "data = pd.read_excel(\"data/Concrete_Data.xls\")"
   ]
  },
  {
   "cell_type": "code",
   "execution_count": 3,
   "id": "a9083350-4e83-4fad-9191-983e04416eef",
   "metadata": {},
   "outputs": [
    {
     "data": {
      "text/html": [
       "<div>\n",
       "<style scoped>\n",
       "    .dataframe tbody tr th:only-of-type {\n",
       "        vertical-align: middle;\n",
       "    }\n",
       "\n",
       "    .dataframe tbody tr th {\n",
       "        vertical-align: top;\n",
       "    }\n",
       "\n",
       "    .dataframe thead th {\n",
       "        text-align: right;\n",
       "    }\n",
       "</style>\n",
       "<table border=\"1\" class=\"dataframe\">\n",
       "  <thead>\n",
       "    <tr style=\"text-align: right;\">\n",
       "      <th></th>\n",
       "      <th>Cement (component 1)(kg in a m^3 mixture)</th>\n",
       "      <th>Blast Furnace Slag (component 2)(kg in a m^3 mixture)</th>\n",
       "      <th>Fly Ash (component 3)(kg in a m^3 mixture)</th>\n",
       "      <th>Water  (component 4)(kg in a m^3 mixture)</th>\n",
       "      <th>Superplasticizer (component 5)(kg in a m^3 mixture)</th>\n",
       "      <th>Coarse Aggregate  (component 6)(kg in a m^3 mixture)</th>\n",
       "      <th>Fine Aggregate (component 7)(kg in a m^3 mixture)</th>\n",
       "      <th>Age (day)</th>\n",
       "      <th>Concrete compressive strength(MPa, megapascals)</th>\n",
       "    </tr>\n",
       "  </thead>\n",
       "  <tbody>\n",
       "    <tr>\n",
       "      <th>0</th>\n",
       "      <td>540.0</td>\n",
       "      <td>0.0</td>\n",
       "      <td>0.0</td>\n",
       "      <td>162.0</td>\n",
       "      <td>2.5</td>\n",
       "      <td>1040.0</td>\n",
       "      <td>676.0</td>\n",
       "      <td>28</td>\n",
       "      <td>79.986111</td>\n",
       "    </tr>\n",
       "    <tr>\n",
       "      <th>1</th>\n",
       "      <td>540.0</td>\n",
       "      <td>0.0</td>\n",
       "      <td>0.0</td>\n",
       "      <td>162.0</td>\n",
       "      <td>2.5</td>\n",
       "      <td>1055.0</td>\n",
       "      <td>676.0</td>\n",
       "      <td>28</td>\n",
       "      <td>61.887366</td>\n",
       "    </tr>\n",
       "    <tr>\n",
       "      <th>2</th>\n",
       "      <td>332.5</td>\n",
       "      <td>142.5</td>\n",
       "      <td>0.0</td>\n",
       "      <td>228.0</td>\n",
       "      <td>0.0</td>\n",
       "      <td>932.0</td>\n",
       "      <td>594.0</td>\n",
       "      <td>270</td>\n",
       "      <td>40.269535</td>\n",
       "    </tr>\n",
       "    <tr>\n",
       "      <th>3</th>\n",
       "      <td>332.5</td>\n",
       "      <td>142.5</td>\n",
       "      <td>0.0</td>\n",
       "      <td>228.0</td>\n",
       "      <td>0.0</td>\n",
       "      <td>932.0</td>\n",
       "      <td>594.0</td>\n",
       "      <td>365</td>\n",
       "      <td>41.052780</td>\n",
       "    </tr>\n",
       "    <tr>\n",
       "      <th>4</th>\n",
       "      <td>198.6</td>\n",
       "      <td>132.4</td>\n",
       "      <td>0.0</td>\n",
       "      <td>192.0</td>\n",
       "      <td>0.0</td>\n",
       "      <td>978.4</td>\n",
       "      <td>825.5</td>\n",
       "      <td>360</td>\n",
       "      <td>44.296075</td>\n",
       "    </tr>\n",
       "  </tbody>\n",
       "</table>\n",
       "</div>"
      ],
      "text/plain": [
       "   Cement (component 1)(kg in a m^3 mixture)  \\\n",
       "0                                      540.0   \n",
       "1                                      540.0   \n",
       "2                                      332.5   \n",
       "3                                      332.5   \n",
       "4                                      198.6   \n",
       "\n",
       "   Blast Furnace Slag (component 2)(kg in a m^3 mixture)  \\\n",
       "0                                                0.0       \n",
       "1                                                0.0       \n",
       "2                                              142.5       \n",
       "3                                              142.5       \n",
       "4                                              132.4       \n",
       "\n",
       "   Fly Ash (component 3)(kg in a m^3 mixture)  \\\n",
       "0                                         0.0   \n",
       "1                                         0.0   \n",
       "2                                         0.0   \n",
       "3                                         0.0   \n",
       "4                                         0.0   \n",
       "\n",
       "   Water  (component 4)(kg in a m^3 mixture)  \\\n",
       "0                                      162.0   \n",
       "1                                      162.0   \n",
       "2                                      228.0   \n",
       "3                                      228.0   \n",
       "4                                      192.0   \n",
       "\n",
       "   Superplasticizer (component 5)(kg in a m^3 mixture)  \\\n",
       "0                                                2.5     \n",
       "1                                                2.5     \n",
       "2                                                0.0     \n",
       "3                                                0.0     \n",
       "4                                                0.0     \n",
       "\n",
       "   Coarse Aggregate  (component 6)(kg in a m^3 mixture)  \\\n",
       "0                                             1040.0      \n",
       "1                                             1055.0      \n",
       "2                                              932.0      \n",
       "3                                              932.0      \n",
       "4                                              978.4      \n",
       "\n",
       "   Fine Aggregate (component 7)(kg in a m^3 mixture)  Age (day)  \\\n",
       "0                                              676.0         28   \n",
       "1                                              676.0         28   \n",
       "2                                              594.0        270   \n",
       "3                                              594.0        365   \n",
       "4                                              825.5        360   \n",
       "\n",
       "   Concrete compressive strength(MPa, megapascals)   \n",
       "0                                         79.986111  \n",
       "1                                         61.887366  \n",
       "2                                         40.269535  \n",
       "3                                         41.052780  \n",
       "4                                         44.296075  "
      ]
     },
     "execution_count": 3,
     "metadata": {},
     "output_type": "execute_result"
    }
   ],
   "source": [
    "data.head()"
   ]
  },
  {
   "cell_type": "code",
   "execution_count": 4,
   "id": "eea1997a-03a8-462a-a436-05b0fd49a87f",
   "metadata": {},
   "outputs": [
    {
     "data": {
      "text/plain": [
       "(1030, 9)"
      ]
     },
     "execution_count": 4,
     "metadata": {},
     "output_type": "execute_result"
    }
   ],
   "source": [
    "data.shape"
   ]
  },
  {
   "cell_type": "markdown",
   "id": "108d240e-b870-4905-9b91-d9de6c4a520a",
   "metadata": {},
   "source": [
    "### [Data Description](https://archive.ics.uci.edu/ml/datasets/concrete+compressive+strength)\n",
    "Given are the variable name, variable type, the measurement unit and a brief description. The concrete compressive strength is the regression problem. The order of this listing corresponds to the order of numerals along the rows of the database. \n",
    "\n",
    "Name -- Data Type -- Measurement -- Description "
   ]
  },
  {
   "cell_type": "markdown",
   "id": "fa7d579a-8acc-4862-b5ef-fe307a34da7c",
   "metadata": {},
   "source": [
    "1) Cement (component 1) -- quantitative -- kg in a m3 mixture -- Input Variable \n",
    "2) Blast Furnace Slag (component 2) -- quantitative -- kg in a m3 mixture -- Input Variable \n",
    "3) Fly Ash (component 3) -- quantitative -- kg in a m3 mixture -- Input Variable \n",
    "4) Water (component 4) -- quantitative -- kg in a m3 mixture -- Input Variable \n",
    "5) Superplasticizer (component 5) -- quantitative -- kg in a m3 mixture -- Input Variable \n",
    "6) Coarse Aggregate (component 6) -- quantitative -- kg in a m3 mixture -- Input Variable \n",
    "7) Fine Aggregate (component 7) -- quantitative -- kg in a m3 mixture -- Input Variable \n",
    "8) Age -- quantitative -- Day (1~365) -- Input Variable \n",
    "9) Concrete compressive strength -- quantitative -- MPa -- Output Variable `Target`"
   ]
  },
  {
   "cell_type": "markdown",
   "id": "741f7432-8ee5-46a9-8862-c8a89a0f65d5",
   "metadata": {},
   "source": [
    "## Data Preparation"
   ]
  },
  {
   "cell_type": "code",
   "execution_count": 5,
   "id": "aee1ebb1-ce09-4f3d-8068-ad379d2d4370",
   "metadata": {},
   "outputs": [],
   "source": [
    "# rename columns\n",
    "data.columns = [\"Cement\",\"Blast Furnace Slag\",\"Fly Ash\",\"Water\",\"Superplasticizer\",\\\n",
    "                \"Coarse Aggregate\",\"Fine Aggregate\",\"Age (in Days)\",\"Target: Concrete compressive strength\"]"
   ]
  },
  {
   "cell_type": "code",
   "execution_count": 6,
   "id": "a6e28b0e-6005-4e4d-a1f6-52f102322c04",
   "metadata": {},
   "outputs": [
    {
     "data": {
      "text/html": [
       "<div>\n",
       "<style scoped>\n",
       "    .dataframe tbody tr th:only-of-type {\n",
       "        vertical-align: middle;\n",
       "    }\n",
       "\n",
       "    .dataframe tbody tr th {\n",
       "        vertical-align: top;\n",
       "    }\n",
       "\n",
       "    .dataframe thead th {\n",
       "        text-align: right;\n",
       "    }\n",
       "</style>\n",
       "<table border=\"1\" class=\"dataframe\">\n",
       "  <thead>\n",
       "    <tr style=\"text-align: right;\">\n",
       "      <th></th>\n",
       "      <th>Cement</th>\n",
       "      <th>Blast Furnace Slag</th>\n",
       "      <th>Fly Ash</th>\n",
       "      <th>Water</th>\n",
       "      <th>Superplasticizer</th>\n",
       "      <th>Coarse Aggregate</th>\n",
       "      <th>Fine Aggregate</th>\n",
       "      <th>Age (in Days)</th>\n",
       "      <th>Target: Concrete compressive strength</th>\n",
       "    </tr>\n",
       "  </thead>\n",
       "  <tbody>\n",
       "    <tr>\n",
       "      <th>0</th>\n",
       "      <td>540.0</td>\n",
       "      <td>0.0</td>\n",
       "      <td>0.0</td>\n",
       "      <td>162.0</td>\n",
       "      <td>2.5</td>\n",
       "      <td>1040.0</td>\n",
       "      <td>676.0</td>\n",
       "      <td>28</td>\n",
       "      <td>79.986111</td>\n",
       "    </tr>\n",
       "    <tr>\n",
       "      <th>1</th>\n",
       "      <td>540.0</td>\n",
       "      <td>0.0</td>\n",
       "      <td>0.0</td>\n",
       "      <td>162.0</td>\n",
       "      <td>2.5</td>\n",
       "      <td>1055.0</td>\n",
       "      <td>676.0</td>\n",
       "      <td>28</td>\n",
       "      <td>61.887366</td>\n",
       "    </tr>\n",
       "    <tr>\n",
       "      <th>2</th>\n",
       "      <td>332.5</td>\n",
       "      <td>142.5</td>\n",
       "      <td>0.0</td>\n",
       "      <td>228.0</td>\n",
       "      <td>0.0</td>\n",
       "      <td>932.0</td>\n",
       "      <td>594.0</td>\n",
       "      <td>270</td>\n",
       "      <td>40.269535</td>\n",
       "    </tr>\n",
       "    <tr>\n",
       "      <th>3</th>\n",
       "      <td>332.5</td>\n",
       "      <td>142.5</td>\n",
       "      <td>0.0</td>\n",
       "      <td>228.0</td>\n",
       "      <td>0.0</td>\n",
       "      <td>932.0</td>\n",
       "      <td>594.0</td>\n",
       "      <td>365</td>\n",
       "      <td>41.052780</td>\n",
       "    </tr>\n",
       "    <tr>\n",
       "      <th>4</th>\n",
       "      <td>198.6</td>\n",
       "      <td>132.4</td>\n",
       "      <td>0.0</td>\n",
       "      <td>192.0</td>\n",
       "      <td>0.0</td>\n",
       "      <td>978.4</td>\n",
       "      <td>825.5</td>\n",
       "      <td>360</td>\n",
       "      <td>44.296075</td>\n",
       "    </tr>\n",
       "  </tbody>\n",
       "</table>\n",
       "</div>"
      ],
      "text/plain": [
       "   Cement  Blast Furnace Slag  Fly Ash  Water  Superplasticizer  \\\n",
       "0   540.0                 0.0      0.0  162.0               2.5   \n",
       "1   540.0                 0.0      0.0  162.0               2.5   \n",
       "2   332.5               142.5      0.0  228.0               0.0   \n",
       "3   332.5               142.5      0.0  228.0               0.0   \n",
       "4   198.6               132.4      0.0  192.0               0.0   \n",
       "\n",
       "   Coarse Aggregate  Fine Aggregate  Age (in Days)  \\\n",
       "0            1040.0           676.0             28   \n",
       "1            1055.0           676.0             28   \n",
       "2             932.0           594.0            270   \n",
       "3             932.0           594.0            365   \n",
       "4             978.4           825.5            360   \n",
       "\n",
       "   Target: Concrete compressive strength  \n",
       "0                              79.986111  \n",
       "1                              61.887366  \n",
       "2                              40.269535  \n",
       "3                              41.052780  \n",
       "4                              44.296075  "
      ]
     },
     "execution_count": 6,
     "metadata": {},
     "output_type": "execute_result"
    }
   ],
   "source": [
    "data.head()"
   ]
  },
  {
   "cell_type": "markdown",
   "id": "477484a8-decd-449f-ac1e-e9a2b2220b52",
   "metadata": {},
   "source": [
    "### Split Data"
   ]
  },
  {
   "cell_type": "code",
   "execution_count": 7,
   "id": "714b3342-92d3-4afd-af25-133fb3a86d44",
   "metadata": {},
   "outputs": [],
   "source": [
    "X = data.drop(\"Target: Concrete compressive strength\",axis=1)\n",
    "y = data[\"Target: Concrete compressive strength\"]"
   ]
  },
  {
   "cell_type": "code",
   "execution_count": 8,
   "id": "d7eee18d-dd7f-4c13-a6b8-cdd5dccc3fdc",
   "metadata": {},
   "outputs": [
    {
     "data": {
      "text/html": [
       "<div>\n",
       "<style scoped>\n",
       "    .dataframe tbody tr th:only-of-type {\n",
       "        vertical-align: middle;\n",
       "    }\n",
       "\n",
       "    .dataframe tbody tr th {\n",
       "        vertical-align: top;\n",
       "    }\n",
       "\n",
       "    .dataframe thead th {\n",
       "        text-align: right;\n",
       "    }\n",
       "</style>\n",
       "<table border=\"1\" class=\"dataframe\">\n",
       "  <thead>\n",
       "    <tr style=\"text-align: right;\">\n",
       "      <th></th>\n",
       "      <th>Cement</th>\n",
       "      <th>Blast Furnace Slag</th>\n",
       "      <th>Fly Ash</th>\n",
       "      <th>Water</th>\n",
       "      <th>Superplasticizer</th>\n",
       "      <th>Coarse Aggregate</th>\n",
       "      <th>Fine Aggregate</th>\n",
       "      <th>Age (in Days)</th>\n",
       "    </tr>\n",
       "  </thead>\n",
       "  <tbody>\n",
       "    <tr>\n",
       "      <th>0</th>\n",
       "      <td>540.0</td>\n",
       "      <td>0.0</td>\n",
       "      <td>0.0</td>\n",
       "      <td>162.0</td>\n",
       "      <td>2.5</td>\n",
       "      <td>1040.0</td>\n",
       "      <td>676.0</td>\n",
       "      <td>28</td>\n",
       "    </tr>\n",
       "    <tr>\n",
       "      <th>1</th>\n",
       "      <td>540.0</td>\n",
       "      <td>0.0</td>\n",
       "      <td>0.0</td>\n",
       "      <td>162.0</td>\n",
       "      <td>2.5</td>\n",
       "      <td>1055.0</td>\n",
       "      <td>676.0</td>\n",
       "      <td>28</td>\n",
       "    </tr>\n",
       "    <tr>\n",
       "      <th>2</th>\n",
       "      <td>332.5</td>\n",
       "      <td>142.5</td>\n",
       "      <td>0.0</td>\n",
       "      <td>228.0</td>\n",
       "      <td>0.0</td>\n",
       "      <td>932.0</td>\n",
       "      <td>594.0</td>\n",
       "      <td>270</td>\n",
       "    </tr>\n",
       "    <tr>\n",
       "      <th>3</th>\n",
       "      <td>332.5</td>\n",
       "      <td>142.5</td>\n",
       "      <td>0.0</td>\n",
       "      <td>228.0</td>\n",
       "      <td>0.0</td>\n",
       "      <td>932.0</td>\n",
       "      <td>594.0</td>\n",
       "      <td>365</td>\n",
       "    </tr>\n",
       "    <tr>\n",
       "      <th>4</th>\n",
       "      <td>198.6</td>\n",
       "      <td>132.4</td>\n",
       "      <td>0.0</td>\n",
       "      <td>192.0</td>\n",
       "      <td>0.0</td>\n",
       "      <td>978.4</td>\n",
       "      <td>825.5</td>\n",
       "      <td>360</td>\n",
       "    </tr>\n",
       "  </tbody>\n",
       "</table>\n",
       "</div>"
      ],
      "text/plain": [
       "   Cement  Blast Furnace Slag  Fly Ash  Water  Superplasticizer  \\\n",
       "0   540.0                 0.0      0.0  162.0               2.5   \n",
       "1   540.0                 0.0      0.0  162.0               2.5   \n",
       "2   332.5               142.5      0.0  228.0               0.0   \n",
       "3   332.5               142.5      0.0  228.0               0.0   \n",
       "4   198.6               132.4      0.0  192.0               0.0   \n",
       "\n",
       "   Coarse Aggregate  Fine Aggregate  Age (in Days)  \n",
       "0            1040.0           676.0             28  \n",
       "1            1055.0           676.0             28  \n",
       "2             932.0           594.0            270  \n",
       "3             932.0           594.0            365  \n",
       "4             978.4           825.5            360  "
      ]
     },
     "execution_count": 8,
     "metadata": {},
     "output_type": "execute_result"
    }
   ],
   "source": [
    "X.head()"
   ]
  },
  {
   "cell_type": "code",
   "execution_count": 9,
   "id": "90647c9b-b3f9-452e-a4b8-30a53bba9cf6",
   "metadata": {},
   "outputs": [
    {
     "data": {
      "text/plain": [
       "0    79.986111\n",
       "1    61.887366\n",
       "2    40.269535\n",
       "3    41.052780\n",
       "4    44.296075\n",
       "Name: Target: Concrete compressive strength, dtype: float64"
      ]
     },
     "execution_count": 9,
     "metadata": {},
     "output_type": "execute_result"
    }
   ],
   "source": [
    "y.head()"
   ]
  },
  {
   "cell_type": "code",
   "execution_count": 10,
   "id": "ff015c7c-1928-481d-b8f2-106556488e5b",
   "metadata": {},
   "outputs": [],
   "source": [
    "# train test split\n",
    "X_train, X_test, y_train, y_test = train_test_split(X,y, test_size=0.2, random_state=11)"
   ]
  },
  {
   "cell_type": "code",
   "execution_count": 11,
   "id": "ceed85c5-196f-4cc1-bfea-9317b051f9d7",
   "metadata": {},
   "outputs": [
    {
     "data": {
      "text/plain": [
       "((1030, 8), (1030,))"
      ]
     },
     "execution_count": 11,
     "metadata": {},
     "output_type": "execute_result"
    }
   ],
   "source": [
    "X.shape, y.shape"
   ]
  },
  {
   "cell_type": "code",
   "execution_count": 12,
   "id": "bfc6f726-ab51-4452-8bc6-015cb37908c4",
   "metadata": {},
   "outputs": [
    {
     "data": {
      "text/plain": [
       "((824, 8), (206, 8), (824,), (206,))"
      ]
     },
     "execution_count": 12,
     "metadata": {},
     "output_type": "execute_result"
    }
   ],
   "source": [
    "X_train.shape, X_test.shape, y_train.shape, y_test.shape"
   ]
  },
  {
   "cell_type": "markdown",
   "id": "c15a4fe4-b086-46cb-8fbc-e98a828f4015",
   "metadata": {},
   "source": [
    "## Modelling"
   ]
  },
  {
   "cell_type": "code",
   "execution_count": 13,
   "id": "a6e983d3-9179-4704-a98e-d676b5f49cf7",
   "metadata": {},
   "outputs": [],
   "source": [
    "model = ensemble.RandomForestRegressor(criterion=\"squared_error\", n_estimators=100)\n",
    "model.fit(X_train,y_train)\n",
    "y_pred = model.predict(X_test)"
   ]
  },
  {
   "cell_type": "markdown",
   "id": "4912b9f1-4f6f-4a49-8fc0-96226f628051",
   "metadata": {},
   "source": [
    "## Evaluation"
   ]
  },
  {
   "cell_type": "code",
   "execution_count": 14,
   "id": "8e0ac06d-5e46-4fd9-98d4-a6e9da3c81f9",
   "metadata": {},
   "outputs": [
    {
     "data": {
      "text/plain": [
       "0.9160051996034163"
      ]
     },
     "execution_count": 14,
     "metadata": {},
     "output_type": "execute_result"
    }
   ],
   "source": [
    "model.score(X_test,y_test)"
   ]
  },
  {
   "cell_type": "markdown",
   "id": "a518e025-be24-48aa-a039-bf1ec896ded4",
   "metadata": {},
   "source": [
    "# Feature Selection | Filter Method | F-Score"
   ]
  },
  {
   "cell_type": "markdown",
   "id": "1884c832-59bb-491b-af8f-4028de82242e",
   "metadata": {},
   "source": [
    "**F-Score for Regression**\n",
    "\n",
    "Univariate linear regression tests returning F-statistic and p-values.\n",
    "\n",
    "Quick linear model for testing the effect of a single regressor,\n",
    "sequentially for many regressors.\n",
    "\n",
    "This is done in 2 steps:\n",
    "\n",
    "1. The cross correlation between each regressor and the target is computed\n",
    "   using :func:`r_regression`\n",
    "   \n",
    "2. It is converted to an F score and then to a p-value."
   ]
  },
  {
   "cell_type": "markdown",
   "id": "61ba86ad-dcbf-44a9-afa0-bb6084ae7d07",
   "metadata": {},
   "source": [
    "## Splitting Data"
   ]
  },
  {
   "cell_type": "code",
   "execution_count": 15,
   "id": "9b70c45a-115a-4b64-a86d-20923729b63e",
   "metadata": {},
   "outputs": [],
   "source": [
    "X1 = X.copy(deep=True)\n",
    "y1 = y.copy(deep=True)"
   ]
  },
  {
   "cell_type": "code",
   "execution_count": 16,
   "id": "c7d7c047-f1e4-4709-8b0c-31e96c6e44ca",
   "metadata": {},
   "outputs": [],
   "source": [
    "# train test split\n",
    "X_train, X_test, y_train, y_test = train_test_split(X1,y1, test_size=0.2, random_state=11)"
   ]
  },
  {
   "cell_type": "code",
   "execution_count": 17,
   "id": "16ee2d7e-03da-4f06-9745-9c8762d69e0d",
   "metadata": {},
   "outputs": [
    {
     "name": "stdout",
     "output_type": "stream",
     "text": [
      "F-Score:\n",
      " [338.72579369  19.03257174  11.62694924  94.11879731 159.10932173\n",
      "  28.74470957  29.58293761 124.67320926]\n",
      "\n",
      "P-Value:\n",
      " [1.32345795e-65 1.41457499e-05 6.75283560e-04 2.36607270e-21\n",
      " 5.07908924e-34 1.01959722e-07 6.69468148e-08 2.10314421e-27]\n"
     ]
    }
   ],
   "source": [
    "# Returns two array one: is F_Score and another: is its P-Value\n",
    "f_Score_P_val = feat_selec.f_regression(X1,y1)\n",
    "\n",
    "print(f\"F-Score:\\n {f_Score_P_val[0]}\\n\")\n",
    "print(f\"P-Value:\\n {f_Score_P_val[1]}\")"
   ]
  },
  {
   "cell_type": "code",
   "execution_count": 18,
   "id": "1eb1997d-b45a-4830-8df8-49d005d555f7",
   "metadata": {},
   "outputs": [],
   "source": [
    "# selecting top k best features \n",
    "# Select features according to the k highest scores.\n",
    "# k : represents the no. of top k features we want \n",
    "skbest = feat_selec.SelectKBest(score_func=feat_selec.f_regression, k=7)"
   ]
  },
  {
   "cell_type": "code",
   "execution_count": 19,
   "id": "0c83474f-e1ea-4131-821a-7451c2c78f64",
   "metadata": {},
   "outputs": [],
   "source": [
    "# fit transform\n",
    "selected_features = skbest.fit_transform(X1,y1)"
   ]
  },
  {
   "cell_type": "code",
   "execution_count": 20,
   "id": "dce24b38-01cf-4fc8-b77d-41e9ddd026db",
   "metadata": {},
   "outputs": [
    {
     "name": "stdout",
     "output_type": "stream",
     "text": [
      "['Cement' 'Blast Furnace Slag' 'Water' 'Superplasticizer'\n",
      " 'Coarse Aggregate' 'Fine Aggregate' 'Age (in Days)']\n"
     ]
    },
    {
     "data": {
      "text/plain": [
       "['Cement',\n",
       " 'Blast Furnace Slag',\n",
       " 'Water',\n",
       " 'Superplasticizer',\n",
       " 'Coarse Aggregate',\n",
       " 'Fine Aggregate',\n",
       " 'Age (in Days)']"
      ]
     },
     "execution_count": 20,
     "metadata": {},
     "output_type": "execute_result"
    }
   ],
   "source": [
    "# selected features\n",
    "print(skbest.get_feature_names_out())\n",
    "\n",
    "list(X.columns[skbest.get_support()])"
   ]
  },
  {
   "cell_type": "markdown",
   "id": "b5e31117-7e26-4f23-952f-325f9b8b6d88",
   "metadata": {},
   "source": [
    "## Selecting Features\n",
    "Selecting the top k best features"
   ]
  },
  {
   "cell_type": "code",
   "execution_count": 21,
   "id": "6a7881e7-fe73-4264-8cc9-ba42d67d78cb",
   "metadata": {},
   "outputs": [],
   "source": [
    "# Selecting the top k best features\n",
    "X_train_modi = X_train[skbest.get_feature_names_out()]\n",
    "X_test_modi = X_test[skbest.get_feature_names_out()]"
   ]
  },
  {
   "cell_type": "code",
   "execution_count": 22,
   "id": "013b4f9b-5826-4697-abcc-91c6b8b5b771",
   "metadata": {},
   "outputs": [
    {
     "data": {
      "text/html": [
       "<div>\n",
       "<style scoped>\n",
       "    .dataframe tbody tr th:only-of-type {\n",
       "        vertical-align: middle;\n",
       "    }\n",
       "\n",
       "    .dataframe tbody tr th {\n",
       "        vertical-align: top;\n",
       "    }\n",
       "\n",
       "    .dataframe thead th {\n",
       "        text-align: right;\n",
       "    }\n",
       "</style>\n",
       "<table border=\"1\" class=\"dataframe\">\n",
       "  <thead>\n",
       "    <tr style=\"text-align: right;\">\n",
       "      <th></th>\n",
       "      <th>Cement</th>\n",
       "      <th>Blast Furnace Slag</th>\n",
       "      <th>Water</th>\n",
       "      <th>Superplasticizer</th>\n",
       "      <th>Coarse Aggregate</th>\n",
       "      <th>Fine Aggregate</th>\n",
       "      <th>Age (in Days)</th>\n",
       "    </tr>\n",
       "  </thead>\n",
       "  <tbody>\n",
       "    <tr>\n",
       "      <th>144</th>\n",
       "      <td>475.0</td>\n",
       "      <td>118.8</td>\n",
       "      <td>181.1</td>\n",
       "      <td>8.90</td>\n",
       "      <td>852.1</td>\n",
       "      <td>781.5</td>\n",
       "      <td>56</td>\n",
       "    </tr>\n",
       "    <tr>\n",
       "      <th>488</th>\n",
       "      <td>387.0</td>\n",
       "      <td>20.0</td>\n",
       "      <td>157.0</td>\n",
       "      <td>14.32</td>\n",
       "      <td>938.0</td>\n",
       "      <td>845.0</td>\n",
       "      <td>3</td>\n",
       "    </tr>\n",
       "    <tr>\n",
       "      <th>974</th>\n",
       "      <td>148.1</td>\n",
       "      <td>0.0</td>\n",
       "      <td>181.4</td>\n",
       "      <td>15.00</td>\n",
       "      <td>838.9</td>\n",
       "      <td>884.3</td>\n",
       "      <td>28</td>\n",
       "    </tr>\n",
       "    <tr>\n",
       "      <th>895</th>\n",
       "      <td>260.0</td>\n",
       "      <td>101.0</td>\n",
       "      <td>171.0</td>\n",
       "      <td>10.00</td>\n",
       "      <td>936.0</td>\n",
       "      <td>763.0</td>\n",
       "      <td>28</td>\n",
       "    </tr>\n",
       "    <tr>\n",
       "      <th>627</th>\n",
       "      <td>200.0</td>\n",
       "      <td>0.0</td>\n",
       "      <td>180.0</td>\n",
       "      <td>0.00</td>\n",
       "      <td>1125.0</td>\n",
       "      <td>845.0</td>\n",
       "      <td>7</td>\n",
       "    </tr>\n",
       "  </tbody>\n",
       "</table>\n",
       "</div>"
      ],
      "text/plain": [
       "     Cement  Blast Furnace Slag  Water  Superplasticizer  Coarse Aggregate  \\\n",
       "144   475.0               118.8  181.1              8.90             852.1   \n",
       "488   387.0                20.0  157.0             14.32             938.0   \n",
       "974   148.1                 0.0  181.4             15.00             838.9   \n",
       "895   260.0               101.0  171.0             10.00             936.0   \n",
       "627   200.0                 0.0  180.0              0.00            1125.0   \n",
       "\n",
       "     Fine Aggregate  Age (in Days)  \n",
       "144           781.5             56  \n",
       "488           845.0              3  \n",
       "974           884.3             28  \n",
       "895           763.0             28  \n",
       "627           845.0              7  "
      ]
     },
     "execution_count": 22,
     "metadata": {},
     "output_type": "execute_result"
    }
   ],
   "source": [
    "X_train_modi.head()"
   ]
  },
  {
   "cell_type": "code",
   "execution_count": 23,
   "id": "23992a1b-1825-4b48-945e-a55ff7e90287",
   "metadata": {},
   "outputs": [
    {
     "data": {
      "text/html": [
       "<div>\n",
       "<style scoped>\n",
       "    .dataframe tbody tr th:only-of-type {\n",
       "        vertical-align: middle;\n",
       "    }\n",
       "\n",
       "    .dataframe tbody tr th {\n",
       "        vertical-align: top;\n",
       "    }\n",
       "\n",
       "    .dataframe thead th {\n",
       "        text-align: right;\n",
       "    }\n",
       "</style>\n",
       "<table border=\"1\" class=\"dataframe\">\n",
       "  <thead>\n",
       "    <tr style=\"text-align: right;\">\n",
       "      <th></th>\n",
       "      <th>Cement</th>\n",
       "      <th>Blast Furnace Slag</th>\n",
       "      <th>Water</th>\n",
       "      <th>Superplasticizer</th>\n",
       "      <th>Coarse Aggregate</th>\n",
       "      <th>Fine Aggregate</th>\n",
       "      <th>Age (in Days)</th>\n",
       "    </tr>\n",
       "  </thead>\n",
       "  <tbody>\n",
       "    <tr>\n",
       "      <th>86</th>\n",
       "      <td>362.60</td>\n",
       "      <td>189.0</td>\n",
       "      <td>164.90</td>\n",
       "      <td>11.60</td>\n",
       "      <td>944.70</td>\n",
       "      <td>755.80</td>\n",
       "      <td>3</td>\n",
       "    </tr>\n",
       "    <tr>\n",
       "      <th>324</th>\n",
       "      <td>252.31</td>\n",
       "      <td>0.0</td>\n",
       "      <td>146.25</td>\n",
       "      <td>14.17</td>\n",
       "      <td>987.76</td>\n",
       "      <td>889.01</td>\n",
       "      <td>3</td>\n",
       "    </tr>\n",
       "    <tr>\n",
       "      <th>786</th>\n",
       "      <td>331.00</td>\n",
       "      <td>0.0</td>\n",
       "      <td>192.00</td>\n",
       "      <td>0.00</td>\n",
       "      <td>978.00</td>\n",
       "      <td>825.00</td>\n",
       "      <td>28</td>\n",
       "    </tr>\n",
       "    <tr>\n",
       "      <th>278</th>\n",
       "      <td>251.37</td>\n",
       "      <td>0.0</td>\n",
       "      <td>188.45</td>\n",
       "      <td>5.75</td>\n",
       "      <td>1028.40</td>\n",
       "      <td>757.73</td>\n",
       "      <td>100</td>\n",
       "    </tr>\n",
       "    <tr>\n",
       "      <th>353</th>\n",
       "      <td>213.50</td>\n",
       "      <td>0.0</td>\n",
       "      <td>154.61</td>\n",
       "      <td>11.66</td>\n",
       "      <td>1052.30</td>\n",
       "      <td>775.48</td>\n",
       "      <td>100</td>\n",
       "    </tr>\n",
       "  </tbody>\n",
       "</table>\n",
       "</div>"
      ],
      "text/plain": [
       "     Cement  Blast Furnace Slag   Water  Superplasticizer  Coarse Aggregate  \\\n",
       "86   362.60               189.0  164.90             11.60            944.70   \n",
       "324  252.31                 0.0  146.25             14.17            987.76   \n",
       "786  331.00                 0.0  192.00              0.00            978.00   \n",
       "278  251.37                 0.0  188.45              5.75           1028.40   \n",
       "353  213.50                 0.0  154.61             11.66           1052.30   \n",
       "\n",
       "     Fine Aggregate  Age (in Days)  \n",
       "86           755.80              3  \n",
       "324          889.01              3  \n",
       "786          825.00             28  \n",
       "278          757.73            100  \n",
       "353          775.48            100  "
      ]
     },
     "execution_count": 23,
     "metadata": {},
     "output_type": "execute_result"
    }
   ],
   "source": [
    "X_test_modi.head()"
   ]
  },
  {
   "cell_type": "markdown",
   "id": "355b35cc-b6e5-4961-b8da-b7ab05b2768c",
   "metadata": {},
   "source": [
    "## Modelling"
   ]
  },
  {
   "cell_type": "code",
   "execution_count": 24,
   "id": "060a8e3b-8712-47fd-85e1-6fe6adf3666c",
   "metadata": {},
   "outputs": [],
   "source": [
    "model = ensemble.RandomForestRegressor(criterion=\"squared_error\", n_estimators=100)\n",
    "model.fit(X_train,y_train)\n",
    "y_pred = model.predict(X_test)"
   ]
  },
  {
   "cell_type": "markdown",
   "id": "8c758ad9-baa9-4852-8f0d-3768ba01b496",
   "metadata": {},
   "source": [
    "## Evaluation"
   ]
  },
  {
   "cell_type": "code",
   "execution_count": 25,
   "id": "24cc8264-9edc-47b5-a437-dedf4184eaa8",
   "metadata": {},
   "outputs": [
    {
     "data": {
      "text/plain": [
       "0.9143391029278818"
      ]
     },
     "execution_count": 25,
     "metadata": {},
     "output_type": "execute_result"
    }
   ],
   "source": [
    "model.score(X_test,y_test)"
   ]
  },
  {
   "cell_type": "markdown",
   "id": "24b137c3-70ad-46e2-8d5d-3492e3072aee",
   "metadata": {},
   "source": [
    "# Feature Selection | Wrapper Method | `Forward Feature Selection`\n",
    "`.SequentialFeatureSelector():`</br>\n",
    "Transformer that performs Sequential Feature Selection.\n",
    "\n",
    "This Sequential Feature Selector adds (forward selection) or\n",
    "removes (backward selection) features to form a feature subset in a\n",
    "greedy fashion. At each stage, this estimator chooses the best feature to\n",
    "add or remove based on the cross-validation score of an estimator. In\n",
    "the case of unsupervised learning, this Sequential Feature Selector\n",
    "looks only at the features (X), not the desired outputs (y)."
   ]
  },
  {
   "cell_type": "markdown",
   "id": "7bb1ce18-f5bf-4d65-9e2c-ff88b234ec17",
   "metadata": {},
   "source": [
    "## Splitting Data"
   ]
  },
  {
   "cell_type": "code",
   "execution_count": 26,
   "id": "240b35b9-148c-4b3a-b45a-4b9c4f5a810a",
   "metadata": {},
   "outputs": [],
   "source": [
    "X2 = X.copy(deep=True)\n",
    "y2 = X.copy(deep=True)"
   ]
  },
  {
   "cell_type": "code",
   "execution_count": 27,
   "id": "a3d86bbe-e7b1-4448-a5fb-41f4450dd925",
   "metadata": {},
   "outputs": [],
   "source": [
    "# train test split\n",
    "X_train, X_test, y_train, y_test = train_test_split(X1,y1, test_size=0.2, random_state=11)"
   ]
  },
  {
   "cell_type": "markdown",
   "id": "b9f2ebb5-bd06-4f4e-8866-8bb310d3d5a0",
   "metadata": {},
   "source": [
    "## Model"
   ]
  },
  {
   "cell_type": "code",
   "execution_count": 28,
   "id": "c0c1deeb-b923-4b99-81aa-46e681dc527a",
   "metadata": {},
   "outputs": [],
   "source": [
    "model = ensemble.RandomForestRegressor(criterion=\"squared_error\",random_state=11,n_estimators=100)"
   ]
  },
  {
   "cell_type": "markdown",
   "id": "49a33cb2-0499-4ed7-90da-dff4c990ff39",
   "metadata": {},
   "source": [
    "## Selecting Features"
   ]
  },
  {
   "cell_type": "code",
   "execution_count": 29,
   "id": "11ae2b28-efe6-49e9-8bf8-dfa292ca7313",
   "metadata": {},
   "outputs": [],
   "source": [
    "forward_feature_selection = feat_selec.SequentialFeatureSelector(model,n_features_to_select=7, direction=\"forward\",scoring=\"r2\",cv=5)"
   ]
  },
  {
   "cell_type": "code",
   "execution_count": 30,
   "id": "1d50243b-d8b6-41ad-836f-437d6538b928",
   "metadata": {},
   "outputs": [],
   "source": [
    "# selected features\n",
    "selected_features = forward_feature_selection.fit_transform(X2,y2)"
   ]
  },
  {
   "cell_type": "code",
   "execution_count": 31,
   "id": "be2044ee-fe0f-4c2b-896f-61c13b53f3bf",
   "metadata": {},
   "outputs": [
    {
     "data": {
      "text/plain": [
       "array(['Cement', 'Blast Furnace Slag', 'Fly Ash', 'Water',\n",
       "       'Superplasticizer', 'Coarse Aggregate', 'Age (in Days)'],\n",
       "      dtype=object)"
      ]
     },
     "execution_count": 31,
     "metadata": {},
     "output_type": "execute_result"
    }
   ],
   "source": [
    "forward_feature_selection.get_feature_names_out()"
   ]
  },
  {
   "cell_type": "code",
   "execution_count": 32,
   "id": "f30e14c1-56c5-405f-a825-83c6329f0f63",
   "metadata": {},
   "outputs": [],
   "source": [
    "# using selected features\n",
    "X_train = X_train[forward_feature_selection.get_feature_names_out()]\n",
    "X_test = X_test[forward_feature_selection.get_feature_names_out()]"
   ]
  },
  {
   "cell_type": "markdown",
   "id": "a43cbc72-e98f-41e5-b308-bdb7a1abd5e9",
   "metadata": {},
   "source": [
    "## Modelling"
   ]
  },
  {
   "cell_type": "code",
   "execution_count": 33,
   "id": "a9354598-0588-4b21-8404-7047bbd75cff",
   "metadata": {},
   "outputs": [],
   "source": [
    "model = ensemble.RandomForestRegressor(criterion=\"squared_error\",random_state=11,n_estimators=100)\n",
    "model.fit(X_train,y_train)\n",
    "y_pred = model.predict(X_test)"
   ]
  },
  {
   "cell_type": "markdown",
   "id": "088c5258-c383-42eb-b7bf-b17c302106e6",
   "metadata": {},
   "source": [
    "## Evaluation"
   ]
  },
  {
   "cell_type": "code",
   "execution_count": 34,
   "id": "e7604341-6943-47ee-b250-77838778b907",
   "metadata": {},
   "outputs": [
    {
     "data": {
      "text/plain": [
       "0.9127870385208179"
      ]
     },
     "execution_count": 34,
     "metadata": {},
     "output_type": "execute_result"
    }
   ],
   "source": [
    "model.score(X_test,y_test)"
   ]
  },
  {
   "cell_type": "markdown",
   "id": "904abe07-334b-4ee8-8060-a5e69dd0120e",
   "metadata": {},
   "source": [
    "# Feature Selection | Wrapper Method | `Backward Feature Selection/Elimination`\n",
    "`.SequentialFeatureSelector():`</br>"
   ]
  },
  {
   "cell_type": "markdown",
   "id": "fc89d7a1-e36a-4097-855d-8b7de3384c1a",
   "metadata": {},
   "source": [
    "## Splitting Data"
   ]
  },
  {
   "cell_type": "code",
   "execution_count": 35,
   "id": "b4b656a2-b699-4b30-88ee-3f8609ba6517",
   "metadata": {},
   "outputs": [],
   "source": [
    "X3 = X.copy(deep=True)\n",
    "y3 = y.copy(deep=True)"
   ]
  },
  {
   "cell_type": "code",
   "execution_count": 36,
   "id": "b8296c16-6c1a-4db6-b08b-0b39afd84173",
   "metadata": {},
   "outputs": [],
   "source": [
    "# train test split\n",
    "X_train,X_test,y_train,y_test = train_test_split(X3,y3,test_size=0.2,random_state=11)"
   ]
  },
  {
   "cell_type": "markdown",
   "id": "12ad2a54-97ac-45cd-b878-4b62974f9083",
   "metadata": {},
   "source": [
    "## Backward Feature Elimination"
   ]
  },
  {
   "cell_type": "code",
   "execution_count": 37,
   "id": "88d6adb6-ec9d-43b4-b480-a18946820630",
   "metadata": {},
   "outputs": [
    {
     "data": {
      "text/plain": [
       "(1030, 8)"
      ]
     },
     "execution_count": 37,
     "metadata": {},
     "output_type": "execute_result"
    }
   ],
   "source": [
    "X.shape"
   ]
  },
  {
   "cell_type": "code",
   "execution_count": 38,
   "id": "c7f9ece4-c1ce-4aee-a8c7-df7e63592054",
   "metadata": {},
   "outputs": [],
   "source": [
    "# model \n",
    "model = ensemble.RandomForestRegressor(n_estimators=300)\n",
    "\n",
    "# backward feature elimination\n",
    "backward = feat_selec.SequentialFeatureSelector(model, n_features_to_select=6, direction=\"backward\",scoring=\"r2\",cv=5)\n",
    "\n",
    "# selected features\n",
    "selected_features = backward.fit_transform(X3,y3)"
   ]
  },
  {
   "cell_type": "code",
   "execution_count": 39,
   "id": "eec11ca5-7e9a-470d-a786-d588a67e2fcb",
   "metadata": {},
   "outputs": [
    {
     "data": {
      "text/plain": [
       "array(['Cement', 'Blast Furnace Slag', 'Fly Ash', 'Water',\n",
       "       'Coarse Aggregate', 'Age (in Days)'], dtype=object)"
      ]
     },
     "execution_count": 39,
     "metadata": {},
     "output_type": "execute_result"
    }
   ],
   "source": [
    "# display selected features\n",
    "backward.get_feature_names_out()"
   ]
  },
  {
   "cell_type": "code",
   "execution_count": 40,
   "id": "88fa5112-714e-4a31-9fa3-69989011035f",
   "metadata": {},
   "outputs": [],
   "source": [
    "# replacing old features with selected features\n",
    "X_train = X_train[backward.get_feature_names_out()]\n",
    "X_test = X_test[backward.get_feature_names_out()]"
   ]
  },
  {
   "cell_type": "markdown",
   "id": "6b328edc-d618-4b0a-bd51-44c7751ee183",
   "metadata": {},
   "source": [
    "## Modelling"
   ]
  },
  {
   "cell_type": "code",
   "execution_count": 41,
   "id": "8a3a2bf0-67e9-49e7-b20d-69b359fb1588",
   "metadata": {},
   "outputs": [],
   "source": [
    "# model\n",
    "model = ensemble.RandomForestRegressor(n_estimators=300)\n",
    "model.fit(X_train, y_train)\n",
    "y_pred = model.predict(X_test)"
   ]
  },
  {
   "cell_type": "markdown",
   "id": "51b55dd9-1df9-4079-8afb-c1d97c0f2cf4",
   "metadata": {},
   "source": [
    "## Evaluation"
   ]
  },
  {
   "cell_type": "code",
   "execution_count": 42,
   "id": "c12fd126-8eda-4a2c-9079-cdc277573a28",
   "metadata": {},
   "outputs": [
    {
     "data": {
      "text/plain": [
       "0.9112604504869206"
      ]
     },
     "execution_count": 42,
     "metadata": {},
     "output_type": "execute_result"
    }
   ],
   "source": [
    "model.score(X_test,y_test)"
   ]
  },
  {
   "cell_type": "markdown",
   "id": "3c97616c-aff2-4fea-80e3-64c7f0ddebc1",
   "metadata": {},
   "source": [
    "## RMSE"
   ]
  },
  {
   "cell_type": "code",
   "execution_count": 43,
   "id": "02ab7027-3300-47eb-9979-486a83165000",
   "metadata": {},
   "outputs": [
    {
     "name": "stdout",
     "output_type": "stream",
     "text": [
      "MSE : 21.793173598161708\n",
      "RMSE : 4.66831592741555\n"
     ]
    }
   ],
   "source": [
    "# Mean Squared Error\n",
    "mse = eval_metrics.mean_squared_error(y_test,y_pred)\n",
    "\n",
    "# Root Mean Squared Error\n",
    "rmse = np.sqrt(mse)\n",
    "\n",
    "print(f\"MSE : {mse}\")\n",
    "print(f\"RMSE : {rmse}\")"
   ]
  },
  {
   "cell_type": "code",
   "execution_count": null,
   "id": "e4d1600b-c55a-4bc1-b9d1-3cad6f57b588",
   "metadata": {},
   "outputs": [],
   "source": []
  }
 ],
 "metadata": {
  "kernelspec": {
   "display_name": "Python 3 (ipykernel)",
   "language": "python",
   "name": "python3"
  },
  "language_info": {
   "codemirror_mode": {
    "name": "ipython",
    "version": 3
   },
   "file_extension": ".py",
   "mimetype": "text/x-python",
   "name": "python",
   "nbconvert_exporter": "python",
   "pygments_lexer": "ipython3",
   "version": "3.11.1"
  }
 },
 "nbformat": 4,
 "nbformat_minor": 5
}
