{
 "cells": [
  {
   "cell_type": "markdown",
   "id": "202658ad-b067-4fa6-be63-0176faf82494",
   "metadata": {},
   "source": [
    "# <center>Concrete</center>\n",
    "---"
   ]
  },
  {
   "cell_type": "markdown",
   "id": "23581b6e-6dd7-4642-b9ef-8be899b24f76",
   "metadata": {
    "tags": []
   },
   "source": [
    "## Regression"
   ]
  },
  {
   "cell_type": "code",
   "execution_count": 1,
   "id": "7ed88dac-ceb3-4766-9e8d-b67edc22d1db",
   "metadata": {},
   "outputs": [],
   "source": [
    "# import libraries\n",
    "import numpy as np\n",
    "import pandas as pd\n",
    "import sklearn.tree as tree\n",
    "import sklearn.ensemble as ens\n",
    "import sklearn.preprocessing as pre_pro\n",
    "import sklearn.metrics as eval_metrics\n",
    "import sklearn.feature_selection as feat_selec\n",
    "from sklearn.model_selection import train_test_split"
   ]
  },
  {
   "cell_type": "markdown",
   "id": "bf0ce741-2b90-4059-83d5-c18b116f4233",
   "metadata": {},
   "source": [
    "### Load Data "
   ]
  },
  {
   "cell_type": "code",
   "execution_count": 2,
   "id": "94644b68-77f2-4dc5-827e-387ffb9af286",
   "metadata": {},
   "outputs": [],
   "source": [
    "data = pd.read_excel(\"data/Concrete_Data.xls\")"
   ]
  },
  {
   "cell_type": "code",
   "execution_count": 3,
   "id": "a9083350-4e83-4fad-9191-983e04416eef",
   "metadata": {},
   "outputs": [
    {
     "data": {
      "text/html": [
       "<div>\n",
       "<style scoped>\n",
       "    .dataframe tbody tr th:only-of-type {\n",
       "        vertical-align: middle;\n",
       "    }\n",
       "\n",
       "    .dataframe tbody tr th {\n",
       "        vertical-align: top;\n",
       "    }\n",
       "\n",
       "    .dataframe thead th {\n",
       "        text-align: right;\n",
       "    }\n",
       "</style>\n",
       "<table border=\"1\" class=\"dataframe\">\n",
       "  <thead>\n",
       "    <tr style=\"text-align: right;\">\n",
       "      <th></th>\n",
       "      <th>Cement (component 1)(kg in a m^3 mixture)</th>\n",
       "      <th>Blast Furnace Slag (component 2)(kg in a m^3 mixture)</th>\n",
       "      <th>Fly Ash (component 3)(kg in a m^3 mixture)</th>\n",
       "      <th>Water  (component 4)(kg in a m^3 mixture)</th>\n",
       "      <th>Superplasticizer (component 5)(kg in a m^3 mixture)</th>\n",
       "      <th>Coarse Aggregate  (component 6)(kg in a m^3 mixture)</th>\n",
       "      <th>Fine Aggregate (component 7)(kg in a m^3 mixture)</th>\n",
       "      <th>Age (day)</th>\n",
       "      <th>Concrete compressive strength(MPa, megapascals)</th>\n",
       "    </tr>\n",
       "  </thead>\n",
       "  <tbody>\n",
       "    <tr>\n",
       "      <th>0</th>\n",
       "      <td>540.0</td>\n",
       "      <td>0.0</td>\n",
       "      <td>0.0</td>\n",
       "      <td>162.0</td>\n",
       "      <td>2.5</td>\n",
       "      <td>1040.0</td>\n",
       "      <td>676.0</td>\n",
       "      <td>28</td>\n",
       "      <td>79.986111</td>\n",
       "    </tr>\n",
       "    <tr>\n",
       "      <th>1</th>\n",
       "      <td>540.0</td>\n",
       "      <td>0.0</td>\n",
       "      <td>0.0</td>\n",
       "      <td>162.0</td>\n",
       "      <td>2.5</td>\n",
       "      <td>1055.0</td>\n",
       "      <td>676.0</td>\n",
       "      <td>28</td>\n",
       "      <td>61.887366</td>\n",
       "    </tr>\n",
       "    <tr>\n",
       "      <th>2</th>\n",
       "      <td>332.5</td>\n",
       "      <td>142.5</td>\n",
       "      <td>0.0</td>\n",
       "      <td>228.0</td>\n",
       "      <td>0.0</td>\n",
       "      <td>932.0</td>\n",
       "      <td>594.0</td>\n",
       "      <td>270</td>\n",
       "      <td>40.269535</td>\n",
       "    </tr>\n",
       "    <tr>\n",
       "      <th>3</th>\n",
       "      <td>332.5</td>\n",
       "      <td>142.5</td>\n",
       "      <td>0.0</td>\n",
       "      <td>228.0</td>\n",
       "      <td>0.0</td>\n",
       "      <td>932.0</td>\n",
       "      <td>594.0</td>\n",
       "      <td>365</td>\n",
       "      <td>41.052780</td>\n",
       "    </tr>\n",
       "    <tr>\n",
       "      <th>4</th>\n",
       "      <td>198.6</td>\n",
       "      <td>132.4</td>\n",
       "      <td>0.0</td>\n",
       "      <td>192.0</td>\n",
       "      <td>0.0</td>\n",
       "      <td>978.4</td>\n",
       "      <td>825.5</td>\n",
       "      <td>360</td>\n",
       "      <td>44.296075</td>\n",
       "    </tr>\n",
       "  </tbody>\n",
       "</table>\n",
       "</div>"
      ],
      "text/plain": [
       "   Cement (component 1)(kg in a m^3 mixture)  \\\n",
       "0                                      540.0   \n",
       "1                                      540.0   \n",
       "2                                      332.5   \n",
       "3                                      332.5   \n",
       "4                                      198.6   \n",
       "\n",
       "   Blast Furnace Slag (component 2)(kg in a m^3 mixture)  \\\n",
       "0                                                0.0       \n",
       "1                                                0.0       \n",
       "2                                              142.5       \n",
       "3                                              142.5       \n",
       "4                                              132.4       \n",
       "\n",
       "   Fly Ash (component 3)(kg in a m^3 mixture)  \\\n",
       "0                                         0.0   \n",
       "1                                         0.0   \n",
       "2                                         0.0   \n",
       "3                                         0.0   \n",
       "4                                         0.0   \n",
       "\n",
       "   Water  (component 4)(kg in a m^3 mixture)  \\\n",
       "0                                      162.0   \n",
       "1                                      162.0   \n",
       "2                                      228.0   \n",
       "3                                      228.0   \n",
       "4                                      192.0   \n",
       "\n",
       "   Superplasticizer (component 5)(kg in a m^3 mixture)  \\\n",
       "0                                                2.5     \n",
       "1                                                2.5     \n",
       "2                                                0.0     \n",
       "3                                                0.0     \n",
       "4                                                0.0     \n",
       "\n",
       "   Coarse Aggregate  (component 6)(kg in a m^3 mixture)  \\\n",
       "0                                             1040.0      \n",
       "1                                             1055.0      \n",
       "2                                              932.0      \n",
       "3                                              932.0      \n",
       "4                                              978.4      \n",
       "\n",
       "   Fine Aggregate (component 7)(kg in a m^3 mixture)  Age (day)  \\\n",
       "0                                              676.0         28   \n",
       "1                                              676.0         28   \n",
       "2                                              594.0        270   \n",
       "3                                              594.0        365   \n",
       "4                                              825.5        360   \n",
       "\n",
       "   Concrete compressive strength(MPa, megapascals)   \n",
       "0                                         79.986111  \n",
       "1                                         61.887366  \n",
       "2                                         40.269535  \n",
       "3                                         41.052780  \n",
       "4                                         44.296075  "
      ]
     },
     "execution_count": 3,
     "metadata": {},
     "output_type": "execute_result"
    }
   ],
   "source": [
    "data.head()"
   ]
  },
  {
   "cell_type": "code",
   "execution_count": 4,
   "id": "eea1997a-03a8-462a-a436-05b0fd49a87f",
   "metadata": {},
   "outputs": [
    {
     "data": {
      "text/plain": [
       "(1030, 9)"
      ]
     },
     "execution_count": 4,
     "metadata": {},
     "output_type": "execute_result"
    }
   ],
   "source": [
    "data.shape"
   ]
  },
  {
   "cell_type": "markdown",
   "id": "108d240e-b870-4905-9b91-d9de6c4a520a",
   "metadata": {},
   "source": [
    "### [Data Description](https://archive.ics.uci.edu/ml/datasets/concrete+compressive+strength)\n",
    "Given are the variable name, variable type, the measurement unit and a brief description. The concrete compressive strength is the regression problem. The order of this listing corresponds to the order of numerals along the rows of the database. \n",
    "\n",
    "Name -- Data Type -- Measurement -- Description "
   ]
  },
  {
   "cell_type": "markdown",
   "id": "fa7d579a-8acc-4862-b5ef-fe307a34da7c",
   "metadata": {},
   "source": [
    "1) Cement (component 1) -- quantitative -- kg in a m3 mixture -- Input Variable \n",
    "2) Blast Furnace Slag (component 2) -- quantitative -- kg in a m3 mixture -- Input Variable \n",
    "3) Fly Ash (component 3) -- quantitative -- kg in a m3 mixture -- Input Variable \n",
    "4) Water (component 4) -- quantitative -- kg in a m3 mixture -- Input Variable \n",
    "5) Superplasticizer (component 5) -- quantitative -- kg in a m3 mixture -- Input Variable \n",
    "6) Coarse Aggregate (component 6) -- quantitative -- kg in a m3 mixture -- Input Variable \n",
    "7) Fine Aggregate (component 7) -- quantitative -- kg in a m3 mixture -- Input Variable \n",
    "8) Age -- quantitative -- Day (1~365) -- Input Variable \n",
    "9) Concrete compressive strength -- quantitative -- MPa -- Output Variable `Target`"
   ]
  },
  {
   "cell_type": "markdown",
   "id": "741f7432-8ee5-46a9-8862-c8a89a0f65d5",
   "metadata": {},
   "source": [
    "## Data Preparation"
   ]
  },
  {
   "cell_type": "code",
   "execution_count": 5,
   "id": "aee1ebb1-ce09-4f3d-8068-ad379d2d4370",
   "metadata": {},
   "outputs": [],
   "source": [
    "# rename columns\n",
    "data.columns = [\"Cement\",\"Blast Furnace Slag\",\"Fly Ash\",\"Water\",\"Superplasticizer\",\\\n",
    "                \"Coarse Aggregate\",\"Fine Aggregate\",\"Age (in Days)\",\"Target: Concrete compressive strength\"]"
   ]
  },
  {
   "cell_type": "code",
   "execution_count": 7,
   "id": "a6e28b0e-6005-4e4d-a1f6-52f102322c04",
   "metadata": {},
   "outputs": [
    {
     "data": {
      "text/html": [
       "<div>\n",
       "<style scoped>\n",
       "    .dataframe tbody tr th:only-of-type {\n",
       "        vertical-align: middle;\n",
       "    }\n",
       "\n",
       "    .dataframe tbody tr th {\n",
       "        vertical-align: top;\n",
       "    }\n",
       "\n",
       "    .dataframe thead th {\n",
       "        text-align: right;\n",
       "    }\n",
       "</style>\n",
       "<table border=\"1\" class=\"dataframe\">\n",
       "  <thead>\n",
       "    <tr style=\"text-align: right;\">\n",
       "      <th></th>\n",
       "      <th>Cement</th>\n",
       "      <th>Blast Furnace Slag</th>\n",
       "      <th>Fly Ash</th>\n",
       "      <th>Water</th>\n",
       "      <th>Superplasticizer</th>\n",
       "      <th>Coarse Aggregate</th>\n",
       "      <th>Fine Aggregate</th>\n",
       "      <th>Age (in Days)</th>\n",
       "      <th>Target: Concrete compressive strength</th>\n",
       "    </tr>\n",
       "  </thead>\n",
       "  <tbody>\n",
       "    <tr>\n",
       "      <th>0</th>\n",
       "      <td>540.0</td>\n",
       "      <td>0.0</td>\n",
       "      <td>0.0</td>\n",
       "      <td>162.0</td>\n",
       "      <td>2.5</td>\n",
       "      <td>1040.0</td>\n",
       "      <td>676.0</td>\n",
       "      <td>28</td>\n",
       "      <td>79.986111</td>\n",
       "    </tr>\n",
       "    <tr>\n",
       "      <th>1</th>\n",
       "      <td>540.0</td>\n",
       "      <td>0.0</td>\n",
       "      <td>0.0</td>\n",
       "      <td>162.0</td>\n",
       "      <td>2.5</td>\n",
       "      <td>1055.0</td>\n",
       "      <td>676.0</td>\n",
       "      <td>28</td>\n",
       "      <td>61.887366</td>\n",
       "    </tr>\n",
       "    <tr>\n",
       "      <th>2</th>\n",
       "      <td>332.5</td>\n",
       "      <td>142.5</td>\n",
       "      <td>0.0</td>\n",
       "      <td>228.0</td>\n",
       "      <td>0.0</td>\n",
       "      <td>932.0</td>\n",
       "      <td>594.0</td>\n",
       "      <td>270</td>\n",
       "      <td>40.269535</td>\n",
       "    </tr>\n",
       "    <tr>\n",
       "      <th>3</th>\n",
       "      <td>332.5</td>\n",
       "      <td>142.5</td>\n",
       "      <td>0.0</td>\n",
       "      <td>228.0</td>\n",
       "      <td>0.0</td>\n",
       "      <td>932.0</td>\n",
       "      <td>594.0</td>\n",
       "      <td>365</td>\n",
       "      <td>41.052780</td>\n",
       "    </tr>\n",
       "    <tr>\n",
       "      <th>4</th>\n",
       "      <td>198.6</td>\n",
       "      <td>132.4</td>\n",
       "      <td>0.0</td>\n",
       "      <td>192.0</td>\n",
       "      <td>0.0</td>\n",
       "      <td>978.4</td>\n",
       "      <td>825.5</td>\n",
       "      <td>360</td>\n",
       "      <td>44.296075</td>\n",
       "    </tr>\n",
       "  </tbody>\n",
       "</table>\n",
       "</div>"
      ],
      "text/plain": [
       "   Cement  Blast Furnace Slag  Fly Ash  Water  Superplasticizer  \\\n",
       "0   540.0                 0.0      0.0  162.0               2.5   \n",
       "1   540.0                 0.0      0.0  162.0               2.5   \n",
       "2   332.5               142.5      0.0  228.0               0.0   \n",
       "3   332.5               142.5      0.0  228.0               0.0   \n",
       "4   198.6               132.4      0.0  192.0               0.0   \n",
       "\n",
       "   Coarse Aggregate  Fine Aggregate  Age (in Days)  \\\n",
       "0            1040.0           676.0             28   \n",
       "1            1055.0           676.0             28   \n",
       "2             932.0           594.0            270   \n",
       "3             932.0           594.0            365   \n",
       "4             978.4           825.5            360   \n",
       "\n",
       "   Target: Concrete compressive strength  \n",
       "0                              79.986111  \n",
       "1                              61.887366  \n",
       "2                              40.269535  \n",
       "3                              41.052780  \n",
       "4                              44.296075  "
      ]
     },
     "execution_count": 7,
     "metadata": {},
     "output_type": "execute_result"
    }
   ],
   "source": [
    "data.head()"
   ]
  },
  {
   "cell_type": "markdown",
   "id": "477484a8-decd-449f-ac1e-e9a2b2220b52",
   "metadata": {},
   "source": [
    "### Split Data"
   ]
  },
  {
   "cell_type": "code",
   "execution_count": 8,
   "id": "714b3342-92d3-4afd-af25-133fb3a86d44",
   "metadata": {},
   "outputs": [],
   "source": [
    "X = data.iloc[:,:-1]\n",
    "y = data.iloc[:,-1]"
   ]
  },
  {
   "cell_type": "code",
   "execution_count": 9,
   "id": "d7eee18d-dd7f-4c13-a6b8-cdd5dccc3fdc",
   "metadata": {},
   "outputs": [
    {
     "data": {
      "text/html": [
       "<div>\n",
       "<style scoped>\n",
       "    .dataframe tbody tr th:only-of-type {\n",
       "        vertical-align: middle;\n",
       "    }\n",
       "\n",
       "    .dataframe tbody tr th {\n",
       "        vertical-align: top;\n",
       "    }\n",
       "\n",
       "    .dataframe thead th {\n",
       "        text-align: right;\n",
       "    }\n",
       "</style>\n",
       "<table border=\"1\" class=\"dataframe\">\n",
       "  <thead>\n",
       "    <tr style=\"text-align: right;\">\n",
       "      <th></th>\n",
       "      <th>Cement</th>\n",
       "      <th>Blast Furnace Slag</th>\n",
       "      <th>Fly Ash</th>\n",
       "      <th>Water</th>\n",
       "      <th>Superplasticizer</th>\n",
       "      <th>Coarse Aggregate</th>\n",
       "      <th>Fine Aggregate</th>\n",
       "      <th>Age (in Days)</th>\n",
       "    </tr>\n",
       "  </thead>\n",
       "  <tbody>\n",
       "    <tr>\n",
       "      <th>0</th>\n",
       "      <td>540.0</td>\n",
       "      <td>0.0</td>\n",
       "      <td>0.0</td>\n",
       "      <td>162.0</td>\n",
       "      <td>2.5</td>\n",
       "      <td>1040.0</td>\n",
       "      <td>676.0</td>\n",
       "      <td>28</td>\n",
       "    </tr>\n",
       "    <tr>\n",
       "      <th>1</th>\n",
       "      <td>540.0</td>\n",
       "      <td>0.0</td>\n",
       "      <td>0.0</td>\n",
       "      <td>162.0</td>\n",
       "      <td>2.5</td>\n",
       "      <td>1055.0</td>\n",
       "      <td>676.0</td>\n",
       "      <td>28</td>\n",
       "    </tr>\n",
       "    <tr>\n",
       "      <th>2</th>\n",
       "      <td>332.5</td>\n",
       "      <td>142.5</td>\n",
       "      <td>0.0</td>\n",
       "      <td>228.0</td>\n",
       "      <td>0.0</td>\n",
       "      <td>932.0</td>\n",
       "      <td>594.0</td>\n",
       "      <td>270</td>\n",
       "    </tr>\n",
       "    <tr>\n",
       "      <th>3</th>\n",
       "      <td>332.5</td>\n",
       "      <td>142.5</td>\n",
       "      <td>0.0</td>\n",
       "      <td>228.0</td>\n",
       "      <td>0.0</td>\n",
       "      <td>932.0</td>\n",
       "      <td>594.0</td>\n",
       "      <td>365</td>\n",
       "    </tr>\n",
       "    <tr>\n",
       "      <th>4</th>\n",
       "      <td>198.6</td>\n",
       "      <td>132.4</td>\n",
       "      <td>0.0</td>\n",
       "      <td>192.0</td>\n",
       "      <td>0.0</td>\n",
       "      <td>978.4</td>\n",
       "      <td>825.5</td>\n",
       "      <td>360</td>\n",
       "    </tr>\n",
       "  </tbody>\n",
       "</table>\n",
       "</div>"
      ],
      "text/plain": [
       "   Cement  Blast Furnace Slag  Fly Ash  Water  Superplasticizer  \\\n",
       "0   540.0                 0.0      0.0  162.0               2.5   \n",
       "1   540.0                 0.0      0.0  162.0               2.5   \n",
       "2   332.5               142.5      0.0  228.0               0.0   \n",
       "3   332.5               142.5      0.0  228.0               0.0   \n",
       "4   198.6               132.4      0.0  192.0               0.0   \n",
       "\n",
       "   Coarse Aggregate  Fine Aggregate  Age (in Days)  \n",
       "0            1040.0           676.0             28  \n",
       "1            1055.0           676.0             28  \n",
       "2             932.0           594.0            270  \n",
       "3             932.0           594.0            365  \n",
       "4             978.4           825.5            360  "
      ]
     },
     "execution_count": 9,
     "metadata": {},
     "output_type": "execute_result"
    }
   ],
   "source": [
    "X.head()"
   ]
  },
  {
   "cell_type": "code",
   "execution_count": 10,
   "id": "90647c9b-b3f9-452e-a4b8-30a53bba9cf6",
   "metadata": {},
   "outputs": [
    {
     "data": {
      "text/plain": [
       "0    79.986111\n",
       "1    61.887366\n",
       "2    40.269535\n",
       "3    41.052780\n",
       "4    44.296075\n",
       "Name: Target: Concrete compressive strength, dtype: float64"
      ]
     },
     "execution_count": 10,
     "metadata": {},
     "output_type": "execute_result"
    }
   ],
   "source": [
    "y.head()"
   ]
  },
  {
   "cell_type": "code",
   "execution_count": 11,
   "id": "ff015c7c-1928-481d-b8f2-106556488e5b",
   "metadata": {},
   "outputs": [],
   "source": [
    "# train test split\n",
    "X_train, X_test, y_train, y_test = train_test_split(X,y, test_size=0.2, random_state=6)"
   ]
  },
  {
   "cell_type": "code",
   "execution_count": 12,
   "id": "ceed85c5-196f-4cc1-bfea-9317b051f9d7",
   "metadata": {},
   "outputs": [
    {
     "data": {
      "text/plain": [
       "((1030, 8), (1030,))"
      ]
     },
     "execution_count": 12,
     "metadata": {},
     "output_type": "execute_result"
    }
   ],
   "source": [
    "X.shape, y.shape"
   ]
  },
  {
   "cell_type": "code",
   "execution_count": 13,
   "id": "bfc6f726-ab51-4452-8bc6-015cb37908c4",
   "metadata": {},
   "outputs": [
    {
     "data": {
      "text/plain": [
       "((824, 8), (206, 8), (824,), (206,))"
      ]
     },
     "execution_count": 13,
     "metadata": {},
     "output_type": "execute_result"
    }
   ],
   "source": [
    "X_train.shape, X_test.shape, y_train.shape, y_test.shape"
   ]
  },
  {
   "cell_type": "markdown",
   "id": "c15a4fe4-b086-46cb-8fbc-e98a828f4015",
   "metadata": {},
   "source": [
    "## Modelling"
   ]
  },
  {
   "cell_type": "code",
   "execution_count": 14,
   "id": "a6e983d3-9179-4704-a98e-d676b5f49cf7",
   "metadata": {},
   "outputs": [],
   "source": [
    "model = ens.RandomForestRegressor(criterion=\"squared_error\", n_estimators=100)\n",
    "model.fit(X_train,y_train)\n",
    "y_pred = model.predict(X_test)"
   ]
  },
  {
   "cell_type": "markdown",
   "id": "4912b9f1-4f6f-4a49-8fc0-96226f628051",
   "metadata": {},
   "source": [
    "## Evaluation"
   ]
  },
  {
   "cell_type": "code",
   "execution_count": 15,
   "id": "8e0ac06d-5e46-4fd9-98d4-a6e9da3c81f9",
   "metadata": {},
   "outputs": [
    {
     "data": {
      "text/plain": [
       "0.9267052166994242"
      ]
     },
     "execution_count": 15,
     "metadata": {},
     "output_type": "execute_result"
    }
   ],
   "source": [
    "model.score(X_test,y_test)"
   ]
  },
  {
   "cell_type": "markdown",
   "id": "a518e025-be24-48aa-a039-bf1ec896ded4",
   "metadata": {},
   "source": [
    "## Feature Selection | Filter Method | F-Score"
   ]
  },
  {
   "cell_type": "markdown",
   "id": "1884c832-59bb-491b-af8f-4028de82242e",
   "metadata": {},
   "source": [
    "**F-Score for Regression**\n",
    "\n",
    "Univariate linear regression tests returning F-statistic and p-values.\n",
    "\n",
    "Quick linear model for testing the effect of a single regressor,\n",
    "sequentially for many regressors.\n",
    "\n",
    "This is done in 2 steps:\n",
    "\n",
    "1. The cross correlation between each regressor and the target is computed\n",
    "   using :func:`r_regression`\n",
    "   \n",
    "2. It is converted to an F score and then to a p-value."
   ]
  },
  {
   "cell_type": "code",
   "execution_count": 21,
   "id": "16ee2d7e-03da-4f06-9745-9c8762d69e0d",
   "metadata": {},
   "outputs": [
    {
     "name": "stdout",
     "output_type": "stream",
     "text": [
      "F-Score:\n",
      " [338.72579369  19.03257174  11.62694924  94.11879731 159.10932173\n",
      "  28.74470957  29.58293761 124.67320926]\n",
      "\n",
      "P-Value:\n",
      " [1.32345795e-65 1.41457499e-05 6.75283560e-04 2.36607270e-21\n",
      " 5.07908924e-34 1.01959722e-07 6.69468148e-08 2.10314421e-27]\n"
     ]
    }
   ],
   "source": [
    "# Returns two array one: is F_Score and another: is its P-Value\n",
    "f_Score_P_val = feat_selec.f_regression(X,y)\n",
    "\n",
    "print(f\"F-Score:\\n {f_Score_P_val[0]}\\n\")\n",
    "print(f\"P-Value:\\n {f_Score_P_val[1]}\")"
   ]
  },
  {
   "cell_type": "code",
   "execution_count": 22,
   "id": "1eb1997d-b45a-4830-8df8-49d005d555f7",
   "metadata": {},
   "outputs": [],
   "source": [
    "# selecting top k best features \n",
    "# Select features according to the k highest scores.\n",
    "# k : represents the no. of top k features we want \n",
    "skbest = feat_selec.SelectKBest(score_func=feat_selec.f_regression, k=7)"
   ]
  },
  {
   "cell_type": "code",
   "execution_count": 24,
   "id": "0c83474f-e1ea-4131-821a-7451c2c78f64",
   "metadata": {},
   "outputs": [],
   "source": [
    "# fit transform\n",
    "selected_features = skbest.fit_transform(X,y)"
   ]
  },
  {
   "cell_type": "code",
   "execution_count": 25,
   "id": "dce24b38-01cf-4fc8-b77d-41e9ddd026db",
   "metadata": {},
   "outputs": [
    {
     "name": "stdout",
     "output_type": "stream",
     "text": [
      "['Cement' 'Blast Furnace Slag' 'Water' 'Superplasticizer'\n",
      " 'Coarse Aggregate' 'Fine Aggregate' 'Age (in Days)']\n"
     ]
    },
    {
     "data": {
      "text/plain": [
       "['Cement',\n",
       " 'Blast Furnace Slag',\n",
       " 'Water',\n",
       " 'Superplasticizer',\n",
       " 'Coarse Aggregate',\n",
       " 'Fine Aggregate',\n",
       " 'Age (in Days)']"
      ]
     },
     "execution_count": 25,
     "metadata": {},
     "output_type": "execute_result"
    }
   ],
   "source": [
    "# selected features\n",
    "print(skbest.get_feature_names_out())\n",
    "\n",
    "list(X.columns[skbest.get_support()])"
   ]
  },
  {
   "cell_type": "markdown",
   "id": "b5e31117-7e26-4f23-952f-325f9b8b6d88",
   "metadata": {},
   "source": [
    "### Selecting Features\n",
    "Selecting the top k best features"
   ]
  },
  {
   "cell_type": "code",
   "execution_count": 26,
   "id": "6a7881e7-fe73-4264-8cc9-ba42d67d78cb",
   "metadata": {},
   "outputs": [],
   "source": [
    "# Selecting the top k best features\n",
    "X_train_modi = X_train[skbest.get_feature_names_out()]\n",
    "X_test_modi = X_test[skbest.get_feature_names_out()]"
   ]
  },
  {
   "cell_type": "code",
   "execution_count": 27,
   "id": "013b4f9b-5826-4697-abcc-91c6b8b5b771",
   "metadata": {},
   "outputs": [
    {
     "data": {
      "text/html": [
       "<div>\n",
       "<style scoped>\n",
       "    .dataframe tbody tr th:only-of-type {\n",
       "        vertical-align: middle;\n",
       "    }\n",
       "\n",
       "    .dataframe tbody tr th {\n",
       "        vertical-align: top;\n",
       "    }\n",
       "\n",
       "    .dataframe thead th {\n",
       "        text-align: right;\n",
       "    }\n",
       "</style>\n",
       "<table border=\"1\" class=\"dataframe\">\n",
       "  <thead>\n",
       "    <tr style=\"text-align: right;\">\n",
       "      <th></th>\n",
       "      <th>Cement</th>\n",
       "      <th>Blast Furnace Slag</th>\n",
       "      <th>Water</th>\n",
       "      <th>Superplasticizer</th>\n",
       "      <th>Coarse Aggregate</th>\n",
       "      <th>Fine Aggregate</th>\n",
       "      <th>Age (in Days)</th>\n",
       "    </tr>\n",
       "  </thead>\n",
       "  <tbody>\n",
       "    <tr>\n",
       "      <th>457</th>\n",
       "      <td>251.37</td>\n",
       "      <td>0.0</td>\n",
       "      <td>192.94</td>\n",
       "      <td>5.75</td>\n",
       "      <td>1043.6</td>\n",
       "      <td>754.30</td>\n",
       "      <td>56</td>\n",
       "    </tr>\n",
       "    <tr>\n",
       "      <th>203</th>\n",
       "      <td>190.68</td>\n",
       "      <td>0.0</td>\n",
       "      <td>162.14</td>\n",
       "      <td>7.77</td>\n",
       "      <td>1090.0</td>\n",
       "      <td>804.01</td>\n",
       "      <td>100</td>\n",
       "    </tr>\n",
       "    <tr>\n",
       "      <th>515</th>\n",
       "      <td>202.00</td>\n",
       "      <td>11.0</td>\n",
       "      <td>206.00</td>\n",
       "      <td>1.72</td>\n",
       "      <td>942.0</td>\n",
       "      <td>801.00</td>\n",
       "      <td>28</td>\n",
       "    </tr>\n",
       "    <tr>\n",
       "      <th>340</th>\n",
       "      <td>297.16</td>\n",
       "      <td>0.0</td>\n",
       "      <td>174.80</td>\n",
       "      <td>9.52</td>\n",
       "      <td>1022.8</td>\n",
       "      <td>753.45</td>\n",
       "      <td>14</td>\n",
       "    </tr>\n",
       "    <tr>\n",
       "      <th>751</th>\n",
       "      <td>540.00</td>\n",
       "      <td>0.0</td>\n",
       "      <td>173.00</td>\n",
       "      <td>0.00</td>\n",
       "      <td>1125.0</td>\n",
       "      <td>613.00</td>\n",
       "      <td>7</td>\n",
       "    </tr>\n",
       "  </tbody>\n",
       "</table>\n",
       "</div>"
      ],
      "text/plain": [
       "     Cement  Blast Furnace Slag   Water  Superplasticizer  Coarse Aggregate  \\\n",
       "457  251.37                 0.0  192.94              5.75            1043.6   \n",
       "203  190.68                 0.0  162.14              7.77            1090.0   \n",
       "515  202.00                11.0  206.00              1.72             942.0   \n",
       "340  297.16                 0.0  174.80              9.52            1022.8   \n",
       "751  540.00                 0.0  173.00              0.00            1125.0   \n",
       "\n",
       "     Fine Aggregate  Age (in Days)  \n",
       "457          754.30             56  \n",
       "203          804.01            100  \n",
       "515          801.00             28  \n",
       "340          753.45             14  \n",
       "751          613.00              7  "
      ]
     },
     "execution_count": 27,
     "metadata": {},
     "output_type": "execute_result"
    }
   ],
   "source": [
    "X_train_modi.head()"
   ]
  },
  {
   "cell_type": "code",
   "execution_count": 28,
   "id": "23992a1b-1825-4b48-945e-a55ff7e90287",
   "metadata": {},
   "outputs": [
    {
     "data": {
      "text/html": [
       "<div>\n",
       "<style scoped>\n",
       "    .dataframe tbody tr th:only-of-type {\n",
       "        vertical-align: middle;\n",
       "    }\n",
       "\n",
       "    .dataframe tbody tr th {\n",
       "        vertical-align: top;\n",
       "    }\n",
       "\n",
       "    .dataframe thead th {\n",
       "        text-align: right;\n",
       "    }\n",
       "</style>\n",
       "<table border=\"1\" class=\"dataframe\">\n",
       "  <thead>\n",
       "    <tr style=\"text-align: right;\">\n",
       "      <th></th>\n",
       "      <th>Cement</th>\n",
       "      <th>Blast Furnace Slag</th>\n",
       "      <th>Water</th>\n",
       "      <th>Superplasticizer</th>\n",
       "      <th>Coarse Aggregate</th>\n",
       "      <th>Fine Aggregate</th>\n",
       "      <th>Age (in Days)</th>\n",
       "    </tr>\n",
       "  </thead>\n",
       "  <tbody>\n",
       "    <tr>\n",
       "      <th>148</th>\n",
       "      <td>531.30</td>\n",
       "      <td>0.00</td>\n",
       "      <td>141.80</td>\n",
       "      <td>28.20</td>\n",
       "      <td>852.1</td>\n",
       "      <td>893.70</td>\n",
       "      <td>56</td>\n",
       "    </tr>\n",
       "    <tr>\n",
       "      <th>761</th>\n",
       "      <td>350.00</td>\n",
       "      <td>0.00</td>\n",
       "      <td>203.00</td>\n",
       "      <td>0.00</td>\n",
       "      <td>974.0</td>\n",
       "      <td>775.00</td>\n",
       "      <td>90</td>\n",
       "    </tr>\n",
       "    <tr>\n",
       "      <th>232</th>\n",
       "      <td>213.72</td>\n",
       "      <td>98.05</td>\n",
       "      <td>181.71</td>\n",
       "      <td>6.86</td>\n",
       "      <td>1065.8</td>\n",
       "      <td>785.38</td>\n",
       "      <td>56</td>\n",
       "    </tr>\n",
       "    <tr>\n",
       "      <th>885</th>\n",
       "      <td>153.00</td>\n",
       "      <td>145.00</td>\n",
       "      <td>178.00</td>\n",
       "      <td>8.00</td>\n",
       "      <td>867.0</td>\n",
       "      <td>824.00</td>\n",
       "      <td>28</td>\n",
       "    </tr>\n",
       "    <tr>\n",
       "      <th>843</th>\n",
       "      <td>142.00</td>\n",
       "      <td>167.00</td>\n",
       "      <td>174.00</td>\n",
       "      <td>11.00</td>\n",
       "      <td>883.0</td>\n",
       "      <td>785.00</td>\n",
       "      <td>28</td>\n",
       "    </tr>\n",
       "  </tbody>\n",
       "</table>\n",
       "</div>"
      ],
      "text/plain": [
       "     Cement  Blast Furnace Slag   Water  Superplasticizer  Coarse Aggregate  \\\n",
       "148  531.30                0.00  141.80             28.20             852.1   \n",
       "761  350.00                0.00  203.00              0.00             974.0   \n",
       "232  213.72               98.05  181.71              6.86            1065.8   \n",
       "885  153.00              145.00  178.00              8.00             867.0   \n",
       "843  142.00              167.00  174.00             11.00             883.0   \n",
       "\n",
       "     Fine Aggregate  Age (in Days)  \n",
       "148          893.70             56  \n",
       "761          775.00             90  \n",
       "232          785.38             56  \n",
       "885          824.00             28  \n",
       "843          785.00             28  "
      ]
     },
     "execution_count": 28,
     "metadata": {},
     "output_type": "execute_result"
    }
   ],
   "source": [
    "X_test_modi.head()"
   ]
  },
  {
   "cell_type": "markdown",
   "id": "355b35cc-b6e5-4961-b8da-b7ab05b2768c",
   "metadata": {},
   "source": [
    "### Modelling"
   ]
  },
  {
   "cell_type": "code",
   "execution_count": 29,
   "id": "060a8e3b-8712-47fd-85e1-6fe6adf3666c",
   "metadata": {},
   "outputs": [],
   "source": [
    "model = ens.RandomForestRegressor(criterion=\"squared_error\", n_estimators=100)\n",
    "model.fit(X_train,y_train)\n",
    "y_pred = model.predict(X_test)"
   ]
  },
  {
   "cell_type": "markdown",
   "id": "8c758ad9-baa9-4852-8f0d-3768ba01b496",
   "metadata": {},
   "source": [
    "### Evaluation"
   ]
  },
  {
   "cell_type": "code",
   "execution_count": 30,
   "id": "24cc8264-9edc-47b5-a437-dedf4184eaa8",
   "metadata": {},
   "outputs": [
    {
     "data": {
      "text/plain": [
       "0.9282377737219897"
      ]
     },
     "execution_count": 30,
     "metadata": {},
     "output_type": "execute_result"
    }
   ],
   "source": [
    "model.score(X_test,y_test)"
   ]
  },
  {
   "cell_type": "code",
   "execution_count": null,
   "id": "6d042a69-1c77-4ea4-a33d-9123f0f79ddc",
   "metadata": {},
   "outputs": [],
   "source": []
  }
 ],
 "metadata": {
  "kernelspec": {
   "display_name": "Python 3 (ipykernel)",
   "language": "python",
   "name": "python3"
  },
  "language_info": {
   "codemirror_mode": {
    "name": "ipython",
    "version": 3
   },
   "file_extension": ".py",
   "mimetype": "text/x-python",
   "name": "python",
   "nbconvert_exporter": "python",
   "pygments_lexer": "ipython3",
   "version": "3.11.1"
  }
 },
 "nbformat": 4,
 "nbformat_minor": 5
}
